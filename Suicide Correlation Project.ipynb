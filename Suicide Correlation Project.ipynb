{
 "cells": [
  {
   "cell_type": "code",
   "execution_count": 106,
   "id": "8b195888-4988-42d9-9f59-631fa4dfe4bc",
   "metadata": {},
   "outputs": [],
   "source": [
    "# Importing libraries\n",
    "import pandas as pd\n",
    "import seaborn as sn\n",
    "import matplotlib.pyplot as plt\n",
    "plt.style.use('ggplot')\n",
    "from matplotlib.pyplot import figure\n",
    "import numpy as np\n",
    "from scipy import stats\n",
    "import panel as pn\n",
    "pn.extension('tabulator') # for creating interactive tables\n",
    "\n",
    "import hvplot.pandas #for creating interactive dataframes"
   ]
  },
  {
   "cell_type": "code",
   "execution_count": 4,
   "id": "c9920cb7-8096-4047-947c-4445249363a0",
   "metadata": {},
   "outputs": [],
   "source": [
    "# Read Data\n",
    "df = pd.read_csv(r\"C:\\Users\\daphn\\Downloads\\master.csv\")"
   ]
  },
  {
   "cell_type": "code",
   "execution_count": 111,
   "id": "f25cb13f-dae0-4ddf-93cf-8db0d9a94f7e",
   "metadata": {
    "tags": []
   },
   "outputs": [
    {
     "data": {
      "text/html": [
       "<div>\n",
       "<style scoped>\n",
       "    .dataframe tbody tr th:only-of-type {\n",
       "        vertical-align: middle;\n",
       "    }\n",
       "\n",
       "    .dataframe tbody tr th {\n",
       "        vertical-align: top;\n",
       "    }\n",
       "\n",
       "    .dataframe thead th {\n",
       "        text-align: right;\n",
       "    }\n",
       "</style>\n",
       "<table border=\"1\" class=\"dataframe\">\n",
       "  <thead>\n",
       "    <tr style=\"text-align: right;\">\n",
       "      <th></th>\n",
       "      <th>country</th>\n",
       "      <th>year</th>\n",
       "      <th>sex</th>\n",
       "      <th>age</th>\n",
       "      <th>suicides_no</th>\n",
       "      <th>population</th>\n",
       "      <th>suicides/100k pop</th>\n",
       "      <th>country-year</th>\n",
       "      <th>HDI for year</th>\n",
       "      <th>gdp_for_year ($)</th>\n",
       "      <th>gdp_per_capita</th>\n",
       "      <th>generation</th>\n",
       "    </tr>\n",
       "  </thead>\n",
       "  <tbody>\n",
       "    <tr>\n",
       "      <th>0</th>\n",
       "      <td>Albania</td>\n",
       "      <td>1987</td>\n",
       "      <td>male</td>\n",
       "      <td>15-24 years</td>\n",
       "      <td>21</td>\n",
       "      <td>312900</td>\n",
       "      <td>6.71</td>\n",
       "      <td>Albania1987</td>\n",
       "      <td>NaN</td>\n",
       "      <td>2,156,624,900</td>\n",
       "      <td>796</td>\n",
       "      <td>Generation X</td>\n",
       "    </tr>\n",
       "    <tr>\n",
       "      <th>1</th>\n",
       "      <td>Albania</td>\n",
       "      <td>1987</td>\n",
       "      <td>male</td>\n",
       "      <td>35-54 years</td>\n",
       "      <td>16</td>\n",
       "      <td>308000</td>\n",
       "      <td>5.19</td>\n",
       "      <td>Albania1987</td>\n",
       "      <td>NaN</td>\n",
       "      <td>2,156,624,900</td>\n",
       "      <td>796</td>\n",
       "      <td>Silent</td>\n",
       "    </tr>\n",
       "    <tr>\n",
       "      <th>2</th>\n",
       "      <td>Albania</td>\n",
       "      <td>1987</td>\n",
       "      <td>female</td>\n",
       "      <td>15-24 years</td>\n",
       "      <td>14</td>\n",
       "      <td>289700</td>\n",
       "      <td>4.83</td>\n",
       "      <td>Albania1987</td>\n",
       "      <td>NaN</td>\n",
       "      <td>2,156,624,900</td>\n",
       "      <td>796</td>\n",
       "      <td>Generation X</td>\n",
       "    </tr>\n",
       "    <tr>\n",
       "      <th>3</th>\n",
       "      <td>Albania</td>\n",
       "      <td>1987</td>\n",
       "      <td>male</td>\n",
       "      <td>75+ years</td>\n",
       "      <td>1</td>\n",
       "      <td>21800</td>\n",
       "      <td>4.59</td>\n",
       "      <td>Albania1987</td>\n",
       "      <td>NaN</td>\n",
       "      <td>2,156,624,900</td>\n",
       "      <td>796</td>\n",
       "      <td>G.I. Generation</td>\n",
       "    </tr>\n",
       "    <tr>\n",
       "      <th>4</th>\n",
       "      <td>Albania</td>\n",
       "      <td>1987</td>\n",
       "      <td>male</td>\n",
       "      <td>25-34 years</td>\n",
       "      <td>9</td>\n",
       "      <td>274300</td>\n",
       "      <td>3.28</td>\n",
       "      <td>Albania1987</td>\n",
       "      <td>NaN</td>\n",
       "      <td>2,156,624,900</td>\n",
       "      <td>796</td>\n",
       "      <td>Boomers</td>\n",
       "    </tr>\n",
       "  </tbody>\n",
       "</table>\n",
       "</div>"
      ],
      "text/plain": [
       "   country  year     sex          age  suicides_no  population  \\\n",
       "0  Albania  1987    male  15-24 years           21      312900   \n",
       "1  Albania  1987    male  35-54 years           16      308000   \n",
       "2  Albania  1987  female  15-24 years           14      289700   \n",
       "3  Albania  1987    male    75+ years            1       21800   \n",
       "4  Albania  1987    male  25-34 years            9      274300   \n",
       "\n",
       "   suicides/100k pop country-year  HDI for year  gdp_for_year ($)   \\\n",
       "0               6.71  Albania1987           NaN      2,156,624,900   \n",
       "1               5.19  Albania1987           NaN      2,156,624,900   \n",
       "2               4.83  Albania1987           NaN      2,156,624,900   \n",
       "3               4.59  Albania1987           NaN      2,156,624,900   \n",
       "4               3.28  Albania1987           NaN      2,156,624,900   \n",
       "\n",
       "   gdp_per_capita       generation  \n",
       "0             796     Generation X  \n",
       "1             796           Silent  \n",
       "2             796     Generation X  \n",
       "3             796  G.I. Generation  \n",
       "4             796          Boomers  "
      ]
     },
     "execution_count": 111,
     "metadata": {},
     "output_type": "execute_result"
    }
   ],
   "source": [
    "# View data\n",
    "df.head()"
   ]
  },
  {
   "cell_type": "markdown",
   "id": "e2a60db3-f186-4bf9-92b1-4c605903bfa2",
   "metadata": {},
   "source": [
    "# Data Cleaning"
   ]
  },
  {
   "cell_type": "code",
   "execution_count": 6,
   "id": "dc046605-6678-4eba-a200-d6047ecd35e8",
   "metadata": {
    "collapsed": true,
    "jupyter": {
     "outputs_hidden": true
    },
    "tags": []
   },
   "outputs": [
    {
     "name": "stdout",
     "output_type": "stream",
     "text": [
      "country-0.0%\n",
      "year-0.0%\n",
      "sex-0.0%\n",
      "age-0.0%\n",
      "suicides_no-0.0%\n",
      "population-0.0%\n",
      "suicides/100k pop-0.0%\n",
      "country-year-0.0%\n",
      "HDI for year-0.699352983465133%\n",
      " gdp_for_year ($) -0.0%\n",
      "gdp_per_capita ($)-0.0%\n",
      "generation-0.0%\n"
     ]
    }
   ],
   "source": [
    "#Checking for missing data fields\n",
    "for col in df.columns:\n",
    "    pct_missing=np.mean(df[col].isnull())\n",
    "    print ('{}-{}%'.format(col,pct_missing))"
   ]
  },
  {
   "cell_type": "code",
   "execution_count": 14,
   "id": "d086c7b1-cf5f-431f-8d4f-8cac60defb5f",
   "metadata": {},
   "outputs": [],
   "source": [
    "#Rename columns\n",
    "df.rename(columns={'gdp_for_year ($)':'gdp_for_year','gdp_per_capita ($)':'gdp_per_capita',\n",
    "                                       'gdp_per_capita ($)':'gdp_per_capita'},inplace=True)"
   ]
  },
  {
   "cell_type": "markdown",
   "id": "20d317ce-0d3e-4c18-a27d-d8b76fb23b2b",
   "metadata": {},
   "source": [
    "# Date Processing\n",
    "+ Creating widgets\n",
    "+Filtering data for use in our visualization"
   ]
  },
  {
   "cell_type": "code",
   "execution_count": 110,
   "id": "a0ff96c4-fd1c-4554-8b26-3246482bf18e",
   "metadata": {
    "tags": []
   },
   "outputs": [
    {
     "data": {
      "text/html": [
       "<div>\n",
       "<style scoped>\n",
       "    .dataframe tbody tr th:only-of-type {\n",
       "        vertical-align: middle;\n",
       "    }\n",
       "\n",
       "    .dataframe tbody tr th {\n",
       "        vertical-align: top;\n",
       "    }\n",
       "\n",
       "    .dataframe thead th {\n",
       "        text-align: right;\n",
       "    }\n",
       "</style>\n",
       "<table border=\"1\" class=\"dataframe\">\n",
       "  <thead>\n",
       "    <tr style=\"text-align: right;\">\n",
       "      <th></th>\n",
       "      <th>country</th>\n",
       "      <th>year</th>\n",
       "      <th>sex</th>\n",
       "      <th>age</th>\n",
       "      <th>suicides_no</th>\n",
       "      <th>population</th>\n",
       "      <th>suicides/100k pop</th>\n",
       "      <th>country-year</th>\n",
       "      <th>HDI for year</th>\n",
       "      <th>gdp_for_year ($)</th>\n",
       "      <th>gdp_per_capita</th>\n",
       "      <th>generation</th>\n",
       "    </tr>\n",
       "  </thead>\n",
       "  <tbody>\n",
       "    <tr>\n",
       "      <th>0</th>\n",
       "      <td>Albania</td>\n",
       "      <td>1987</td>\n",
       "      <td>male</td>\n",
       "      <td>15-24 years</td>\n",
       "      <td>21</td>\n",
       "      <td>312900</td>\n",
       "      <td>6.71</td>\n",
       "      <td>Albania1987</td>\n",
       "      <td>NaN</td>\n",
       "      <td>2,156,624,900</td>\n",
       "      <td>796</td>\n",
       "      <td>Generation X</td>\n",
       "    </tr>\n",
       "    <tr>\n",
       "      <th>1</th>\n",
       "      <td>Albania</td>\n",
       "      <td>1987</td>\n",
       "      <td>male</td>\n",
       "      <td>35-54 years</td>\n",
       "      <td>16</td>\n",
       "      <td>308000</td>\n",
       "      <td>5.19</td>\n",
       "      <td>Albania1987</td>\n",
       "      <td>NaN</td>\n",
       "      <td>2,156,624,900</td>\n",
       "      <td>796</td>\n",
       "      <td>Silent</td>\n",
       "    </tr>\n",
       "    <tr>\n",
       "      <th>2</th>\n",
       "      <td>Albania</td>\n",
       "      <td>1987</td>\n",
       "      <td>female</td>\n",
       "      <td>15-24 years</td>\n",
       "      <td>14</td>\n",
       "      <td>289700</td>\n",
       "      <td>4.83</td>\n",
       "      <td>Albania1987</td>\n",
       "      <td>NaN</td>\n",
       "      <td>2,156,624,900</td>\n",
       "      <td>796</td>\n",
       "      <td>Generation X</td>\n",
       "    </tr>\n",
       "    <tr>\n",
       "      <th>3</th>\n",
       "      <td>Albania</td>\n",
       "      <td>1987</td>\n",
       "      <td>male</td>\n",
       "      <td>75+ years</td>\n",
       "      <td>1</td>\n",
       "      <td>21800</td>\n",
       "      <td>4.59</td>\n",
       "      <td>Albania1987</td>\n",
       "      <td>NaN</td>\n",
       "      <td>2,156,624,900</td>\n",
       "      <td>796</td>\n",
       "      <td>G.I. Generation</td>\n",
       "    </tr>\n",
       "    <tr>\n",
       "      <th>4</th>\n",
       "      <td>Albania</td>\n",
       "      <td>1987</td>\n",
       "      <td>male</td>\n",
       "      <td>25-34 years</td>\n",
       "      <td>9</td>\n",
       "      <td>274300</td>\n",
       "      <td>3.28</td>\n",
       "      <td>Albania1987</td>\n",
       "      <td>NaN</td>\n",
       "      <td>2,156,624,900</td>\n",
       "      <td>796</td>\n",
       "      <td>Boomers</td>\n",
       "    </tr>\n",
       "  </tbody>\n",
       "</table>\n",
       "</div>"
      ],
      "text/plain": [
       "   country  year     sex          age  suicides_no  population  \\\n",
       "0  Albania  1987    male  15-24 years           21      312900   \n",
       "1  Albania  1987    male  35-54 years           16      308000   \n",
       "2  Albania  1987  female  15-24 years           14      289700   \n",
       "3  Albania  1987    male    75+ years            1       21800   \n",
       "4  Albania  1987    male  25-34 years            9      274300   \n",
       "\n",
       "   suicides/100k pop country-year  HDI for year  gdp_for_year ($)   \\\n",
       "0               6.71  Albania1987           NaN      2,156,624,900   \n",
       "1               5.19  Albania1987           NaN      2,156,624,900   \n",
       "2               4.83  Albania1987           NaN      2,156,624,900   \n",
       "3               4.59  Albania1987           NaN      2,156,624,900   \n",
       "4               3.28  Albania1987           NaN      2,156,624,900   \n",
       "\n",
       "   gdp_per_capita       generation  \n",
       "0             796     Generation X  \n",
       "1             796           Silent  \n",
       "2             796     Generation X  \n",
       "3             796  G.I. Generation  \n",
       "4             796          Boomers  "
      ]
     },
     "execution_count": 110,
     "metadata": {},
     "output_type": "execute_result"
    }
   ],
   "source": [
    "df.head()"
   ]
  },
  {
   "cell_type": "code",
   "execution_count": 113,
   "id": "76f2be0b-b18f-4043-87e6-e3236e23cfe1",
   "metadata": {
    "tags": []
   },
   "outputs": [
    {
     "data": {
      "text/html": [
       "<div>\n",
       "<style scoped>\n",
       "    .dataframe tbody tr th:only-of-type {\n",
       "        vertical-align: middle;\n",
       "    }\n",
       "\n",
       "    .dataframe tbody tr th {\n",
       "        vertical-align: top;\n",
       "    }\n",
       "\n",
       "    .dataframe thead th {\n",
       "        text-align: right;\n",
       "    }\n",
       "</style>\n",
       "<table border=\"1\" class=\"dataframe\">\n",
       "  <thead>\n",
       "    <tr style=\"text-align: right;\">\n",
       "      <th></th>\n",
       "      <th>country</th>\n",
       "      <th>year</th>\n",
       "      <th>sex</th>\n",
       "      <th>age</th>\n",
       "      <th>suicides_no</th>\n",
       "      <th>population</th>\n",
       "      <th>suicides/100k pop</th>\n",
       "      <th>country-year</th>\n",
       "      <th>HDI for year</th>\n",
       "      <th>gdp_for_year ($)</th>\n",
       "      <th>gdp_per_capita</th>\n",
       "      <th>generation</th>\n",
       "    </tr>\n",
       "  </thead>\n",
       "  <tbody>\n",
       "    <tr>\n",
       "      <th>0</th>\n",
       "      <td>Albania</td>\n",
       "      <td>1987</td>\n",
       "      <td>male</td>\n",
       "      <td>15-24 years</td>\n",
       "      <td>21</td>\n",
       "      <td>312900</td>\n",
       "      <td>6.71</td>\n",
       "      <td>Albania1987</td>\n",
       "      <td>NaN</td>\n",
       "      <td>2,156,624,900</td>\n",
       "      <td>796</td>\n",
       "      <td>Generation X</td>\n",
       "    </tr>\n",
       "    <tr>\n",
       "      <th>1</th>\n",
       "      <td>Albania</td>\n",
       "      <td>1987</td>\n",
       "      <td>male</td>\n",
       "      <td>35-54 years</td>\n",
       "      <td>16</td>\n",
       "      <td>308000</td>\n",
       "      <td>5.19</td>\n",
       "      <td>Albania1987</td>\n",
       "      <td>NaN</td>\n",
       "      <td>2,156,624,900</td>\n",
       "      <td>796</td>\n",
       "      <td>Silent</td>\n",
       "    </tr>\n",
       "    <tr>\n",
       "      <th>2</th>\n",
       "      <td>Albania</td>\n",
       "      <td>1987</td>\n",
       "      <td>female</td>\n",
       "      <td>15-24 years</td>\n",
       "      <td>14</td>\n",
       "      <td>289700</td>\n",
       "      <td>4.83</td>\n",
       "      <td>Albania1987</td>\n",
       "      <td>NaN</td>\n",
       "      <td>2,156,624,900</td>\n",
       "      <td>796</td>\n",
       "      <td>Generation X</td>\n",
       "    </tr>\n",
       "    <tr>\n",
       "      <th>3</th>\n",
       "      <td>Albania</td>\n",
       "      <td>1987</td>\n",
       "      <td>male</td>\n",
       "      <td>75+ years</td>\n",
       "      <td>1</td>\n",
       "      <td>21800</td>\n",
       "      <td>4.59</td>\n",
       "      <td>Albania1987</td>\n",
       "      <td>NaN</td>\n",
       "      <td>2,156,624,900</td>\n",
       "      <td>796</td>\n",
       "      <td>G.I. Generation</td>\n",
       "    </tr>\n",
       "    <tr>\n",
       "      <th>4</th>\n",
       "      <td>Albania</td>\n",
       "      <td>1987</td>\n",
       "      <td>male</td>\n",
       "      <td>25-34 years</td>\n",
       "      <td>9</td>\n",
       "      <td>274300</td>\n",
       "      <td>3.28</td>\n",
       "      <td>Albania1987</td>\n",
       "      <td>NaN</td>\n",
       "      <td>2,156,624,900</td>\n",
       "      <td>796</td>\n",
       "      <td>Boomers</td>\n",
       "    </tr>\n",
       "  </tbody>\n",
       "</table>\n",
       "</div>"
      ],
      "text/plain": [
       "   country  year     sex          age  suicides_no  population  \\\n",
       "0  Albania  1987    male  15-24 years           21      312900   \n",
       "1  Albania  1987    male  35-54 years           16      308000   \n",
       "2  Albania  1987  female  15-24 years           14      289700   \n",
       "3  Albania  1987    male    75+ years            1       21800   \n",
       "4  Albania  1987    male  25-34 years            9      274300   \n",
       "\n",
       "   suicides/100k pop country-year  HDI for year  gdp_for_year ($)   \\\n",
       "0               6.71  Albania1987           NaN      2,156,624,900   \n",
       "1               5.19  Albania1987           NaN      2,156,624,900   \n",
       "2               4.83  Albania1987           NaN      2,156,624,900   \n",
       "3               4.59  Albania1987           NaN      2,156,624,900   \n",
       "4               3.28  Albania1987           NaN      2,156,624,900   \n",
       "\n",
       "   gdp_per_capita       generation  \n",
       "0             796     Generation X  \n",
       "1             796           Silent  \n",
       "2             796     Generation X  \n",
       "3             796  G.I. Generation  \n",
       "4             796          Boomers  "
      ]
     },
     "execution_count": 113,
     "metadata": {},
     "output_type": "execute_result"
    }
   ],
   "source": [
    "# Sorting data by gdp_per_capita\n",
    "df.sort_values(by=['gdp_per_capita'], inplace=False, ascending=False)\n",
    "df.head()"
   ]
  },
  {
   "cell_type": "code",
   "execution_count": 18,
   "id": "f743a4f6-7edd-4c1e-9ba6-f417b95ca02b",
   "metadata": {},
   "outputs": [],
   "source": [
    "# Make Dataframe Pipeline Interactive\n",
    "idf=df.interactive()"
   ]
  },
  {
   "cell_type": "code",
   "execution_count": 20,
   "id": "2f0d95bb-1bb4-417c-84d6-6cb1a63bf860",
   "metadata": {},
   "outputs": [
    {
     "data": {},
     "metadata": {},
     "output_type": "display_data"
    },
    {
     "data": {
      "application/vnd.holoviews_exec.v0+json": "",
      "text/html": [
       "<div id='1002'>\n",
       "\n",
       "\n",
       "\n",
       "\n",
       "\n",
       "  <div class=\"bk-root\" id=\"68d5f017-e5f1-419f-9f41-796b4f9a1674\" data-root-id=\"1002\"></div>\n",
       "</div>\n",
       "<script type=\"application/javascript\">(function(root) {\n",
       "  function embed_document(root) {\n",
       "    var docs_json = {\"17d6b2dc-1285-48c0-9607-29d2ac024dde\":{\"defs\":[{\"extends\":null,\"module\":null,\"name\":\"ReactiveHTML1\",\"overrides\":[],\"properties\":[]},{\"extends\":null,\"module\":null,\"name\":\"FlexBox1\",\"overrides\":[],\"properties\":[{\"default\":\"flex-start\",\"kind\":null,\"name\":\"align_content\"},{\"default\":\"flex-start\",\"kind\":null,\"name\":\"align_items\"},{\"default\":\"row\",\"kind\":null,\"name\":\"flex_direction\"},{\"default\":\"wrap\",\"kind\":null,\"name\":\"flex_wrap\"},{\"default\":\"flex-start\",\"kind\":null,\"name\":\"justify_content\"}]},{\"extends\":null,\"module\":null,\"name\":\"GridStack1\",\"overrides\":[],\"properties\":[{\"default\":\"warn\",\"kind\":null,\"name\":\"mode\"},{\"default\":null,\"kind\":null,\"name\":\"ncols\"},{\"default\":null,\"kind\":null,\"name\":\"nrows\"},{\"default\":true,\"kind\":null,\"name\":\"allow_resize\"},{\"default\":true,\"kind\":null,\"name\":\"allow_drag\"},{\"default\":[],\"kind\":null,\"name\":\"state\"}]},{\"extends\":null,\"module\":null,\"name\":\"click1\",\"overrides\":[],\"properties\":[{\"default\":\"\",\"kind\":null,\"name\":\"terminal_output\"},{\"default\":\"\",\"kind\":null,\"name\":\"debug_name\"},{\"default\":0,\"kind\":null,\"name\":\"clears\"}]},{\"extends\":null,\"module\":null,\"name\":\"TemplateActions1\",\"overrides\":[],\"properties\":[{\"default\":0,\"kind\":null,\"name\":\"open_modal\"},{\"default\":0,\"kind\":null,\"name\":\"close_modal\"}]},{\"extends\":null,\"module\":null,\"name\":\"MaterialTemplateActions1\",\"overrides\":[],\"properties\":[{\"default\":0,\"kind\":null,\"name\":\"open_modal\"},{\"default\":0,\"kind\":null,\"name\":\"close_modal\"}]}],\"roots\":{\"references\":[{\"attributes\":{\"reload\":false},\"id\":\"1004\",\"type\":\"panel.models.location.Location\"},{\"attributes\":{\"end\":2017,\"margin\":[5,10,5,10],\"start\":1987,\"step\":3,\"title\":\"Year slider\",\"value\":1987},\"id\":\"1002\",\"type\":\"Slider\"},{\"attributes\":{\"client_comm_id\":\"c4ef8a933ea14da4a79a8e2badfb99cb\",\"comm_id\":\"3a878d7f8bdb49ac8afecb33c175303f\",\"plot_id\":\"1002\"},\"id\":\"1003\",\"type\":\"panel.models.comm_manager.CommManager\"}],\"root_ids\":[\"1002\",\"1003\",\"1004\"]},\"title\":\"Bokeh Application\",\"version\":\"2.4.2\"}};\n",
       "    var render_items = [{\"docid\":\"17d6b2dc-1285-48c0-9607-29d2ac024dde\",\"root_ids\":[\"1002\"],\"roots\":{\"1002\":\"68d5f017-e5f1-419f-9f41-796b4f9a1674\"}}];\n",
       "    root.Bokeh.embed.embed_items_notebook(docs_json, render_items);\n",
       "  }\n",
       "  if (root.Bokeh !== undefined && root.Bokeh.Panel !== undefined && ( root['Tabulator'] !== undefined)) {\n",
       "    embed_document(root);\n",
       "  } else {\n",
       "    var attempts = 0;\n",
       "    var timer = setInterval(function(root) {\n",
       "      if (root.Bokeh !== undefined && root.Bokeh.Panel !== undefined && (root['Tabulator'] !== undefined)) {\n",
       "        clearInterval(timer);\n",
       "        embed_document(root);\n",
       "      } else if (document.readyState == \"complete\") {\n",
       "        attempts++;\n",
       "        if (attempts > 200) {\n",
       "          clearInterval(timer);\n",
       "          console.log(\"Bokeh: ERROR: Unable to run BokehJS code because BokehJS library is missing\");\n",
       "        }\n",
       "      }\n",
       "    }, 25, root)\n",
       "  }\n",
       "})(window);</script>"
      ],
      "text/plain": [
       "IntSlider(end=2017, name='Year slider', start=1987, step=3, value=1987)"
      ]
     },
     "execution_count": 20,
     "metadata": {
      "application/vnd.holoviews_exec.v0+json": {
       "id": "1002"
      }
     },
     "output_type": "execute_result"
    }
   ],
   "source": [
    "#Define panel widgets, widgets like sliders,interactive elements on dashboard\n",
    "year_slider=pn.widgets.IntSlider(name='Year slider', start=1987, end=2017, step=3)\n",
    "year_slider"
   ]
  },
  {
   "cell_type": "code",
   "execution_count": 23,
   "id": "0b5eddac-e7cf-45ce-b5e3-850f13a70466",
   "metadata": {},
   "outputs": [],
   "source": [
    "#Radio buttons for suicide measures\n",
    "yaxis_suicide_no=pn.widgets.RadioButtonGroup(\n",
    "    name='Y axis',\n",
    "    options=['suicides_no', 'suicides/100k pop',],\n",
    "    button_type='success'\n",
    ")"
   ]
  },
  {
   "cell_type": "code",
   "execution_count": 77,
   "id": "31b5b69c-c767-41fa-8230-b4b1c0611ba1",
   "metadata": {},
   "outputs": [],
   "source": [
    "# Connecting Data Pipeline with widgets, so anythime we change widget data is also updated\n",
    "countries=['Canada', 'Qatar', 'United States', 'United Kingdom', 'Russian Federation',]\n",
    "suicide_pipeline= (\n",
    "    idf[\n",
    "        (idf.year<=year_slider) &\n",
    "        (idf.country.isin(countries))\n",
    "    ]\n",
    "    .groupby(['country', 'year'])[yaxis_suicide_no].mean()\n",
    "    .to_frame()\n",
    "    .reset_index()\n",
    "    .sort_values(by='year')\n",
    "    .reset_index(drop=True)\n",
    ")\n",
    "                "
   ]
  },
  {
   "cell_type": "code",
   "execution_count": 49,
   "id": "5c0b36e5-8780-43f7-98f2-67b69267af67",
   "metadata": {
    "tags": []
   },
   "outputs": [
    {
     "data": {},
     "metadata": {},
     "output_type": "display_data"
    },
    {
     "data": {
      "application/vnd.holoviews_exec.v0+json": "",
      "text/html": [
       "<div id='7177'>\n",
       "\n",
       "\n",
       "\n",
       "\n",
       "\n",
       "  <div class=\"bk-root\" id=\"561d6617-fac5-4feb-8ca9-a19e74d272de\" data-root-id=\"7177\"></div>\n",
       "</div>\n",
       "<script type=\"application/javascript\">(function(root) {\n",
       "  function embed_document(root) {\n",
       "    var docs_json = {\"a0f44fcb-4e2a-480f-a5d3-452749a85152\":{\"defs\":[{\"extends\":null,\"module\":null,\"name\":\"ReactiveHTML1\",\"overrides\":[],\"properties\":[]},{\"extends\":null,\"module\":null,\"name\":\"FlexBox1\",\"overrides\":[],\"properties\":[{\"default\":\"flex-start\",\"kind\":null,\"name\":\"align_content\"},{\"default\":\"flex-start\",\"kind\":null,\"name\":\"align_items\"},{\"default\":\"row\",\"kind\":null,\"name\":\"flex_direction\"},{\"default\":\"wrap\",\"kind\":null,\"name\":\"flex_wrap\"},{\"default\":\"flex-start\",\"kind\":null,\"name\":\"justify_content\"}]},{\"extends\":null,\"module\":null,\"name\":\"GridStack1\",\"overrides\":[],\"properties\":[{\"default\":\"warn\",\"kind\":null,\"name\":\"mode\"},{\"default\":null,\"kind\":null,\"name\":\"ncols\"},{\"default\":null,\"kind\":null,\"name\":\"nrows\"},{\"default\":true,\"kind\":null,\"name\":\"allow_resize\"},{\"default\":true,\"kind\":null,\"name\":\"allow_drag\"},{\"default\":[],\"kind\":null,\"name\":\"state\"}]},{\"extends\":null,\"module\":null,\"name\":\"click1\",\"overrides\":[],\"properties\":[{\"default\":\"\",\"kind\":null,\"name\":\"terminal_output\"},{\"default\":\"\",\"kind\":null,\"name\":\"debug_name\"},{\"default\":0,\"kind\":null,\"name\":\"clears\"}]},{\"extends\":null,\"module\":null,\"name\":\"TemplateActions1\",\"overrides\":[],\"properties\":[{\"default\":0,\"kind\":null,\"name\":\"open_modal\"},{\"default\":0,\"kind\":null,\"name\":\"close_modal\"}]},{\"extends\":null,\"module\":null,\"name\":\"MaterialTemplateActions1\",\"overrides\":[],\"properties\":[{\"default\":0,\"kind\":null,\"name\":\"open_modal\"},{\"default\":0,\"kind\":null,\"name\":\"close_modal\"}]}],\"roots\":{\"references\":[{\"attributes\":{\"children\":[{\"id\":\"7179\"},{\"id\":\"7184\"}],\"margin\":[0,0,0,0],\"name\":\"Column32212\"},\"id\":\"7178\",\"type\":\"Column\"},{\"attributes\":{\"children\":[{\"id\":\"7185\"}],\"margin\":[0,0,0,0],\"name\":\"Row32182\"},\"id\":\"7184\",\"type\":\"Row\"},{\"attributes\":{\"margin\":[5,5,5,5],\"name\":\"HSpacer32210\",\"sizing_mode\":\"stretch_width\"},\"id\":\"7183\",\"type\":\"Spacer\"},{\"attributes\":{\"margin\":[5,5,5,5],\"name\":\"DataFrame32208\",\"text\":\"&lt;table border=&quot;0&quot; class=&quot;dataframe panel-df&quot;&gt;\\n  &lt;thead&gt;\\n    &lt;tr style=&quot;text-align: right;&quot;&gt;\\n      &lt;th&gt;&lt;/th&gt;\\n      &lt;th&gt;country&lt;/th&gt;\\n      &lt;th&gt;year&lt;/th&gt;\\n      &lt;th&gt;suicides_no&lt;/th&gt;\\n    &lt;/tr&gt;\\n  &lt;/thead&gt;\\n  &lt;tbody&gt;\\n    &lt;tr&gt;\\n      &lt;th&gt;0&lt;/th&gt;\\n      &lt;td&gt;Canada&lt;/td&gt;\\n      &lt;td&gt;1985&lt;/td&gt;\\n      &lt;td&gt;271.500000&lt;/td&gt;\\n    &lt;/tr&gt;\\n    &lt;tr&gt;\\n      &lt;th&gt;1&lt;/th&gt;\\n      &lt;td&gt;United Kingdom&lt;/td&gt;\\n      &lt;td&gt;1985&lt;/td&gt;\\n      &lt;td&gt;425.416667&lt;/td&gt;\\n    &lt;/tr&gt;\\n    &lt;tr&gt;\\n      &lt;th&gt;2&lt;/th&gt;\\n      &lt;td&gt;United States&lt;/td&gt;\\n      &lt;td&gt;1985&lt;/td&gt;\\n      &lt;td&gt;2453.833333&lt;/td&gt;\\n    &lt;/tr&gt;\\n    &lt;tr&gt;\\n      &lt;th&gt;3&lt;/th&gt;\\n      &lt;td&gt;Canada&lt;/td&gt;\\n      &lt;td&gt;1986&lt;/td&gt;\\n      &lt;td&gt;305.833333&lt;/td&gt;\\n    &lt;/tr&gt;\\n    &lt;tr&gt;\\n      &lt;th&gt;4&lt;/th&gt;\\n      &lt;td&gt;United Kingdom&lt;/td&gt;\\n      &lt;td&gt;1986&lt;/td&gt;\\n      &lt;td&gt;403.250000&lt;/td&gt;\\n    &lt;/tr&gt;\\n    &lt;tr&gt;\\n      &lt;th&gt;5&lt;/th&gt;\\n      &lt;td&gt;United States&lt;/td&gt;\\n      &lt;td&gt;1986&lt;/td&gt;\\n      &lt;td&gt;2574.333333&lt;/td&gt;\\n    &lt;/tr&gt;\\n    &lt;tr&gt;\\n      &lt;th&gt;6&lt;/th&gt;\\n      &lt;td&gt;United Kingdom&lt;/td&gt;\\n      &lt;td&gt;1987&lt;/td&gt;\\n      &lt;td&gt;382.833333&lt;/td&gt;\\n    &lt;/tr&gt;\\n    &lt;tr&gt;\\n      &lt;th&gt;7&lt;/th&gt;\\n      &lt;td&gt;United States&lt;/td&gt;\\n      &lt;td&gt;1987&lt;/td&gt;\\n      &lt;td&gt;2565.250000&lt;/td&gt;\\n    &lt;/tr&gt;\\n    &lt;tr&gt;\\n      &lt;th&gt;8&lt;/th&gt;\\n      &lt;td&gt;Canada&lt;/td&gt;\\n      &lt;td&gt;1987&lt;/td&gt;\\n      &lt;td&gt;299.250000&lt;/td&gt;\\n    &lt;/tr&gt;\\n    &lt;tr&gt;\\n      &lt;th&gt;9&lt;/th&gt;\\n      &lt;td&gt;Canada&lt;/td&gt;\\n      &lt;td&gt;1988&lt;/td&gt;\\n      &lt;td&gt;292.500000&lt;/td&gt;\\n    &lt;/tr&gt;\\n    &lt;tr&gt;\\n      &lt;th&gt;10&lt;/th&gt;\\n      &lt;td&gt;United Kingdom&lt;/td&gt;\\n      &lt;td&gt;1988&lt;/td&gt;\\n      &lt;td&gt;414.250000&lt;/td&gt;\\n    &lt;/tr&gt;\\n    &lt;tr&gt;\\n      &lt;th&gt;11&lt;/th&gt;\\n      &lt;td&gt;United States&lt;/td&gt;\\n      &lt;td&gt;1988&lt;/td&gt;\\n      &lt;td&gt;2532.333333&lt;/td&gt;\\n    &lt;/tr&gt;\\n    &lt;tr&gt;\\n      &lt;th&gt;12&lt;/th&gt;\\n      &lt;td&gt;United Kingdom&lt;/td&gt;\\n      &lt;td&gt;1989&lt;/td&gt;\\n      &lt;td&gt;363.416667&lt;/td&gt;\\n    &lt;/tr&gt;\\n    &lt;tr&gt;\\n      &lt;th&gt;13&lt;/th&gt;\\n      &lt;td&gt;Russian Federation&lt;/td&gt;\\n      &lt;td&gt;1989&lt;/td&gt;\\n      &lt;td&gt;3160.083333&lt;/td&gt;\\n    &lt;/tr&gt;\\n    &lt;tr&gt;\\n      &lt;th&gt;14&lt;/th&gt;\\n      &lt;td&gt;United States&lt;/td&gt;\\n      &lt;td&gt;1989&lt;/td&gt;\\n      &lt;td&gt;2518.166667&lt;/td&gt;\\n    &lt;/tr&gt;\\n    &lt;tr&gt;\\n      &lt;th&gt;15&lt;/th&gt;\\n      &lt;td&gt;Canada&lt;/td&gt;\\n      &lt;td&gt;1989&lt;/td&gt;\\n      &lt;td&gt;290.916667&lt;/td&gt;\\n    &lt;/tr&gt;\\n    &lt;tr&gt;\\n      &lt;th&gt;16&lt;/th&gt;\\n      &lt;td&gt;Russian Federation&lt;/td&gt;\\n      &lt;td&gt;1990&lt;/td&gt;\\n      &lt;td&gt;3252.333333&lt;/td&gt;\\n    &lt;/tr&gt;\\n    &lt;tr&gt;\\n      &lt;th&gt;17&lt;/th&gt;\\n      &lt;td&gt;United Kingdom&lt;/td&gt;\\n      &lt;td&gt;1990&lt;/td&gt;\\n      &lt;td&gt;386.916667&lt;/td&gt;\\n    &lt;/tr&gt;\\n    &lt;tr&gt;\\n      &lt;th&gt;18&lt;/th&gt;\\n      &lt;td&gt;United States&lt;/td&gt;\\n      &lt;td&gt;1990&lt;/td&gt;\\n      &lt;td&gt;2574.583333&lt;/td&gt;\\n    &lt;/tr&gt;\\n    &lt;tr&gt;\\n      &lt;th&gt;19&lt;/th&gt;\\n      &lt;td&gt;Canada&lt;/td&gt;\\n      &lt;td&gt;1990&lt;/td&gt;\\n      &lt;td&gt;281.500000&lt;/td&gt;\\n    &lt;/tr&gt;\\n    &lt;tr&gt;\\n      &lt;th&gt;20&lt;/th&gt;\\n      &lt;td&gt;Canada&lt;/td&gt;\\n      &lt;td&gt;1991&lt;/td&gt;\\n      &lt;td&gt;299.416667&lt;/td&gt;\\n    &lt;/tr&gt;\\n    &lt;tr&gt;\\n      &lt;th&gt;21&lt;/th&gt;\\n      &lt;td&gt;United States&lt;/td&gt;\\n      &lt;td&gt;1991&lt;/td&gt;\\n      &lt;td&gt;2565.833333&lt;/td&gt;\\n    &lt;/tr&gt;\\n    &lt;tr&gt;\\n      &lt;th&gt;22&lt;/th&gt;\\n      &lt;td&gt;Russian Federation&lt;/td&gt;\\n      &lt;td&gt;1991&lt;/td&gt;\\n      &lt;td&gt;3273.416667&lt;/td&gt;\\n    &lt;/tr&gt;\\n    &lt;tr&gt;\\n      &lt;th&gt;23&lt;/th&gt;\\n      &lt;td&gt;United Kingdom&lt;/td&gt;\\n      &lt;td&gt;1991&lt;/td&gt;\\n      &lt;td&gt;378.916667&lt;/td&gt;\\n    &lt;/tr&gt;\\n    &lt;tr&gt;\\n      &lt;th&gt;24&lt;/th&gt;\\n      &lt;td&gt;Russian Federation&lt;/td&gt;\\n      &lt;td&gt;1992&lt;/td&gt;\\n      &lt;td&gt;3826.916667&lt;/td&gt;\\n    &lt;/tr&gt;\\n    &lt;tr&gt;\\n      &lt;th&gt;25&lt;/th&gt;\\n      &lt;td&gt;United Kingdom&lt;/td&gt;\\n      &lt;td&gt;1992&lt;/td&gt;\\n      &lt;td&gt;385.666667&lt;/td&gt;\\n    &lt;/tr&gt;\\n    &lt;tr&gt;\\n      &lt;th&gt;26&lt;/th&gt;\\n      &lt;td&gt;United States&lt;/td&gt;\\n      &lt;td&gt;1992&lt;/td&gt;\\n      &lt;td&gt;2539.250000&lt;/td&gt;\\n    &lt;/tr&gt;\\n    &lt;tr&gt;\\n      &lt;th&gt;27&lt;/th&gt;\\n      &lt;td&gt;Canada&lt;/td&gt;\\n      &lt;td&gt;1992&lt;/td&gt;\\n      &lt;td&gt;309.000000&lt;/td&gt;\\n    &lt;/tr&gt;\\n    &lt;tr&gt;\\n      &lt;th&gt;28&lt;/th&gt;\\n      &lt;td&gt;Russian Federation&lt;/td&gt;\\n      &lt;td&gt;1993&lt;/td&gt;\\n      &lt;td&gt;4653.833333&lt;/td&gt;\\n    &lt;/tr&gt;\\n    &lt;tr&gt;\\n      &lt;th&gt;29&lt;/th&gt;\\n      &lt;td&gt;Canada&lt;/td&gt;\\n      &lt;td&gt;1993&lt;/td&gt;\\n      &lt;td&gt;316.916667&lt;/td&gt;\\n    &lt;/tr&gt;\\n    &lt;tr&gt;\\n      &lt;th&gt;30&lt;/th&gt;\\n      &lt;td&gt;United Kingdom&lt;/td&gt;\\n      &lt;td&gt;1993&lt;/td&gt;\\n      &lt;td&gt;371.833333&lt;/td&gt;\\n    &lt;/tr&gt;\\n    &lt;tr&gt;\\n      &lt;th&gt;31&lt;/th&gt;\\n      &lt;td&gt;United States&lt;/td&gt;\\n      &lt;td&gt;1993&lt;/td&gt;\\n      &lt;td&gt;2590.333333&lt;/td&gt;\\n    &lt;/tr&gt;\\n    &lt;tr&gt;\\n      &lt;th&gt;32&lt;/th&gt;\\n      &lt;td&gt;Canada&lt;/td&gt;\\n      &lt;td&gt;1994&lt;/td&gt;\\n      &lt;td&gt;312.333333&lt;/td&gt;\\n    &lt;/tr&gt;\\n    &lt;tr&gt;\\n      &lt;th&gt;33&lt;/th&gt;\\n      &lt;td&gt;United Kingdom&lt;/td&gt;\\n      &lt;td&gt;1994&lt;/td&gt;\\n      &lt;td&gt;365.000000&lt;/td&gt;\\n    &lt;/tr&gt;\\n    &lt;tr&gt;\\n      &lt;th&gt;34&lt;/th&gt;\\n      &lt;td&gt;United States&lt;/td&gt;\\n      &lt;td&gt;1994&lt;/td&gt;\\n      &lt;td&gt;2593.583333&lt;/td&gt;\\n    &lt;/tr&gt;\\n    &lt;tr&gt;\\n      &lt;th&gt;35&lt;/th&gt;\\n      &lt;td&gt;Russian Federation&lt;/td&gt;\\n      &lt;td&gt;1994&lt;/td&gt;\\n      &lt;td&gt;5118.333333&lt;/td&gt;\\n    &lt;/tr&gt;\\n    &lt;tr&gt;\\n      &lt;th&gt;36&lt;/th&gt;\\n      &lt;td&gt;United Kingdom&lt;/td&gt;\\n      &lt;td&gt;1995&lt;/td&gt;\\n      &lt;td&gt;359.583333&lt;/td&gt;\\n    &lt;/tr&gt;\\n    &lt;tr&gt;\\n      &lt;th&gt;37&lt;/th&gt;\\n      &lt;td&gt;Russian Federation&lt;/td&gt;\\n      &lt;td&gt;1995&lt;/td&gt;\\n      &lt;td&gt;5045.666667&lt;/td&gt;\\n    &lt;/tr&gt;\\n    &lt;tr&gt;\\n      &lt;th&gt;38&lt;/th&gt;\\n      &lt;td&gt;Qatar&lt;/td&gt;\\n      &lt;td&gt;1995&lt;/td&gt;\\n      &lt;td&gt;0.000000&lt;/td&gt;\\n    &lt;/tr&gt;\\n    &lt;tr&gt;\\n      &lt;th&gt;39&lt;/th&gt;\\n      &lt;td&gt;United States&lt;/td&gt;\\n      &lt;td&gt;1995&lt;/td&gt;\\n      &lt;td&gt;2606.000000&lt;/td&gt;\\n    &lt;/tr&gt;\\n    &lt;tr&gt;\\n      &lt;th&gt;40&lt;/th&gt;\\n      &lt;td&gt;Canada&lt;/td&gt;\\n      &lt;td&gt;1995&lt;/td&gt;\\n      &lt;td&gt;330.666667&lt;/td&gt;\\n    &lt;/tr&gt;\\n    &lt;tr&gt;\\n      &lt;th&gt;41&lt;/th&gt;\\n      &lt;td&gt;United Kingdom&lt;/td&gt;\\n      &lt;td&gt;1996&lt;/td&gt;\\n      &lt;td&gt;347.083333&lt;/td&gt;\\n    &lt;/tr&gt;\\n    &lt;tr&gt;\\n      &lt;th&gt;42&lt;/th&gt;\\n      &lt;td&gt;United States&lt;/td&gt;\\n      &lt;td&gt;1996&lt;/td&gt;\\n      &lt;td&gt;2573.250000&lt;/td&gt;\\n    &lt;/tr&gt;\\n    &lt;tr&gt;\\n      &lt;th&gt;43&lt;/th&gt;\\n      &lt;td&gt;Russian Federation&lt;/td&gt;\\n      &lt;td&gt;1996&lt;/td&gt;\\n      &lt;td&gt;4792.583333&lt;/td&gt;\\n    &lt;/tr&gt;\\n    &lt;tr&gt;\\n      &lt;th&gt;44&lt;/th&gt;\\n      &lt;td&gt;Canada&lt;/td&gt;\\n      &lt;td&gt;1996&lt;/td&gt;\\n      &lt;td&gt;328.416667&lt;/td&gt;\\n    &lt;/tr&gt;\\n    &lt;tr&gt;\\n      &lt;th&gt;45&lt;/th&gt;\\n      &lt;td&gt;United Kingdom&lt;/td&gt;\\n      &lt;td&gt;1997&lt;/td&gt;\\n      &lt;td&gt;345.250000&lt;/td&gt;\\n    &lt;/tr&gt;\\n    &lt;tr&gt;\\n      &lt;th&gt;46&lt;/th&gt;\\n      &lt;td&gt;United States&lt;/td&gt;\\n      &lt;td&gt;1997&lt;/td&gt;\\n      &lt;td&gt;2543.083333&lt;/td&gt;\\n    &lt;/tr&gt;\\n    &lt;tr&gt;\\n      &lt;th&gt;47&lt;/th&gt;\\n      &lt;td&gt;Russian Federation&lt;/td&gt;\\n      &lt;td&gt;1997&lt;/td&gt;\\n      &lt;td&gt;4562.166667&lt;/td&gt;\\n    &lt;/tr&gt;\\n    &lt;tr&gt;\\n      &lt;th&gt;48&lt;/th&gt;\\n      &lt;td&gt;Canada&lt;/td&gt;\\n      &lt;td&gt;1997&lt;/td&gt;\\n      &lt;td&gt;306.750000&lt;/td&gt;\\n    &lt;/tr&gt;\\n    &lt;tr&gt;\\n      &lt;th&gt;49&lt;/th&gt;\\n      &lt;td&gt;Canada&lt;/td&gt;\\n      &lt;td&gt;1998&lt;/td&gt;\\n      &lt;td&gt;308.250000&lt;/td&gt;\\n    &lt;/tr&gt;\\n    &lt;tr&gt;\\n      &lt;th&gt;...&lt;/th&gt;\\n      &lt;td&gt;...&lt;/td&gt;\\n      &lt;td&gt;...&lt;/td&gt;\\n      &lt;td&gt;...&lt;/td&gt;\\n    &lt;/tr&gt;\\n    &lt;tr&gt;\\n      &lt;th&gt;64&lt;/th&gt;\\n      &lt;td&gt;Canada&lt;/td&gt;\\n      &lt;td&gt;2001&lt;/td&gt;\\n      &lt;td&gt;307.833333&lt;/td&gt;\\n    &lt;/tr&gt;\\n    &lt;tr&gt;\\n      &lt;th&gt;65&lt;/th&gt;\\n      &lt;td&gt;Russian Federation&lt;/td&gt;\\n      &lt;td&gt;2001&lt;/td&gt;\\n      &lt;td&gt;4746.500000&lt;/td&gt;\\n    &lt;/tr&gt;\\n    &lt;tr&gt;\\n      &lt;th&gt;66&lt;/th&gt;\\n      &lt;td&gt;United Kingdom&lt;/td&gt;\\n      &lt;td&gt;2002&lt;/td&gt;\\n      &lt;td&gt;343.083333&lt;/td&gt;\\n    &lt;/tr&gt;\\n    &lt;tr&gt;\\n      &lt;th&gt;67&lt;/th&gt;\\n      &lt;td&gt;United States&lt;/td&gt;\\n      &lt;td&gt;2002&lt;/td&gt;\\n      &lt;td&gt;2637.083333&lt;/td&gt;\\n    &lt;/tr&gt;\\n    &lt;tr&gt;\\n      &lt;th&gt;68&lt;/th&gt;\\n      &lt;td&gt;Russian Federation&lt;/td&gt;\\n      &lt;td&gt;2002&lt;/td&gt;\\n      &lt;td&gt;4585.333333&lt;/td&gt;\\n    &lt;/tr&gt;\\n    &lt;tr&gt;\\n      &lt;th&gt;69&lt;/th&gt;\\n      &lt;td&gt;Canada&lt;/td&gt;\\n      &lt;td&gt;2002&lt;/td&gt;\\n      &lt;td&gt;304.166667&lt;/td&gt;\\n    &lt;/tr&gt;\\n    &lt;tr&gt;\\n      &lt;th&gt;70&lt;/th&gt;\\n      &lt;td&gt;Russian Federation&lt;/td&gt;\\n      &lt;td&gt;2003&lt;/td&gt;\\n      &lt;td&gt;4287.083333&lt;/td&gt;\\n    &lt;/tr&gt;\\n    &lt;tr&gt;\\n      &lt;th&gt;71&lt;/th&gt;\\n      &lt;td&gt;United States&lt;/td&gt;\\n      &lt;td&gt;2003&lt;/td&gt;\\n      &lt;td&gt;2623.083333&lt;/td&gt;\\n    &lt;/tr&gt;\\n    &lt;tr&gt;\\n      &lt;th&gt;72&lt;/th&gt;\\n      &lt;td&gt;Canada&lt;/td&gt;\\n      &lt;td&gt;2003&lt;/td&gt;\\n      &lt;td&gt;313.750000&lt;/td&gt;\\n    &lt;/tr&gt;\\n    &lt;tr&gt;\\n      &lt;th&gt;73&lt;/th&gt;\\n      &lt;td&gt;United Kingdom&lt;/td&gt;\\n      &lt;td&gt;2003&lt;/td&gt;\\n      &lt;td&gt;331.583333&lt;/td&gt;\\n    &lt;/tr&gt;\\n    &lt;tr&gt;\\n      &lt;th&gt;74&lt;/th&gt;\\n      &lt;td&gt;Russian Federation&lt;/td&gt;\\n      &lt;td&gt;2004&lt;/td&gt;\\n      &lt;td&gt;4091.333333&lt;/td&gt;\\n    &lt;/tr&gt;\\n    &lt;tr&gt;\\n      &lt;th&gt;75&lt;/th&gt;\\n      &lt;td&gt;United States&lt;/td&gt;\\n      &lt;td&gt;2004&lt;/td&gt;\\n      &lt;td&gt;2702.333333&lt;/td&gt;\\n    &lt;/tr&gt;\\n    &lt;tr&gt;\\n      &lt;th&gt;76&lt;/th&gt;\\n      &lt;td&gt;Canada&lt;/td&gt;\\n      &lt;td&gt;2004&lt;/td&gt;\\n      &lt;td&gt;301.083333&lt;/td&gt;\\n    &lt;/tr&gt;\\n    &lt;tr&gt;\\n      &lt;th&gt;77&lt;/th&gt;\\n      &lt;td&gt;Qatar&lt;/td&gt;\\n      &lt;td&gt;2004&lt;/td&gt;\\n      &lt;td&gt;1.750000&lt;/td&gt;\\n    &lt;/tr&gt;\\n    &lt;tr&gt;\\n      &lt;th&gt;78&lt;/th&gt;\\n      &lt;td&gt;United Kingdom&lt;/td&gt;\\n      &lt;td&gt;2004&lt;/td&gt;\\n      &lt;td&gt;348.583333&lt;/td&gt;\\n    &lt;/tr&gt;\\n    &lt;tr&gt;\\n      &lt;th&gt;79&lt;/th&gt;\\n      &lt;td&gt;Qatar&lt;/td&gt;\\n      &lt;td&gt;2005&lt;/td&gt;\\n      &lt;td&gt;1.416667&lt;/td&gt;\\n    &lt;/tr&gt;\\n    &lt;tr&gt;\\n      &lt;th&gt;80&lt;/th&gt;\\n      &lt;td&gt;Canada&lt;/td&gt;\\n      &lt;td&gt;2005&lt;/td&gt;\\n      &lt;td&gt;311.916667&lt;/td&gt;\\n    &lt;/tr&gt;\\n    &lt;tr&gt;\\n      &lt;th&gt;81&lt;/th&gt;\\n      &lt;td&gt;United States&lt;/td&gt;\\n      &lt;td&gt;2005&lt;/td&gt;\\n      &lt;td&gt;2719.083333&lt;/td&gt;\\n    &lt;/tr&gt;\\n    &lt;tr&gt;\\n      &lt;th&gt;82&lt;/th&gt;\\n      &lt;td&gt;Russian Federation&lt;/td&gt;\\n      &lt;td&gt;2005&lt;/td&gt;\\n      &lt;td&gt;3816.833333&lt;/td&gt;\\n    &lt;/tr&gt;\\n    &lt;tr&gt;\\n      &lt;th&gt;83&lt;/th&gt;\\n      &lt;td&gt;United Kingdom&lt;/td&gt;\\n      &lt;td&gt;2005&lt;/td&gt;\\n      &lt;td&gt;337.250000&lt;/td&gt;\\n    &lt;/tr&gt;\\n    &lt;tr&gt;\\n      &lt;th&gt;84&lt;/th&gt;\\n      &lt;td&gt;United Kingdom&lt;/td&gt;\\n      &lt;td&gt;2006&lt;/td&gt;\\n      &lt;td&gt;343.500000&lt;/td&gt;\\n    &lt;/tr&gt;\\n    &lt;tr&gt;\\n      &lt;th&gt;85&lt;/th&gt;\\n      &lt;td&gt;United States&lt;/td&gt;\\n      &lt;td&gt;2006&lt;/td&gt;\\n      &lt;td&gt;2774.333333&lt;/td&gt;\\n    &lt;/tr&gt;\\n    &lt;tr&gt;\\n      &lt;th&gt;86&lt;/th&gt;\\n      &lt;td&gt;Canada&lt;/td&gt;\\n      &lt;td&gt;2006&lt;/td&gt;\\n      &lt;td&gt;292.666667&lt;/td&gt;\\n    &lt;/tr&gt;\\n    &lt;tr&gt;\\n      &lt;th&gt;87&lt;/th&gt;\\n      &lt;td&gt;Qatar&lt;/td&gt;\\n      &lt;td&gt;2006&lt;/td&gt;\\n      &lt;td&gt;2.416667&lt;/td&gt;\\n    &lt;/tr&gt;\\n    &lt;tr&gt;\\n      &lt;th&gt;88&lt;/th&gt;\\n      &lt;td&gt;Russian Federation&lt;/td&gt;\\n      &lt;td&gt;2006&lt;/td&gt;\\n      &lt;td&gt;3551.166667&lt;/td&gt;\\n    &lt;/tr&gt;\\n    &lt;tr&gt;\\n      &lt;th&gt;89&lt;/th&gt;\\n      &lt;td&gt;United Kingdom&lt;/td&gt;\\n      &lt;td&gt;2007&lt;/td&gt;\\n      &lt;td&gt;324.750000&lt;/td&gt;\\n    &lt;/tr&gt;\\n    &lt;tr&gt;\\n      &lt;th&gt;90&lt;/th&gt;\\n      &lt;td&gt;United States&lt;/td&gt;\\n      &lt;td&gt;2007&lt;/td&gt;\\n      &lt;td&gt;2883.000000&lt;/td&gt;\\n    &lt;/tr&gt;\\n    &lt;tr&gt;\\n      &lt;th&gt;91&lt;/th&gt;\\n      &lt;td&gt;Canada&lt;/td&gt;\\n      &lt;td&gt;2007&lt;/td&gt;\\n      &lt;td&gt;300.916667&lt;/td&gt;\\n    &lt;/tr&gt;\\n    &lt;tr&gt;\\n      &lt;th&gt;92&lt;/th&gt;\\n      &lt;td&gt;Qatar&lt;/td&gt;\\n      &lt;td&gt;2007&lt;/td&gt;\\n      &lt;td&gt;3.416667&lt;/td&gt;\\n    &lt;/tr&gt;\\n    &lt;tr&gt;\\n      &lt;th&gt;93&lt;/th&gt;\\n      &lt;td&gt;Russian Federation&lt;/td&gt;\\n      &lt;td&gt;2007&lt;/td&gt;\\n      &lt;td&gt;3429.083333&lt;/td&gt;\\n    &lt;/tr&gt;\\n    &lt;tr&gt;\\n      &lt;th&gt;94&lt;/th&gt;\\n      &lt;td&gt;United States&lt;/td&gt;\\n      &lt;td&gt;2008&lt;/td&gt;\\n      &lt;td&gt;3002.500000&lt;/td&gt;\\n    &lt;/tr&gt;\\n    &lt;tr&gt;\\n      &lt;th&gt;95&lt;/th&gt;\\n      &lt;td&gt;Russian Federation&lt;/td&gt;\\n      &lt;td&gt;2008&lt;/td&gt;\\n      &lt;td&gt;3184.250000&lt;/td&gt;\\n    &lt;/tr&gt;\\n    &lt;tr&gt;\\n      &lt;th&gt;96&lt;/th&gt;\\n      &lt;td&gt;United Kingdom&lt;/td&gt;\\n      &lt;td&gt;2008&lt;/td&gt;\\n      &lt;td&gt;354.916667&lt;/td&gt;\\n    &lt;/tr&gt;\\n    &lt;tr&gt;\\n      &lt;th&gt;97&lt;/th&gt;\\n      &lt;td&gt;Canada&lt;/td&gt;\\n      &lt;td&gt;2008&lt;/td&gt;\\n      &lt;td&gt;308.750000&lt;/td&gt;\\n    &lt;/tr&gt;\\n    &lt;tr&gt;\\n      &lt;th&gt;98&lt;/th&gt;\\n      &lt;td&gt;Qatar&lt;/td&gt;\\n      &lt;td&gt;2008&lt;/td&gt;\\n      &lt;td&gt;2.750000&lt;/td&gt;\\n    &lt;/tr&gt;\\n    &lt;tr&gt;\\n      &lt;th&gt;99&lt;/th&gt;\\n      &lt;td&gt;United Kingdom&lt;/td&gt;\\n      &lt;td&gt;2009&lt;/td&gt;\\n      &lt;td&gt;353.833333&lt;/td&gt;\\n    &lt;/tr&gt;\\n    &lt;tr&gt;\\n      &lt;th&gt;100&lt;/th&gt;\\n      &lt;td&gt;United States&lt;/td&gt;\\n      &lt;td&gt;2009&lt;/td&gt;\\n      &lt;td&gt;3075.000000&lt;/td&gt;\\n    &lt;/tr&gt;\\n    &lt;tr&gt;\\n      &lt;th&gt;101&lt;/th&gt;\\n      &lt;td&gt;Russian Federation&lt;/td&gt;\\n      &lt;td&gt;2009&lt;/td&gt;\\n      &lt;td&gt;3117.333333&lt;/td&gt;\\n    &lt;/tr&gt;\\n    &lt;tr&gt;\\n      &lt;th&gt;102&lt;/th&gt;\\n      &lt;td&gt;Canada&lt;/td&gt;\\n      &lt;td&gt;2009&lt;/td&gt;\\n      &lt;td&gt;324.166667&lt;/td&gt;\\n    &lt;/tr&gt;\\n    &lt;tr&gt;\\n      &lt;th&gt;103&lt;/th&gt;\\n      &lt;td&gt;Qatar&lt;/td&gt;\\n      &lt;td&gt;2009&lt;/td&gt;\\n      &lt;td&gt;3.666667&lt;/td&gt;\\n    &lt;/tr&gt;\\n    &lt;tr&gt;\\n      &lt;th&gt;104&lt;/th&gt;\\n      &lt;td&gt;United Kingdom&lt;/td&gt;\\n      &lt;td&gt;2010&lt;/td&gt;\\n      &lt;td&gt;349.000000&lt;/td&gt;\\n    &lt;/tr&gt;\\n    &lt;tr&gt;\\n      &lt;th&gt;105&lt;/th&gt;\\n      &lt;td&gt;Canada&lt;/td&gt;\\n      &lt;td&gt;2010&lt;/td&gt;\\n      &lt;td&gt;329.250000&lt;/td&gt;\\n    &lt;/tr&gt;\\n    &lt;tr&gt;\\n      &lt;th&gt;106&lt;/th&gt;\\n      &lt;td&gt;Qatar&lt;/td&gt;\\n      &lt;td&gt;2010&lt;/td&gt;\\n      &lt;td&gt;3.916667&lt;/td&gt;\\n    &lt;/tr&gt;\\n    &lt;tr&gt;\\n      &lt;th&gt;107&lt;/th&gt;\\n      &lt;td&gt;United States&lt;/td&gt;\\n      &lt;td&gt;2010&lt;/td&gt;\\n      &lt;td&gt;3196.833333&lt;/td&gt;\\n    &lt;/tr&gt;\\n    &lt;tr&gt;\\n      &lt;th&gt;108&lt;/th&gt;\\n      &lt;td&gt;Russian Federation&lt;/td&gt;\\n      &lt;td&gt;2010&lt;/td&gt;\\n      &lt;td&gt;2779.666667&lt;/td&gt;\\n    &lt;/tr&gt;\\n    &lt;tr&gt;\\n      &lt;th&gt;109&lt;/th&gt;\\n      &lt;td&gt;Canada&lt;/td&gt;\\n      &lt;td&gt;2011&lt;/td&gt;\\n      &lt;td&gt;310.666667&lt;/td&gt;\\n    &lt;/tr&gt;\\n    &lt;tr&gt;\\n      &lt;th&gt;110&lt;/th&gt;\\n      &lt;td&gt;Qatar&lt;/td&gt;\\n      &lt;td&gt;2011&lt;/td&gt;\\n      &lt;td&gt;4.166667&lt;/td&gt;\\n    &lt;/tr&gt;\\n    &lt;tr&gt;\\n      &lt;th&gt;111&lt;/th&gt;\\n      &lt;td&gt;Russian Federation&lt;/td&gt;\\n      &lt;td&gt;2011&lt;/td&gt;\\n      &lt;td&gt;2586.500000&lt;/td&gt;\\n    &lt;/tr&gt;\\n    &lt;tr&gt;\\n      &lt;th&gt;112&lt;/th&gt;\\n      &lt;td&gt;United Kingdom&lt;/td&gt;\\n      &lt;td&gt;2011&lt;/td&gt;\\n      &lt;td&gt;366.083333&lt;/td&gt;\\n    &lt;/tr&gt;\\n    &lt;tr&gt;\\n      &lt;th&gt;113&lt;/th&gt;\\n      &lt;td&gt;United States&lt;/td&gt;\\n      &lt;td&gt;2011&lt;/td&gt;\\n      &lt;td&gt;3292.333333&lt;/td&gt;\\n    &lt;/tr&gt;\\n  &lt;/tbody&gt;\\n&lt;/table&gt;\"},\"id\":\"7185\",\"type\":\"panel.models.markup.HTML\"},{\"attributes\":{\"children\":[{\"id\":\"7180\"},{\"id\":\"7183\"}],\"margin\":[0,0,0,0],\"name\":\"Row32211\"},\"id\":\"7179\",\"type\":\"Row\"},{\"attributes\":{\"client_comm_id\":\"85c30d4092864151a563a0174ce0d925\",\"comm_id\":\"c4ce410f64b0474d909a4cd8e477d6ab\",\"plot_id\":\"7177\"},\"id\":\"7186\",\"type\":\"panel.models.comm_manager.CommManager\"},{\"attributes\":{\"active\":0,\"button_type\":\"success\",\"labels\":[\"suicides_no\",\"suicides/100k pop\"],\"margin\":[5,10,5,10]},\"id\":\"7182\",\"type\":\"RadioButtonGroup\"},{\"attributes\":{\"children\":[{\"id\":\"7178\"}],\"margin\":[0,0,0,0],\"name\":\"Row32213\"},\"id\":\"7177\",\"type\":\"Row\"},{\"attributes\":{\"end\":2017,\"margin\":[5,10,5,10],\"start\":1987,\"step\":3,\"title\":\"Year slider\",\"value\":2011},\"id\":\"7181\",\"type\":\"Slider\"},{\"attributes\":{\"children\":[{\"id\":\"7181\"},{\"id\":\"7182\"}],\"margin\":[0,0,0,0],\"name\":\"Column32177\"},\"id\":\"7180\",\"type\":\"Column\"}],\"root_ids\":[\"7177\",\"7186\"]},\"title\":\"Bokeh Application\",\"version\":\"2.4.2\"}};\n",
       "    var render_items = [{\"docid\":\"a0f44fcb-4e2a-480f-a5d3-452749a85152\",\"root_ids\":[\"7177\"],\"roots\":{\"7177\":\"561d6617-fac5-4feb-8ca9-a19e74d272de\"}}];\n",
       "    root.Bokeh.embed.embed_items_notebook(docs_json, render_items);\n",
       "  }\n",
       "  if (root.Bokeh !== undefined && root.Bokeh.Panel !== undefined && ( root['Tabulator'] !== undefined)) {\n",
       "    embed_document(root);\n",
       "  } else {\n",
       "    var attempts = 0;\n",
       "    var timer = setInterval(function(root) {\n",
       "      if (root.Bokeh !== undefined && root.Bokeh.Panel !== undefined && (root['Tabulator'] !== undefined)) {\n",
       "        clearInterval(timer);\n",
       "        embed_document(root);\n",
       "      } else if (document.readyState == \"complete\") {\n",
       "        attempts++;\n",
       "        if (attempts > 200) {\n",
       "          clearInterval(timer);\n",
       "          console.log(\"Bokeh: ERROR: Unable to run BokehJS code because BokehJS library is missing\");\n",
       "        }\n",
       "      }\n",
       "    }, 25, root)\n",
       "  }\n",
       "})(window);</script>"
      ],
      "text/plain": [
       "<hvplot.interactive.Interactive at 0x150956a8ee0>"
      ]
     },
     "execution_count": 49,
     "metadata": {
      "application/vnd.holoviews_exec.v0+json": {
       "id": "7177"
      }
     },
     "output_type": "execute_result"
    }
   ],
   "source": [
    "#Showing the widget for the suicide pipeline we just created\n",
    "suicide_pipeline"
   ]
  },
  {
   "cell_type": "markdown",
   "id": "4fc072fc-1ae4-459d-a1ff-8ce87320c7df",
   "metadata": {},
   "source": [
    "# Suicide Rate overtime by Country Graph"
   ]
  },
  {
   "cell_type": "code",
   "execution_count": 50,
   "id": "0767d321-b9c7-4e39-bf33-f682b9d98d7c",
   "metadata": {
    "tags": []
   },
   "outputs": [
    {
     "data": {},
     "metadata": {},
     "output_type": "display_data"
    },
    {
     "data": {},
     "metadata": {},
     "output_type": "display_data"
    },
    {
     "data": {
      "application/vnd.holoviews_exec.v0+json": "",
      "text/html": [
       "<div id='7187'>\n",
       "\n",
       "\n",
       "\n",
       "\n",
       "\n",
       "  <div class=\"bk-root\" id=\"c94efc4d-73e6-4849-99d5-9ef809ebfcc8\" data-root-id=\"7187\"></div>\n",
       "</div>\n",
       "<script type=\"application/javascript\">(function(root) {\n",
       "  function embed_document(root) {\n",
       "    var docs_json = {\"fc6f889f-5812-41da-a557-ec1af7264703\":{\"defs\":[{\"extends\":null,\"module\":null,\"name\":\"ReactiveHTML1\",\"overrides\":[],\"properties\":[]},{\"extends\":null,\"module\":null,\"name\":\"FlexBox1\",\"overrides\":[],\"properties\":[{\"default\":\"flex-start\",\"kind\":null,\"name\":\"align_content\"},{\"default\":\"flex-start\",\"kind\":null,\"name\":\"align_items\"},{\"default\":\"row\",\"kind\":null,\"name\":\"flex_direction\"},{\"default\":\"wrap\",\"kind\":null,\"name\":\"flex_wrap\"},{\"default\":\"flex-start\",\"kind\":null,\"name\":\"justify_content\"}]},{\"extends\":null,\"module\":null,\"name\":\"GridStack1\",\"overrides\":[],\"properties\":[{\"default\":\"warn\",\"kind\":null,\"name\":\"mode\"},{\"default\":null,\"kind\":null,\"name\":\"ncols\"},{\"default\":null,\"kind\":null,\"name\":\"nrows\"},{\"default\":true,\"kind\":null,\"name\":\"allow_resize\"},{\"default\":true,\"kind\":null,\"name\":\"allow_drag\"},{\"default\":[],\"kind\":null,\"name\":\"state\"}]},{\"extends\":null,\"module\":null,\"name\":\"click1\",\"overrides\":[],\"properties\":[{\"default\":\"\",\"kind\":null,\"name\":\"terminal_output\"},{\"default\":\"\",\"kind\":null,\"name\":\"debug_name\"},{\"default\":0,\"kind\":null,\"name\":\"clears\"}]},{\"extends\":null,\"module\":null,\"name\":\"TemplateActions1\",\"overrides\":[],\"properties\":[{\"default\":0,\"kind\":null,\"name\":\"open_modal\"},{\"default\":0,\"kind\":null,\"name\":\"close_modal\"}]},{\"extends\":null,\"module\":null,\"name\":\"MaterialTemplateActions1\",\"overrides\":[],\"properties\":[{\"default\":0,\"kind\":null,\"name\":\"open_modal\"},{\"default\":0,\"kind\":null,\"name\":\"close_modal\"}]}],\"roots\":{\"references\":[{\"attributes\":{\"label\":{\"value\":\"Qatar\"},\"renderers\":[{\"id\":\"7264\"}]},\"id\":\"7278\",\"type\":\"LegendItem\"},{\"attributes\":{},\"id\":\"7232\",\"type\":\"BasicTickFormatter\"},{\"attributes\":{\"children\":[{\"id\":\"7190\"},{\"id\":\"7193\"}],\"margin\":[0,0,0,0],\"name\":\"Row32410\"},\"id\":\"7189\",\"type\":\"Row\"},{\"attributes\":{\"children\":[{\"id\":\"7188\"}],\"margin\":[0,0,0,0],\"name\":\"Row32417\"},\"id\":\"7187\",\"type\":\"Row\"},{\"attributes\":{\"coordinates\":null,\"group\":null,\"text\":\"Suicide Rate by Country\",\"text_color\":\"black\",\"text_font_size\":\"12pt\"},\"id\":\"7202\",\"type\":\"Title\"},{\"attributes\":{\"line_color\":\"#e5ae38\",\"line_width\":2.5,\"x\":{\"field\":\"year\"},\"y\":{\"field\":\"suicides_no\"}},\"id\":\"7303\",\"type\":\"Line\"},{\"attributes\":{},\"id\":\"7211\",\"type\":\"BasicTicker\"},{\"attributes\":{\"label\":{\"value\":\"United Kingdom\"},\"renderers\":[{\"id\":\"7310\"}]},\"id\":\"7328\",\"type\":\"LegendItem\"},{\"attributes\":{},\"id\":\"7219\",\"type\":\"PanTool\"},{\"attributes\":{\"axis_label\":\"year\",\"coordinates\":null,\"formatter\":{\"id\":\"7232\"},\"group\":null,\"major_label_policy\":{\"id\":\"7233\"},\"ticker\":{\"id\":\"7211\"}},\"id\":\"7210\",\"type\":\"LinearAxis\"},{\"attributes\":{\"axis\":{\"id\":\"7214\"},\"coordinates\":null,\"dimension\":1,\"grid_line_color\":null,\"group\":null,\"ticker\":null},\"id\":\"7217\",\"type\":\"Grid\"},{\"attributes\":{},\"id\":\"7275\",\"type\":\"UnionRenderers\"},{\"attributes\":{\"coordinates\":null,\"data_source\":{\"id\":\"7304\"},\"glyph\":{\"id\":\"7307\"},\"group\":null,\"hover_glyph\":null,\"muted_glyph\":{\"id\":\"7309\"},\"nonselection_glyph\":{\"id\":\"7308\"},\"selection_glyph\":{\"id\":\"7329\"},\"view\":{\"id\":\"7311\"}},\"id\":\"7310\",\"type\":\"GlyphRenderer\"},{\"attributes\":{\"label\":{\"value\":\"Russian Federation\"},\"renderers\":[{\"id\":\"7286\"}]},\"id\":\"7302\",\"type\":\"LegendItem\"},{\"attributes\":{},\"id\":\"7208\",\"type\":\"LinearScale\"},{\"attributes\":{},\"id\":\"7218\",\"type\":\"SaveTool\"},{\"attributes\":{},\"id\":\"7215\",\"type\":\"BasicTicker\"},{\"attributes\":{\"source\":{\"id\":\"7330\"}},\"id\":\"7337\",\"type\":\"CDSView\"},{\"attributes\":{\"active\":0,\"button_type\":\"success\",\"labels\":[\"suicides_no\",\"suicides/100k pop\"],\"margin\":[5,10,5,10]},\"id\":\"7192\",\"type\":\"RadioButtonGroup\"},{\"attributes\":{},\"id\":\"7206\",\"type\":\"LinearScale\"},{\"attributes\":{\"line_color\":\"#8b8b8b\",\"line_width\":2.5,\"x\":{\"field\":\"year\"},\"y\":{\"field\":\"suicides_no\"}},\"id\":\"7357\",\"type\":\"Line\"},{\"attributes\":{\"axis\":{\"id\":\"7210\"},\"coordinates\":null,\"grid_line_color\":null,\"group\":null,\"ticker\":null},\"id\":\"7213\",\"type\":\"Grid\"},{\"attributes\":{\"line_color\":\"#6d904f\",\"line_width\":2.5,\"x\":{\"field\":\"year\"},\"y\":{\"field\":\"suicides_no\"}},\"id\":\"7307\",\"type\":\"Line\"},{\"attributes\":{},\"id\":\"7220\",\"type\":\"WheelZoomTool\"},{\"attributes\":{\"axis_label\":\"suicides_no\",\"coordinates\":null,\"formatter\":{\"id\":\"7235\"},\"group\":null,\"major_label_policy\":{\"id\":\"7236\"},\"ticker\":{\"id\":\"7215\"}},\"id\":\"7214\",\"type\":\"LinearAxis\"},{\"attributes\":{\"overlay\":{\"id\":\"7223\"}},\"id\":\"7221\",\"type\":\"BoxZoomTool\"},{\"attributes\":{\"line_alpha\":0.2,\"line_color\":\"#6d904f\",\"line_width\":2.5,\"x\":{\"field\":\"year\"},\"y\":{\"field\":\"suicides_no\"}},\"id\":\"7309\",\"type\":\"Line\"},{\"attributes\":{},\"id\":\"7222\",\"type\":\"ResetTool\"},{\"attributes\":{\"line_alpha\":0.1,\"line_color\":\"#6d904f\",\"line_width\":2.5,\"x\":{\"field\":\"year\"},\"y\":{\"field\":\"suicides_no\"}},\"id\":\"7308\",\"type\":\"Line\"},{\"attributes\":{\"bottom_units\":\"screen\",\"coordinates\":null,\"fill_alpha\":0.5,\"fill_color\":\"lightgrey\",\"group\":null,\"left_units\":\"screen\",\"level\":\"overlay\",\"line_alpha\":1.0,\"line_color\":\"black\",\"line_dash\":[4,4],\"line_width\":2,\"right_units\":\"screen\",\"syncable\":false,\"top_units\":\"screen\"},\"id\":\"7223\",\"type\":\"BoxAnnotation\"},{\"attributes\":{\"source\":{\"id\":\"7304\"}},\"id\":\"7311\",\"type\":\"CDSView\"},{\"attributes\":{},\"id\":\"7233\",\"type\":\"AllLabels\"},{\"attributes\":{},\"id\":\"7325\",\"type\":\"UnionRenderers\"},{\"attributes\":{\"data\":{\"country\":[\"United States\",\"United States\",\"United States\",\"United States\",\"United States\",\"United States\",\"United States\",\"United States\",\"United States\",\"United States\",\"United States\",\"United States\",\"United States\",\"United States\",\"United States\",\"United States\",\"United States\",\"United States\",\"United States\",\"United States\",\"United States\",\"United States\",\"United States\",\"United States\",\"United States\",\"United States\",\"United States\"],\"suicides_no\":{\"__ndarray__\":\"q6qqqqoro0CrqqqqqhykQAAAAACACqRAq6qqqqrIo0BVVVVVVayjQKuqqqoqHaRAq6qqqqoLpEAAAAAAgNajQKuqqqqqPKRAq6qqqipDpEAAAAAAAFykQAAAAACAGqRAq6qqqireo0AAAAAAAOWjQFVVVVXV/6JAAAAAAIAao0CrqqqqKu2jQKuqqqoqmqRAq6qqqip+pECrqqqqqhylQKuqqqoqPqVAq6qqqqqspUAAAAAAAIamQAAAAAAAdadAAAAAAAAGqECrqqqqqvmoQKuqqqqquKlA\",\"dtype\":\"float64\",\"order\":\"little\",\"shape\":[27]},\"year\":[1985,1986,1987,1988,1989,1990,1991,1992,1993,1994,1995,1996,1997,1998,1999,2000,2001,2002,2003,2004,2005,2006,2007,2008,2009,2010,2011]},\"selected\":{\"id\":\"7331\"},\"selection_policy\":{\"id\":\"7353\"}},\"id\":\"7330\",\"type\":\"ColumnDataSource\"},{\"attributes\":{},\"id\":\"7252\",\"type\":\"UnionRenderers\"},{\"attributes\":{},\"id\":\"7235\",\"type\":\"BasicTickFormatter\"},{\"attributes\":{\"children\":[{\"id\":\"7189\"},{\"id\":\"7201\"}],\"margin\":[0,0,0,0],\"name\":\"Column32416\"},\"id\":\"7188\",\"type\":\"Column\"},{\"attributes\":{\"coordinates\":null,\"data_source\":{\"id\":\"7237\"},\"glyph\":{\"id\":\"7240\"},\"group\":null,\"hover_glyph\":null,\"muted_glyph\":{\"id\":\"7242\"},\"nonselection_glyph\":{\"id\":\"7241\"},\"selection_glyph\":{\"id\":\"7257\"},\"view\":{\"id\":\"7244\"}},\"id\":\"7243\",\"type\":\"GlyphRenderer\"},{\"attributes\":{\"line_alpha\":0.1,\"line_color\":\"#e5ae38\",\"line_width\":2.5,\"x\":{\"field\":\"year\"},\"y\":{\"field\":\"suicides_no\"}},\"id\":\"7284\",\"type\":\"Line\"},{\"attributes\":{\"click_policy\":\"mute\",\"coordinates\":null,\"group\":null,\"items\":[{\"id\":\"7256\"},{\"id\":\"7278\"},{\"id\":\"7302\"},{\"id\":\"7328\"},{\"id\":\"7356\"}],\"location\":[0,0],\"title\":\"country\"},\"id\":\"7255\",\"type\":\"Legend\"},{\"attributes\":{\"line_color\":\"#fc4f30\",\"line_width\":2.5,\"x\":{\"field\":\"year\"},\"y\":{\"field\":\"suicides_no\"}},\"id\":\"7279\",\"type\":\"Line\"},{\"attributes\":{\"label\":{\"value\":\"Canada\"},\"renderers\":[{\"id\":\"7243\"}]},\"id\":\"7256\",\"type\":\"LegendItem\"},{\"attributes\":{\"margin\":[5,5,5,5],\"name\":\"HSpacer32409\",\"sizing_mode\":\"stretch_width\"},\"id\":\"7193\",\"type\":\"Spacer\"},{\"attributes\":{\"line_color\":\"#8b8b8b\",\"line_width\":2.5,\"x\":{\"field\":\"year\"},\"y\":{\"field\":\"suicides_no\"}},\"id\":\"7333\",\"type\":\"Line\"},{\"attributes\":{\"data\":{\"country\":[\"Qatar\",\"Qatar\",\"Qatar\",\"Qatar\",\"Qatar\",\"Qatar\",\"Qatar\",\"Qatar\",\"Qatar\",\"Qatar\"],\"suicides_no\":{\"__ndarray__\":\"AAAAAAAAAACrqqqqqqr+PwAAAAAAAPw/q6qqqqqq9j9VVVVVVVUDQFVVVVVVVQtAAAAAAAAABkBVVVVVVVUNQFVVVVVVVQ9Aq6qqqqqqEEA=\",\"dtype\":\"float64\",\"order\":\"little\",\"shape\":[10]},\"year\":[1995,2001,2004,2005,2006,2007,2008,2009,2010,2011]},\"selected\":{\"id\":\"7259\"},\"selection_policy\":{\"id\":\"7275\"}},\"id\":\"7258\",\"type\":\"ColumnDataSource\"},{\"attributes\":{\"coordinates\":null,\"data_source\":{\"id\":\"7280\"},\"glyph\":{\"id\":\"7283\"},\"group\":null,\"hover_glyph\":null,\"muted_glyph\":{\"id\":\"7285\"},\"nonselection_glyph\":{\"id\":\"7284\"},\"selection_glyph\":{\"id\":\"7303\"},\"view\":{\"id\":\"7287\"}},\"id\":\"7286\",\"type\":\"GlyphRenderer\"},{\"attributes\":{\"below\":[{\"id\":\"7210\"}],\"center\":[{\"id\":\"7213\"},{\"id\":\"7217\"}],\"height\":300,\"left\":[{\"id\":\"7214\"}],\"margin\":[5,5,5,5],\"min_border_bottom\":10,\"min_border_left\":10,\"min_border_right\":10,\"min_border_top\":10,\"renderers\":[{\"id\":\"7243\"},{\"id\":\"7264\"},{\"id\":\"7286\"},{\"id\":\"7310\"},{\"id\":\"7336\"}],\"right\":[{\"id\":\"7255\"}],\"sizing_mode\":\"fixed\",\"title\":{\"id\":\"7202\"},\"toolbar\":{\"id\":\"7224\"},\"width\":700,\"x_range\":{\"id\":\"7194\"},\"x_scale\":{\"id\":\"7206\"},\"y_range\":{\"id\":\"7195\"},\"y_scale\":{\"id\":\"7208\"}},\"id\":\"7201\",\"subtype\":\"Figure\",\"type\":\"Plot\"},{\"attributes\":{\"source\":{\"id\":\"7258\"}},\"id\":\"7265\",\"type\":\"CDSView\"},{\"attributes\":{},\"id\":\"7281\",\"type\":\"Selection\"},{\"attributes\":{\"line_color\":\"#30a2da\",\"line_width\":2.5,\"x\":{\"field\":\"year\"},\"y\":{\"field\":\"suicides_no\"}},\"id\":\"7240\",\"type\":\"Line\"},{\"attributes\":{\"line_color\":\"#fc4f30\",\"line_width\":2.5,\"x\":{\"field\":\"year\"},\"y\":{\"field\":\"suicides_no\"}},\"id\":\"7261\",\"type\":\"Line\"},{\"attributes\":{\"line_alpha\":0.1,\"line_color\":\"#8b8b8b\",\"line_width\":2.5,\"x\":{\"field\":\"year\"},\"y\":{\"field\":\"suicides_no\"}},\"id\":\"7334\",\"type\":\"Line\"},{\"attributes\":{\"line_color\":\"#e5ae38\",\"line_width\":2.5,\"x\":{\"field\":\"year\"},\"y\":{\"field\":\"suicides_no\"}},\"id\":\"7283\",\"type\":\"Line\"},{\"attributes\":{\"end\":2017,\"margin\":[5,10,5,10],\"start\":1987,\"step\":3,\"title\":\"Year slider\",\"value\":2011},\"id\":\"7191\",\"type\":\"Slider\"},{\"attributes\":{},\"id\":\"7236\",\"type\":\"AllLabels\"},{\"attributes\":{},\"id\":\"7331\",\"type\":\"Selection\"},{\"attributes\":{\"data\":{\"country\":[\"Russian Federation\",\"Russian Federation\",\"Russian Federation\",\"Russian Federation\",\"Russian Federation\",\"Russian Federation\",\"Russian Federation\",\"Russian Federation\",\"Russian Federation\",\"Russian Federation\",\"Russian Federation\",\"Russian Federation\",\"Russian Federation\",\"Russian Federation\",\"Russian Federation\",\"Russian Federation\",\"Russian Federation\",\"Russian Federation\",\"Russian Federation\",\"Russian Federation\",\"Russian Federation\",\"Russian Federation\",\"Russian Federation\"],\"suicides_no\":{\"__ndarray__\":\"q6qqqiqwqECrqqqqqmipQFVVVVXVkqlAVVVVVdXlrUBVVVVV1S2yQFVVVVVV/rNAq6qqqqq1s0BVVVVVlbiyQKuqqqoq0rFAq6qqqirFsEBVVVVV1YuyQAAAAABAbrJAAAAAAICKskBVVVVVVemxQFVVVVUVv7BAq6qqqqr2r0CrqqqqqtGtQFVVVVVVvqtAq6qqqirKqkAAAAAAgOCoQKuqqqqqWqhAVVVVVVW3pUAAAAAAADWkQA==\",\"dtype\":\"float64\",\"order\":\"little\",\"shape\":[23]},\"year\":[1989,1990,1991,1992,1993,1994,1995,1996,1997,1998,1999,2000,2001,2002,2003,2004,2005,2006,2007,2008,2009,2010,2011]},\"selected\":{\"id\":\"7281\"},\"selection_policy\":{\"id\":\"7299\"}},\"id\":\"7280\",\"type\":\"ColumnDataSource\"},{\"attributes\":{\"line_color\":\"#6d904f\",\"line_width\":2.5,\"x\":{\"field\":\"year\"},\"y\":{\"field\":\"suicides_no\"}},\"id\":\"7329\",\"type\":\"Line\"},{\"attributes\":{\"line_alpha\":0.2,\"line_color\":\"#e5ae38\",\"line_width\":2.5,\"x\":{\"field\":\"year\"},\"y\":{\"field\":\"suicides_no\"}},\"id\":\"7285\",\"type\":\"Line\"},{\"attributes\":{\"line_alpha\":0.1,\"line_color\":\"#fc4f30\",\"line_width\":2.5,\"x\":{\"field\":\"year\"},\"y\":{\"field\":\"suicides_no\"}},\"id\":\"7262\",\"type\":\"Line\"},{\"attributes\":{\"coordinates\":null,\"data_source\":{\"id\":\"7258\"},\"glyph\":{\"id\":\"7261\"},\"group\":null,\"hover_glyph\":null,\"muted_glyph\":{\"id\":\"7263\"},\"nonselection_glyph\":{\"id\":\"7262\"},\"selection_glyph\":{\"id\":\"7279\"},\"view\":{\"id\":\"7265\"}},\"id\":\"7264\",\"type\":\"GlyphRenderer\"},{\"attributes\":{},\"id\":\"7305\",\"type\":\"Selection\"},{\"attributes\":{},\"id\":\"7259\",\"type\":\"Selection\"},{\"attributes\":{\"source\":{\"id\":\"7280\"}},\"id\":\"7287\",\"type\":\"CDSView\"},{\"attributes\":{\"data\":{\"country\":[\"United Kingdom\",\"United Kingdom\",\"United Kingdom\",\"United Kingdom\",\"United Kingdom\",\"United Kingdom\",\"United Kingdom\",\"United Kingdom\",\"United Kingdom\",\"United Kingdom\",\"United Kingdom\",\"United Kingdom\",\"United Kingdom\",\"United Kingdom\",\"United Kingdom\",\"United Kingdom\",\"United Kingdom\",\"United Kingdom\",\"United Kingdom\",\"United Kingdom\",\"United Kingdom\",\"United Kingdom\",\"United Kingdom\",\"United Kingdom\",\"United Kingdom\",\"United Kingdom\",\"United Kingdom\"],\"suicides_no\":{\"__ndarray__\":\"q6qqqqqWekAAAAAAADR5QFVVVVVV7XdAAAAAAADkeUCrqqqqqrZ2QKuqqqqqLnhAq6qqqqqud0Crqqqqqhp4QFVVVVVVPXdAAAAAAADQdkBVVVVVVXl2QFVVVVVVsXVAAAAAAACUdUAAAAAAANx2QKuqqqqqKndAAAAAAABYdkAAAAAAAIB1QFVVVVVVcXVAVVVVVVW5dEBVVVVVVcl1QAAAAAAAFHVAAAAAAAB4dUAAAAAAAEx0QKuqqqqqLnZAVVVVVVUddkAAAAAAANB1QFVVVVVV4XZA\",\"dtype\":\"float64\",\"order\":\"little\",\"shape\":[27]},\"year\":[1985,1986,1987,1988,1989,1990,1991,1992,1993,1994,1995,1996,1997,1998,1999,2000,2001,2002,2003,2004,2005,2006,2007,2008,2009,2010,2011]},\"selected\":{\"id\":\"7305\"},\"selection_policy\":{\"id\":\"7325\"}},\"id\":\"7304\",\"type\":\"ColumnDataSource\"},{\"attributes\":{},\"id\":\"7299\",\"type\":\"UnionRenderers\"},{\"attributes\":{\"line_alpha\":0.2,\"line_color\":\"#30a2da\",\"line_width\":2.5,\"x\":{\"field\":\"year\"},\"y\":{\"field\":\"suicides_no\"}},\"id\":\"7242\",\"type\":\"Line\"},{\"attributes\":{},\"id\":\"7238\",\"type\":\"Selection\"},{\"attributes\":{\"data\":{\"country\":[\"Canada\",\"Canada\",\"Canada\",\"Canada\",\"Canada\",\"Canada\",\"Canada\",\"Canada\",\"Canada\",\"Canada\",\"Canada\",\"Canada\",\"Canada\",\"Canada\",\"Canada\",\"Canada\",\"Canada\",\"Canada\",\"Canada\",\"Canada\",\"Canada\",\"Canada\",\"Canada\",\"Canada\",\"Canada\",\"Canada\",\"Canada\"],\"suicides_no\":{\"__ndarray__\":\"AAAAAAD4cEBVVVVVVR1zQAAAAAAAtHJAAAAAAABIckCrqqqqqi5yQAAAAAAAmHFAq6qqqqq2ckAAAAAAAFBzQKuqqqqqznNAVVVVVVWFc0Crqqqqqqp0QKuqqqqqhnRAAAAAAAAsc0AAAAAAAERzQAAAAAAAOHVAAAAAAADIckBVVVVVVT1zQKuqqqqqAnNAAAAAAACcc0BVVVVVVdFyQKuqqqqqfnNAq6qqqqpKckCrqqqqqs5yQAAAAAAATHNAq6qqqqpCdEAAAAAAAJR0QKuqqqqqanNA\",\"dtype\":\"float64\",\"order\":\"little\",\"shape\":[27]},\"year\":[1985,1986,1987,1988,1989,1990,1991,1992,1993,1994,1995,1996,1997,1998,1999,2000,2001,2002,2003,2004,2005,2006,2007,2008,2009,2010,2011]},\"selected\":{\"id\":\"7238\"},\"selection_policy\":{\"id\":\"7252\"}},\"id\":\"7237\",\"type\":\"ColumnDataSource\"},{\"attributes\":{\"line_alpha\":0.2,\"line_color\":\"#fc4f30\",\"line_width\":2.5,\"x\":{\"field\":\"year\"},\"y\":{\"field\":\"suicides_no\"}},\"id\":\"7263\",\"type\":\"Line\"},{\"attributes\":{\"label\":{\"value\":\"United States\"},\"renderers\":[{\"id\":\"7336\"}]},\"id\":\"7356\",\"type\":\"LegendItem\"},{\"attributes\":{\"line_alpha\":0.2,\"line_color\":\"#8b8b8b\",\"line_width\":2.5,\"x\":{\"field\":\"year\"},\"y\":{\"field\":\"suicides_no\"}},\"id\":\"7335\",\"type\":\"Line\"},{\"attributes\":{\"tools\":[{\"id\":\"7196\"},{\"id\":\"7218\"},{\"id\":\"7219\"},{\"id\":\"7220\"},{\"id\":\"7221\"},{\"id\":\"7222\"}]},\"id\":\"7224\",\"type\":\"Toolbar\"},{\"attributes\":{\"coordinates\":null,\"data_source\":{\"id\":\"7330\"},\"glyph\":{\"id\":\"7333\"},\"group\":null,\"hover_glyph\":null,\"muted_glyph\":{\"id\":\"7335\"},\"nonselection_glyph\":{\"id\":\"7334\"},\"selection_glyph\":{\"id\":\"7357\"},\"view\":{\"id\":\"7337\"}},\"id\":\"7336\",\"type\":\"GlyphRenderer\"},{\"attributes\":{},\"id\":\"7353\",\"type\":\"UnionRenderers\"},{\"attributes\":{\"end\":5630.166666666666,\"reset_end\":5630.166666666666,\"reset_start\":-511.8333333333333,\"start\":-511.8333333333333,\"tags\":[[[\"suicides_no\",\"suicides_no\",null]]]},\"id\":\"7195\",\"type\":\"Range1d\"},{\"attributes\":{\"end\":2011.0,\"reset_end\":2011.0,\"reset_start\":1985.0,\"start\":1985.0,\"tags\":[[[\"year\",\"year\",null]]]},\"id\":\"7194\",\"type\":\"Range1d\"},{\"attributes\":{\"line_alpha\":0.1,\"line_color\":\"#30a2da\",\"line_width\":2.5,\"x\":{\"field\":\"year\"},\"y\":{\"field\":\"suicides_no\"}},\"id\":\"7241\",\"type\":\"Line\"},{\"attributes\":{\"children\":[{\"id\":\"7191\"},{\"id\":\"7192\"}],\"margin\":[0,0,0,0],\"name\":\"Column32405\"},\"id\":\"7190\",\"type\":\"Column\"},{\"attributes\":{\"callback\":null,\"renderers\":[{\"id\":\"7243\"},{\"id\":\"7264\"},{\"id\":\"7286\"},{\"id\":\"7310\"},{\"id\":\"7336\"}],\"tags\":[\"hv_created\"],\"tooltips\":[[\"country\",\"@{country}\"],[\"year\",\"@{year}\"],[\"suicides_no\",\"@{suicides_no}\"]]},\"id\":\"7196\",\"type\":\"HoverTool\"},{\"attributes\":{\"source\":{\"id\":\"7237\"}},\"id\":\"7244\",\"type\":\"CDSView\"},{\"attributes\":{\"line_color\":\"#30a2da\",\"line_width\":2.5,\"x\":{\"field\":\"year\"},\"y\":{\"field\":\"suicides_no\"}},\"id\":\"7257\",\"type\":\"Line\"},{\"attributes\":{\"client_comm_id\":\"bf03a6fc52a742bb9818d3b89120a1a5\",\"comm_id\":\"d3f8f28745af4bacaad5a65c0632017e\",\"plot_id\":\"7187\"},\"id\":\"7574\",\"type\":\"panel.models.comm_manager.CommManager\"}],\"root_ids\":[\"7187\",\"7574\"]},\"title\":\"Bokeh Application\",\"version\":\"2.4.2\"}};\n",
       "    var render_items = [{\"docid\":\"fc6f889f-5812-41da-a557-ec1af7264703\",\"root_ids\":[\"7187\"],\"roots\":{\"7187\":\"c94efc4d-73e6-4849-99d5-9ef809ebfcc8\"}}];\n",
       "    root.Bokeh.embed.embed_items_notebook(docs_json, render_items);\n",
       "  }\n",
       "  if (root.Bokeh !== undefined && root.Bokeh.Panel !== undefined && ( root['Tabulator'] !== undefined)) {\n",
       "    embed_document(root);\n",
       "  } else {\n",
       "    var attempts = 0;\n",
       "    var timer = setInterval(function(root) {\n",
       "      if (root.Bokeh !== undefined && root.Bokeh.Panel !== undefined && (root['Tabulator'] !== undefined)) {\n",
       "        clearInterval(timer);\n",
       "        embed_document(root);\n",
       "      } else if (document.readyState == \"complete\") {\n",
       "        attempts++;\n",
       "        if (attempts > 200) {\n",
       "          clearInterval(timer);\n",
       "          console.log(\"Bokeh: ERROR: Unable to run BokehJS code because BokehJS library is missing\");\n",
       "        }\n",
       "      }\n",
       "    }, 25, root)\n",
       "  }\n",
       "})(window);</script>"
      ],
      "text/plain": [
       "<hvplot.interactive.Interactive at 0x150955f6880>"
      ]
     },
     "execution_count": 50,
     "metadata": {
      "application/vnd.holoviews_exec.v0+json": {
       "id": "7187"
      }
     },
     "output_type": "execute_result"
    }
   ],
   "source": [
    "suicide_plot = suicide_pipeline.hvplot(x ='year', by= 'country', y=yaxis_suicide_no, line_width=2.5, title= 'Suicide Rate by Country')\n",
    "suicide_plot"
   ]
  },
  {
   "cell_type": "markdown",
   "id": "6ee17820-0019-489d-badd-998fdeadb0dd",
   "metadata": {},
   "source": [
    "# Suicide Rate overtime by Country-Table"
   ]
  },
  {
   "cell_type": "code",
   "execution_count": 51,
   "id": "74c575ad-e420-4dc1-85e5-45707a8008e5",
   "metadata": {
    "tags": []
   },
   "outputs": [
    {
     "data": {},
     "metadata": {},
     "output_type": "display_data"
    },
    {
     "data": {
      "application/vnd.holoviews_exec.v0+json": "",
      "text/html": [
       "<div id='7665'>\n",
       "\n",
       "\n",
       "\n",
       "\n",
       "\n",
       "  <div class=\"bk-root\" id=\"d0d28cfb-84df-41df-a080-e889789c0a27\" data-root-id=\"7665\"></div>\n",
       "</div>\n",
       "<script type=\"application/javascript\">(function(root) {\n",
       "  function embed_document(root) {\n",
       "    var docs_json = {\"7dc842f9-67c4-41e2-b6e4-dd05522ea256\":{\"defs\":[{\"extends\":null,\"module\":null,\"name\":\"ReactiveHTML1\",\"overrides\":[],\"properties\":[]},{\"extends\":null,\"module\":null,\"name\":\"FlexBox1\",\"overrides\":[],\"properties\":[{\"default\":\"flex-start\",\"kind\":null,\"name\":\"align_content\"},{\"default\":\"flex-start\",\"kind\":null,\"name\":\"align_items\"},{\"default\":\"row\",\"kind\":null,\"name\":\"flex_direction\"},{\"default\":\"wrap\",\"kind\":null,\"name\":\"flex_wrap\"},{\"default\":\"flex-start\",\"kind\":null,\"name\":\"justify_content\"}]},{\"extends\":null,\"module\":null,\"name\":\"GridStack1\",\"overrides\":[],\"properties\":[{\"default\":\"warn\",\"kind\":null,\"name\":\"mode\"},{\"default\":null,\"kind\":null,\"name\":\"ncols\"},{\"default\":null,\"kind\":null,\"name\":\"nrows\"},{\"default\":true,\"kind\":null,\"name\":\"allow_resize\"},{\"default\":true,\"kind\":null,\"name\":\"allow_drag\"},{\"default\":[],\"kind\":null,\"name\":\"state\"}]},{\"extends\":null,\"module\":null,\"name\":\"click1\",\"overrides\":[],\"properties\":[{\"default\":\"\",\"kind\":null,\"name\":\"terminal_output\"},{\"default\":\"\",\"kind\":null,\"name\":\"debug_name\"},{\"default\":0,\"kind\":null,\"name\":\"clears\"}]},{\"extends\":null,\"module\":null,\"name\":\"TemplateActions1\",\"overrides\":[],\"properties\":[{\"default\":0,\"kind\":null,\"name\":\"open_modal\"},{\"default\":0,\"kind\":null,\"name\":\"close_modal\"}]},{\"extends\":null,\"module\":null,\"name\":\"MaterialTemplateActions1\",\"overrides\":[],\"properties\":[{\"default\":0,\"kind\":null,\"name\":\"open_modal\"},{\"default\":0,\"kind\":null,\"name\":\"close_modal\"}]}],\"roots\":{\"references\":[{\"attributes\":{},\"id\":\"7681\",\"type\":\"StringFormatter\"},{\"attributes\":{\"data\":{\"country\":[\"Canada\",\"United Kingdom\",\"United States\",\"Canada\",\"United Kingdom\",\"United States\",\"United Kingdom\",\"United States\",\"Canada\",\"Canada\"],\"index\":[0,1,2,3,4,5,6,7,8,9],\"suicides_no\":{\"__ndarray__\":\"AAAAAAD4cECrqqqqqpZ6QKuqqqqqK6NAVVVVVVUdc0AAAAAAADR5QKuqqqqqHKRAVVVVVVXtd0AAAAAAgAqkQAAAAAAAtHJAAAAAAABIckA=\",\"dtype\":\"float64\",\"order\":\"little\",\"shape\":[10]},\"year\":[1985,1985,1985,1986,1986,1986,1987,1987,1987,1988]},\"selected\":{\"id\":\"7674\"},\"selection_policy\":{\"id\":\"7698\"}},\"id\":\"7673\",\"type\":\"ColumnDataSource\"},{\"attributes\":{\"text_align\":\"right\"},\"id\":\"7686\",\"type\":\"NumberFormatter\"},{\"attributes\":{},\"id\":\"7698\",\"type\":\"UnionRenderers\"},{\"attributes\":{\"children\":[{\"id\":\"7667\"},{\"id\":\"7672\"}],\"margin\":[0,0,0,0],\"name\":\"Column33424\"},\"id\":\"7666\",\"type\":\"Column\"},{\"attributes\":{},\"id\":\"7687\",\"type\":\"IntEditor\"},{\"attributes\":{\"format\":\"0,0.0[00000]\",\"text_align\":\"right\"},\"id\":\"7691\",\"type\":\"NumberFormatter\"},{\"attributes\":{\"children\":[{\"id\":\"7666\"}],\"margin\":[0,0,0,0],\"name\":\"Row33425\"},\"id\":\"7665\",\"type\":\"Row\"},{\"attributes\":{},\"id\":\"7692\",\"type\":\"NumberEditor\"},{\"attributes\":{\"editor\":{\"id\":\"7687\"},\"field\":\"year\",\"formatter\":{\"id\":\"7686\"},\"title\":\"year\",\"width\":0},\"id\":\"7688\",\"type\":\"TableColumn\"},{\"attributes\":{},\"id\":\"7677\",\"type\":\"CellEditor\"},{\"attributes\":{\"indices\":[]},\"id\":\"7674\",\"type\":\"Selection\"},{\"attributes\":{\"client_comm_id\":\"e1f89604c62444f6bb44d7a458a58f6e\",\"comm_id\":\"9b4761833d964407a8e6770a30f37e16\",\"plot_id\":\"7665\"},\"id\":\"7704\",\"type\":\"panel.models.comm_manager.CommManager\"},{\"attributes\":{\"children\":[{\"id\":\"7669\"},{\"id\":\"7670\"}],\"margin\":[0,0,0,0],\"name\":\"Column33390\"},\"id\":\"7668\",\"type\":\"Column\"},{\"attributes\":{\"end\":2017,\"margin\":[5,10,5,10],\"start\":1987,\"step\":3,\"title\":\"Year slider\",\"value\":2011},\"id\":\"7669\",\"type\":\"Slider\"},{\"attributes\":{\"margin\":[5,5,5,5],\"name\":\"HSpacer33422\",\"sizing_mode\":\"stretch_width\"},\"id\":\"7671\",\"type\":\"Spacer\"},{\"attributes\":{\"editor\":{\"id\":\"7692\"},\"field\":\"suicides_no\",\"formatter\":{\"id\":\"7691\"},\"title\":\"suicides_no\",\"width\":0},\"id\":\"7693\",\"type\":\"TableColumn\"},{\"attributes\":{\"children\":[{\"id\":\"7668\"},{\"id\":\"7671\"}],\"margin\":[0,0,0,0],\"name\":\"Row33423\"},\"id\":\"7667\",\"type\":\"Row\"},{\"attributes\":{\"children\":[{\"id\":\"7696\"}],\"margin\":[0,0,0,0],\"name\":\"Row33395\"},\"id\":\"7672\",\"type\":\"Row\"},{\"attributes\":{\"editor\":{\"id\":\"7682\"},\"field\":\"country\",\"formatter\":{\"id\":\"7681\"},\"title\":\"country\",\"width\":0},\"id\":\"7683\",\"type\":\"TableColumn\"},{\"attributes\":{\"editor\":{\"id\":\"7677\"},\"field\":\"index\",\"formatter\":{\"id\":\"7675\"},\"title\":\"index\",\"width\":0},\"id\":\"7678\",\"type\":\"TableColumn\"},{\"attributes\":{\"columns\":[{\"id\":\"7678\"},{\"id\":\"7683\"},{\"id\":\"7688\"},{\"id\":\"7693\"}],\"configuration\":{\"columns\":[{\"field\":\"index\"},{\"field\":\"country\"},{\"field\":\"year\"},{\"field\":\"suicides_no\"}],\"dataTree\":false,\"selectable\":true},\"indexes\":[\"index\"],\"layout\":\"fit_data_table\",\"margin\":[5,10,5,10],\"max_page\":12,\"name\":\"\",\"page\":1,\"page_size\":10,\"pagination\":\"remote\",\"select_mode\":true,\"selectable_rows\":null,\"sizing_mode\":\"stretch_width\",\"source\":{\"id\":\"7673\"},\"styles\":{\"data\":{},\"id\":\"ccdb10c41fb8400a8580199be8fdd617\"},\"subscribed_events\":[\"table-edit\",\"cell-click\"]},\"id\":\"7696\",\"type\":\"panel.models.tabulator.DataTabulator\"},{\"attributes\":{},\"id\":\"7682\",\"type\":\"StringEditor\"},{\"attributes\":{\"active\":0,\"button_type\":\"success\",\"labels\":[\"suicides_no\",\"suicides/100k pop\"],\"margin\":[5,10,5,10]},\"id\":\"7670\",\"type\":\"RadioButtonGroup\"},{\"attributes\":{\"text_align\":\"left\"},\"id\":\"7675\",\"type\":\"NumberFormatter\"}],\"root_ids\":[\"7665\",\"7704\"]},\"title\":\"Bokeh Application\",\"version\":\"2.4.2\"}};\n",
       "    var render_items = [{\"docid\":\"7dc842f9-67c4-41e2-b6e4-dd05522ea256\",\"root_ids\":[\"7665\"],\"roots\":{\"7665\":\"d0d28cfb-84df-41df-a080-e889789c0a27\"}}];\n",
       "    root.Bokeh.embed.embed_items_notebook(docs_json, render_items);\n",
       "  }\n",
       "  if (root.Bokeh !== undefined && root.Bokeh.Panel !== undefined && ( root['Tabulator'] !== undefined)) {\n",
       "    embed_document(root);\n",
       "  } else {\n",
       "    var attempts = 0;\n",
       "    var timer = setInterval(function(root) {\n",
       "      if (root.Bokeh !== undefined && root.Bokeh.Panel !== undefined && (root['Tabulator'] !== undefined)) {\n",
       "        clearInterval(timer);\n",
       "        embed_document(root);\n",
       "      } else if (document.readyState == \"complete\") {\n",
       "        attempts++;\n",
       "        if (attempts > 200) {\n",
       "          clearInterval(timer);\n",
       "          console.log(\"Bokeh: ERROR: Unable to run BokehJS code because BokehJS library is missing\");\n",
       "        }\n",
       "      }\n",
       "    }, 25, root)\n",
       "  }\n",
       "})(window);</script>"
      ],
      "text/plain": [
       "<hvplot.interactive.Interactive at 0x15095849ee0>"
      ]
     },
     "execution_count": 51,
     "metadata": {
      "application/vnd.holoviews_exec.v0+json": {
       "id": "7665"
      }
     },
     "output_type": "execute_result"
    }
   ],
   "source": [
    "suicide_table = suicide_pipeline.pipe(pn.widgets.Tabulator, pagination='remote', page_size=10, sizing_mode='stretch_width')\n",
    "suicide_table"
   ]
  },
  {
   "cell_type": "markdown",
   "id": "9731f0fe-fa8b-4337-aef6-f4f240b88658",
   "metadata": {},
   "source": [
    "# Suicide Rate VS Sex Plots\n",
    "+ Using Seaborn to plot the performance of both sexes overtime\n",
    "+ Applying our widget to do a scatterplot on filtered countries"
   ]
  },
  {
   "cell_type": "code",
   "execution_count": 33,
   "id": "157d77ec-c936-421e-ab35-3f9d31130eb3",
   "metadata": {},
   "outputs": [
    {
     "name": "stderr",
     "output_type": "stream",
     "text": [
      "C:\\Users\\daphn\\anaconda3\\lib\\site-packages\\seaborn\\_decorators.py:36: FutureWarning: Pass the following variables as keyword args: x, y. From version 0.12, the only valid positional argument will be `data`, and passing other arguments without an explicit keyword will result in an error or misinterpretation.\n",
      "  warnings.warn(\n",
      "C:\\Users\\daphn\\anaconda3\\lib\\site-packages\\seaborn\\_decorators.py:36: FutureWarning: Pass the following variables as keyword args: x, y. From version 0.12, the only valid positional argument will be `data`, and passing other arguments without an explicit keyword will result in an error or misinterpretation.\n",
      "  warnings.warn(\n"
     ]
    },
    {
     "data": {
      "image/png": "[encoded data removed]",
      "text/plain": [
       "<Figure size 432x288 with 1 Axes>"
      ]
     },
     "metadata": {},
     "output_type": "display_data"
    }
   ],
   "source": [
    "df_men = df[df.sex == \"male\"]\n",
    "df_women = df[df.sex == \"female\"]\n",
    "sn.lineplot(df_men.year, df.suicides_no, ci = None)\n",
    "sn.lineplot(df_women.year, df.suicides_no, ci = None)\n",
    "plt.legend([\"male\", 'female'])\n",
    "plt.show()"
   ]
  },
  {
   "cell_type": "code",
   "execution_count": 52,
   "id": "4e8b2334-15cf-4212-8720-aeae62a75796",
   "metadata": {},
   "outputs": [],
   "source": [
    "# First create a data pipeline\n",
    "suicide_vs_sex_scatterplot_pipeline=(\n",
    "    idf[\n",
    "        (idf.year==year_slider)&\n",
    "        (idf.country.isin(countries))\n",
    "    ]\n",
    "    .groupby(['country', 'year', 'sex'])['suicides_no'].mean()\n",
    "    .to_frame()\n",
    "    .reset_index()\n",
    "    .sort_values(by='year')\n",
    "    .reset_index(drop=True)\n",
    ")"
   ]
  },
  {
   "cell_type": "code",
   "execution_count": 53,
   "id": "bddb9823-cbd6-4321-9625-0be7ebadf307",
   "metadata": {
    "tags": []
   },
   "outputs": [
    {
     "data": {},
     "metadata": {},
     "output_type": "display_data"
    },
    {
     "data": {
      "application/vnd.holoviews_exec.v0+json": "",
      "text/html": [
       "<div id='7715'>\n",
       "\n",
       "\n",
       "\n",
       "\n",
       "\n",
       "  <div class=\"bk-root\" id=\"64e35824-73de-4af8-86f3-02e2d42b0800\" data-root-id=\"7715\"></div>\n",
       "</div>\n",
       "<script type=\"application/javascript\">(function(root) {\n",
       "  function embed_document(root) {\n",
       "    var docs_json = {\"f4c7b48d-5dab-41e0-9af4-fa8bc38eab00\":{\"defs\":[{\"extends\":null,\"module\":null,\"name\":\"ReactiveHTML1\",\"overrides\":[],\"properties\":[]},{\"extends\":null,\"module\":null,\"name\":\"FlexBox1\",\"overrides\":[],\"properties\":[{\"default\":\"flex-start\",\"kind\":null,\"name\":\"align_content\"},{\"default\":\"flex-start\",\"kind\":null,\"name\":\"align_items\"},{\"default\":\"row\",\"kind\":null,\"name\":\"flex_direction\"},{\"default\":\"wrap\",\"kind\":null,\"name\":\"flex_wrap\"},{\"default\":\"flex-start\",\"kind\":null,\"name\":\"justify_content\"}]},{\"extends\":null,\"module\":null,\"name\":\"GridStack1\",\"overrides\":[],\"properties\":[{\"default\":\"warn\",\"kind\":null,\"name\":\"mode\"},{\"default\":null,\"kind\":null,\"name\":\"ncols\"},{\"default\":null,\"kind\":null,\"name\":\"nrows\"},{\"default\":true,\"kind\":null,\"name\":\"allow_resize\"},{\"default\":true,\"kind\":null,\"name\":\"allow_drag\"},{\"default\":[],\"kind\":null,\"name\":\"state\"}]},{\"extends\":null,\"module\":null,\"name\":\"click1\",\"overrides\":[],\"properties\":[{\"default\":\"\",\"kind\":null,\"name\":\"terminal_output\"},{\"default\":\"\",\"kind\":null,\"name\":\"debug_name\"},{\"default\":0,\"kind\":null,\"name\":\"clears\"}]},{\"extends\":null,\"module\":null,\"name\":\"TemplateActions1\",\"overrides\":[],\"properties\":[{\"default\":0,\"kind\":null,\"name\":\"open_modal\"},{\"default\":0,\"kind\":null,\"name\":\"close_modal\"}]},{\"extends\":null,\"module\":null,\"name\":\"MaterialTemplateActions1\",\"overrides\":[],\"properties\":[{\"default\":0,\"kind\":null,\"name\":\"open_modal\"},{\"default\":0,\"kind\":null,\"name\":\"close_modal\"}]}],\"roots\":{\"references\":[{\"attributes\":{\"children\":[{\"id\":\"7722\"}],\"margin\":[0,0,0,0],\"name\":\"Row33712\"},\"id\":\"7721\",\"type\":\"Row\"},{\"attributes\":{\"children\":[{\"id\":\"7719\"}],\"margin\":[0,0,0,0],\"name\":\"Column33707\"},\"id\":\"7718\",\"type\":\"Column\"},{\"attributes\":{\"children\":[{\"id\":\"7717\"},{\"id\":\"7721\"}],\"margin\":[0,0,0,0],\"name\":\"Column33742\"},\"id\":\"7716\",\"type\":\"Column\"},{\"attributes\":{\"margin\":[5,5,5,5],\"name\":\"HSpacer33740\",\"sizing_mode\":\"stretch_width\"},\"id\":\"7720\",\"type\":\"Spacer\"},{\"attributes\":{\"client_comm_id\":\"4a800993db274644ab3c45a44be6746b\",\"comm_id\":\"f1c895797b544c5f8c29017c73067807\",\"plot_id\":\"7715\"},\"id\":\"7723\",\"type\":\"panel.models.comm_manager.CommManager\"},{\"attributes\":{\"margin\":[5,5,5,5],\"name\":\"DataFrame33738\",\"text\":\"&lt;table border=&quot;0&quot; class=&quot;dataframe panel-df&quot;&gt;\\n  &lt;thead&gt;\\n    &lt;tr style=&quot;text-align: right;&quot;&gt;\\n      &lt;th&gt;&lt;/th&gt;\\n      &lt;th&gt;country&lt;/th&gt;\\n      &lt;th&gt;year&lt;/th&gt;\\n      &lt;th&gt;sex&lt;/th&gt;\\n      &lt;th&gt;suicides_no&lt;/th&gt;\\n    &lt;/tr&gt;\\n  &lt;/thead&gt;\\n  &lt;tbody&gt;\\n    &lt;tr&gt;\\n      &lt;th&gt;0&lt;/th&gt;\\n      &lt;td&gt;Canada&lt;/td&gt;\\n      &lt;td&gt;2011&lt;/td&gt;\\n      &lt;td&gt;female&lt;/td&gt;\\n      &lt;td&gt;157.833333&lt;/td&gt;\\n    &lt;/tr&gt;\\n    &lt;tr&gt;\\n      &lt;th&gt;1&lt;/th&gt;\\n      &lt;td&gt;Canada&lt;/td&gt;\\n      &lt;td&gt;2011&lt;/td&gt;\\n      &lt;td&gt;male&lt;/td&gt;\\n      &lt;td&gt;463.500000&lt;/td&gt;\\n    &lt;/tr&gt;\\n    &lt;tr&gt;\\n      &lt;th&gt;2&lt;/th&gt;\\n      &lt;td&gt;Qatar&lt;/td&gt;\\n      &lt;td&gt;2011&lt;/td&gt;\\n      &lt;td&gt;female&lt;/td&gt;\\n      &lt;td&gt;0.833333&lt;/td&gt;\\n    &lt;/tr&gt;\\n    &lt;tr&gt;\\n      &lt;th&gt;3&lt;/th&gt;\\n      &lt;td&gt;Qatar&lt;/td&gt;\\n      &lt;td&gt;2011&lt;/td&gt;\\n      &lt;td&gt;male&lt;/td&gt;\\n      &lt;td&gt;7.500000&lt;/td&gt;\\n    &lt;/tr&gt;\\n    &lt;tr&gt;\\n      &lt;th&gt;4&lt;/th&gt;\\n      &lt;td&gt;Russian Federation&lt;/td&gt;\\n      &lt;td&gt;2011&lt;/td&gt;\\n      &lt;td&gt;female&lt;/td&gt;\\n      &lt;td&gt;928.000000&lt;/td&gt;\\n    &lt;/tr&gt;\\n    &lt;tr&gt;\\n      &lt;th&gt;5&lt;/th&gt;\\n      &lt;td&gt;Russian Federation&lt;/td&gt;\\n      &lt;td&gt;2011&lt;/td&gt;\\n      &lt;td&gt;male&lt;/td&gt;\\n      &lt;td&gt;4245.000000&lt;/td&gt;\\n    &lt;/tr&gt;\\n    &lt;tr&gt;\\n      &lt;th&gt;6&lt;/th&gt;\\n      &lt;td&gt;United Kingdom&lt;/td&gt;\\n      &lt;td&gt;2011&lt;/td&gt;\\n      &lt;td&gt;female&lt;/td&gt;\\n      &lt;td&gt;160.000000&lt;/td&gt;\\n    &lt;/tr&gt;\\n    &lt;tr&gt;\\n      &lt;th&gt;7&lt;/th&gt;\\n      &lt;td&gt;United Kingdom&lt;/td&gt;\\n      &lt;td&gt;2011&lt;/td&gt;\\n      &lt;td&gt;male&lt;/td&gt;\\n      &lt;td&gt;572.166667&lt;/td&gt;\\n    &lt;/tr&gt;\\n    &lt;tr&gt;\\n      &lt;th&gt;8&lt;/th&gt;\\n      &lt;td&gt;United States&lt;/td&gt;\\n      &lt;td&gt;2011&lt;/td&gt;\\n      &lt;td&gt;female&lt;/td&gt;\\n      &lt;td&gt;1418.666667&lt;/td&gt;\\n    &lt;/tr&gt;\\n    &lt;tr&gt;\\n      &lt;th&gt;9&lt;/th&gt;\\n      &lt;td&gt;United States&lt;/td&gt;\\n      &lt;td&gt;2011&lt;/td&gt;\\n      &lt;td&gt;male&lt;/td&gt;\\n      &lt;td&gt;5166.000000&lt;/td&gt;\\n    &lt;/tr&gt;\\n  &lt;/tbody&gt;\\n&lt;/table&gt;\"},\"id\":\"7722\",\"type\":\"panel.models.markup.HTML\"},{\"attributes\":{\"end\":2017,\"margin\":[5,10,5,10],\"start\":1987,\"step\":3,\"title\":\"Year slider\",\"value\":2011},\"id\":\"7719\",\"type\":\"Slider\"},{\"attributes\":{\"children\":[{\"id\":\"7718\"},{\"id\":\"7720\"}],\"margin\":[0,0,0,0],\"name\":\"Row33741\"},\"id\":\"7717\",\"type\":\"Row\"},{\"attributes\":{\"children\":[{\"id\":\"7716\"}],\"margin\":[0,0,0,0],\"name\":\"Row33743\"},\"id\":\"7715\",\"type\":\"Row\"}],\"root_ids\":[\"7715\",\"7723\"]},\"title\":\"Bokeh Application\",\"version\":\"2.4.2\"}};\n",
       "    var render_items = [{\"docid\":\"f4c7b48d-5dab-41e0-9af4-fa8bc38eab00\",\"root_ids\":[\"7715\"],\"roots\":{\"7715\":\"64e35824-73de-4af8-86f3-02e2d42b0800\"}}];\n",
       "    root.Bokeh.embed.embed_items_notebook(docs_json, render_items);\n",
       "  }\n",
       "  if (root.Bokeh !== undefined && root.Bokeh.Panel !== undefined && ( root['Tabulator'] !== undefined)) {\n",
       "    embed_document(root);\n",
       "  } else {\n",
       "    var attempts = 0;\n",
       "    var timer = setInterval(function(root) {\n",
       "      if (root.Bokeh !== undefined && root.Bokeh.Panel !== undefined && (root['Tabulator'] !== undefined)) {\n",
       "        clearInterval(timer);\n",
       "        embed_document(root);\n",
       "      } else if (document.readyState == \"complete\") {\n",
       "        attempts++;\n",
       "        if (attempts > 200) {\n",
       "          clearInterval(timer);\n",
       "          console.log(\"Bokeh: ERROR: Unable to run BokehJS code because BokehJS library is missing\");\n",
       "        }\n",
       "      }\n",
       "    }, 25, root)\n",
       "  }\n",
       "})(window);</script>"
      ],
      "text/plain": [
       "<hvplot.interactive.Interactive at 0x150956f5a90>"
      ]
     },
     "execution_count": 53,
     "metadata": {
      "application/vnd.holoviews_exec.v0+json": {
       "id": "7715"
      }
     },
     "output_type": "execute_result"
    }
   ],
   "source": [
    "#Viewing the pipeline\n",
    "suicide_vs_sex_scatterplot_pipeline"
   ]
  },
  {
   "cell_type": "code",
   "execution_count": 55,
   "id": "1ca889d8-1d78-43d7-b442-a1684b538be8",
   "metadata": {
    "tags": []
   },
   "outputs": [
    {
     "data": {},
     "metadata": {},
     "output_type": "display_data"
    },
    {
     "data": {},
     "metadata": {},
     "output_type": "display_data"
    },
    {
     "data": {
      "application/vnd.holoviews_exec.v0+json": "",
      "text/html": [
       "<div id='8125'>\n",
       "\n",
       "\n",
       "\n",
       "\n",
       "\n",
       "  <div class=\"bk-root\" id=\"c07759c1-bce4-4eaa-9c8e-4a65a4e72562\" data-root-id=\"8125\"></div>\n",
       "</div>\n",
       "<script type=\"application/javascript\">(function(root) {\n",
       "  function embed_document(root) {\n",
       "    var docs_json = {\"6a85df25-5ba2-4c5b-8705-f4ab5c73c783\":{\"defs\":[{\"extends\":null,\"module\":null,\"name\":\"ReactiveHTML1\",\"overrides\":[],\"properties\":[]},{\"extends\":null,\"module\":null,\"name\":\"FlexBox1\",\"overrides\":[],\"properties\":[{\"default\":\"flex-start\",\"kind\":null,\"name\":\"align_content\"},{\"default\":\"flex-start\",\"kind\":null,\"name\":\"align_items\"},{\"default\":\"row\",\"kind\":null,\"name\":\"flex_direction\"},{\"default\":\"wrap\",\"kind\":null,\"name\":\"flex_wrap\"},{\"default\":\"flex-start\",\"kind\":null,\"name\":\"justify_content\"}]},{\"extends\":null,\"module\":null,\"name\":\"GridStack1\",\"overrides\":[],\"properties\":[{\"default\":\"warn\",\"kind\":null,\"name\":\"mode\"},{\"default\":null,\"kind\":null,\"name\":\"ncols\"},{\"default\":null,\"kind\":null,\"name\":\"nrows\"},{\"default\":true,\"kind\":null,\"name\":\"allow_resize\"},{\"default\":true,\"kind\":null,\"name\":\"allow_drag\"},{\"default\":[],\"kind\":null,\"name\":\"state\"}]},{\"extends\":null,\"module\":null,\"name\":\"click1\",\"overrides\":[],\"properties\":[{\"default\":\"\",\"kind\":null,\"name\":\"terminal_output\"},{\"default\":\"\",\"kind\":null,\"name\":\"debug_name\"},{\"default\":0,\"kind\":null,\"name\":\"clears\"}]},{\"extends\":null,\"module\":null,\"name\":\"TemplateActions1\",\"overrides\":[],\"properties\":[{\"default\":0,\"kind\":null,\"name\":\"open_modal\"},{\"default\":0,\"kind\":null,\"name\":\"close_modal\"}]},{\"extends\":null,\"module\":null,\"name\":\"MaterialTemplateActions1\",\"overrides\":[],\"properties\":[{\"default\":0,\"kind\":null,\"name\":\"open_modal\"},{\"default\":0,\"kind\":null,\"name\":\"close_modal\"}]}],\"roots\":{\"references\":[{\"attributes\":{\"fill_alpha\":{\"value\":0.7},\"fill_color\":{\"value\":\"#e5ae38\"},\"hatch_alpha\":{\"value\":0.7},\"hatch_color\":{\"value\":\"#e5ae38\"},\"line_alpha\":{\"value\":0.7},\"line_color\":{\"value\":\"#e5ae38\"},\"size\":{\"value\":8.94427190999916},\"x\":{\"field\":\"sex\"},\"y\":{\"field\":\"suicides_no\"}},\"id\":\"8220\",\"type\":\"Scatter\"},{\"attributes\":{\"children\":[{\"id\":\"8129\"}],\"margin\":[0,0,0,0],\"name\":\"Column35088\"},\"id\":\"8128\",\"type\":\"Column\"},{\"attributes\":{\"source\":{\"id\":\"8241\"}},\"id\":\"8248\",\"type\":\"CDSView\"},{\"attributes\":{},\"id\":\"8262\",\"type\":\"UnionRenderers\"},{\"attributes\":{\"children\":[{\"id\":\"8139\"}],\"margin\":[0,0,0,0],\"name\":\"Row35093\"},\"id\":\"8131\",\"type\":\"Row\"},{\"attributes\":{\"bottom_units\":\"screen\",\"coordinates\":null,\"fill_alpha\":0.5,\"fill_color\":\"lightgrey\",\"group\":null,\"left_units\":\"screen\",\"level\":\"overlay\",\"line_alpha\":1.0,\"line_color\":\"black\",\"line_dash\":[4,4],\"line_width\":2,\"right_units\":\"screen\",\"syncable\":false,\"top_units\":\"screen\"},\"id\":\"8160\",\"type\":\"BoxAnnotation\"},{\"attributes\":{\"click_policy\":\"mute\",\"coordinates\":null,\"group\":null,\"items\":[{\"id\":\"8193\"},{\"id\":\"8215\"},{\"id\":\"8239\"},{\"id\":\"8265\"},{\"id\":\"8293\"}],\"location\":[0,0],\"title\":\"country\"},\"id\":\"8192\",\"type\":\"Legend\"},{\"attributes\":{},\"id\":\"8172\",\"type\":\"BasicTickFormatter\"},{\"attributes\":{\"label\":{\"value\":\"Russian Federation\"},\"renderers\":[{\"id\":\"8223\"}]},\"id\":\"8239\",\"type\":\"LegendItem\"},{\"attributes\":{\"label\":{\"value\":\"United Kingdom\"},\"renderers\":[{\"id\":\"8247\"}]},\"id\":\"8265\",\"type\":\"LegendItem\"},{\"attributes\":{},\"id\":\"8212\",\"type\":\"UnionRenderers\"},{\"attributes\":{\"fill_alpha\":{\"value\":0.7},\"fill_color\":{\"value\":\"#8b8b8b\"},\"hatch_alpha\":{\"value\":0.7},\"hatch_color\":{\"value\":\"#8b8b8b\"},\"line_alpha\":{\"value\":0.7},\"line_color\":{\"value\":\"#8b8b8b\"},\"size\":{\"value\":8.94427190999916},\"x\":{\"field\":\"sex\"},\"y\":{\"field\":\"suicides_no\"}},\"id\":\"8270\",\"type\":\"Scatter\"},{\"attributes\":{},\"id\":\"8169\",\"type\":\"CategoricalTickFormatter\"},{\"attributes\":{\"angle\":{\"value\":0.0},\"fill_alpha\":{\"value\":0.7},\"fill_color\":{\"value\":\"#30a2da\"},\"hatch_alpha\":{\"value\":0.7},\"hatch_color\":{\"value\":\"#30a2da\"},\"hatch_scale\":{\"value\":12.0},\"hatch_weight\":{\"value\":1.0},\"line_alpha\":{\"value\":0.7},\"line_cap\":{\"value\":\"butt\"},\"line_color\":{\"value\":\"#30a2da\"},\"line_dash\":{\"value\":[]},\"line_dash_offset\":{\"value\":0},\"line_join\":{\"value\":\"bevel\"},\"line_width\":{\"value\":1},\"marker\":{\"value\":\"circle\"},\"size\":{\"value\":8.94427190999916},\"x\":{\"field\":\"sex\"},\"y\":{\"field\":\"suicides_no\"}},\"id\":\"8194\",\"type\":\"Scatter\"},{\"attributes\":{\"angle\":{\"value\":0.0},\"fill_alpha\":{\"value\":0.7},\"fill_color\":{\"value\":\"#8b8b8b\"},\"hatch_alpha\":{\"value\":0.7},\"hatch_color\":{\"value\":\"#8b8b8b\"},\"hatch_scale\":{\"value\":12.0},\"hatch_weight\":{\"value\":1.0},\"line_alpha\":{\"value\":0.7},\"line_cap\":{\"value\":\"butt\"},\"line_color\":{\"value\":\"#8b8b8b\"},\"line_dash\":{\"value\":[]},\"line_dash_offset\":{\"value\":0},\"line_join\":{\"value\":\"bevel\"},\"line_width\":{\"value\":1},\"marker\":{\"value\":\"circle\"},\"size\":{\"value\":8.94427190999916},\"x\":{\"field\":\"sex\"},\"y\":{\"field\":\"suicides_no\"}},\"id\":\"8294\",\"type\":\"Scatter\"},{\"attributes\":{\"tools\":[{\"id\":\"8134\"},{\"id\":\"8155\"},{\"id\":\"8156\"},{\"id\":\"8157\"},{\"id\":\"8158\"},{\"id\":\"8159\"}]},\"id\":\"8161\",\"type\":\"Toolbar\"},{\"attributes\":{\"fill_alpha\":{\"value\":0.2},\"fill_color\":{\"value\":\"#fc4f30\"},\"hatch_alpha\":{\"value\":0.2},\"hatch_color\":{\"value\":\"#fc4f30\"},\"line_alpha\":{\"value\":0.2},\"line_color\":{\"value\":\"#fc4f30\"},\"size\":{\"value\":8.94427190999916},\"x\":{\"field\":\"sex\"},\"y\":{\"field\":\"suicides_no\"}},\"id\":\"8200\",\"type\":\"Scatter\"},{\"attributes\":{\"coordinates\":null,\"data_source\":{\"id\":\"8174\"},\"glyph\":{\"id\":\"8177\"},\"group\":null,\"hover_glyph\":null,\"muted_glyph\":{\"id\":\"8179\"},\"nonselection_glyph\":{\"id\":\"8178\"},\"selection_glyph\":{\"id\":\"8194\"},\"view\":{\"id\":\"8181\"}},\"id\":\"8180\",\"type\":\"GlyphRenderer\"},{\"attributes\":{\"data\":{\"country\":[\"United Kingdom\",\"United Kingdom\"],\"sex\":[\"female\",\"male\"],\"suicides_no\":{\"__ndarray__\":\"AAAAAAAAZEBVVVVVVeGBQA==\",\"dtype\":\"float64\",\"order\":\"little\",\"shape\":[2]}},\"selected\":{\"id\":\"8242\"},\"selection_policy\":{\"id\":\"8262\"}},\"id\":\"8241\",\"type\":\"ColumnDataSource\"},{\"attributes\":{\"fill_alpha\":{\"value\":0.2},\"fill_color\":{\"value\":\"#e5ae38\"},\"hatch_alpha\":{\"value\":0.2},\"hatch_color\":{\"value\":\"#e5ae38\"},\"line_alpha\":{\"value\":0.2},\"line_color\":{\"value\":\"#e5ae38\"},\"size\":{\"value\":8.94427190999916},\"x\":{\"field\":\"sex\"},\"y\":{\"field\":\"suicides_no\"}},\"id\":\"8222\",\"type\":\"Scatter\"},{\"attributes\":{},\"id\":\"8268\",\"type\":\"Selection\"},{\"attributes\":{\"data\":{\"country\":[\"Russian Federation\",\"Russian Federation\"],\"sex\":[\"female\",\"male\"],\"suicides_no\":{\"__ndarray__\":\"AAAAAAAAjUAAAAAAAJWwQA==\",\"dtype\":\"float64\",\"order\":\"little\",\"shape\":[2]}},\"selected\":{\"id\":\"8218\"},\"selection_policy\":{\"id\":\"8236\"}},\"id\":\"8217\",\"type\":\"ColumnDataSource\"},{\"attributes\":{\"label\":{\"value\":\"Canada\"},\"renderers\":[{\"id\":\"8180\"}]},\"id\":\"8193\",\"type\":\"LegendItem\"},{\"attributes\":{\"coordinates\":null,\"data_source\":{\"id\":\"8217\"},\"glyph\":{\"id\":\"8220\"},\"group\":null,\"hover_glyph\":null,\"muted_glyph\":{\"id\":\"8222\"},\"nonselection_glyph\":{\"id\":\"8221\"},\"selection_glyph\":{\"id\":\"8240\"},\"view\":{\"id\":\"8224\"}},\"id\":\"8223\",\"type\":\"GlyphRenderer\"},{\"attributes\":{\"source\":{\"id\":\"8174\"}},\"id\":\"8181\",\"type\":\"CDSView\"},{\"attributes\":{},\"id\":\"8236\",\"type\":\"UnionRenderers\"},{\"attributes\":{\"data\":{\"country\":[\"Canada\",\"Canada\"],\"sex\":[\"female\",\"male\"],\"suicides_no\":{\"__ndarray__\":\"q6qqqqq6Y0AAAAAAAPh8QA==\",\"dtype\":\"float64\",\"order\":\"little\",\"shape\":[2]}},\"selected\":{\"id\":\"8175\"},\"selection_policy\":{\"id\":\"8189\"}},\"id\":\"8174\",\"type\":\"ColumnDataSource\"},{\"attributes\":{\"source\":{\"id\":\"8217\"}},\"id\":\"8224\",\"type\":\"CDSView\"},{\"attributes\":{\"label\":{\"value\":\"Qatar\"},\"renderers\":[{\"id\":\"8201\"}]},\"id\":\"8215\",\"type\":\"LegendItem\"},{\"attributes\":{},\"id\":\"8218\",\"type\":\"Selection\"},{\"attributes\":{\"fill_alpha\":{\"value\":0.7},\"fill_color\":{\"value\":\"#e5ae38\"},\"hatch_alpha\":{\"value\":0.1},\"hatch_color\":{\"value\":\"#e5ae38\"},\"line_alpha\":{\"value\":0.7},\"line_color\":{\"value\":\"#e5ae38\"},\"size\":{\"value\":8.94427190999916},\"x\":{\"field\":\"sex\"},\"y\":{\"field\":\"suicides_no\"}},\"id\":\"8221\",\"type\":\"Scatter\"},{\"attributes\":{\"end\":5682.516666666666,\"reset_end\":5682.516666666666,\"reset_start\":-515.6833333333334,\"start\":-515.6833333333334,\"tags\":[[[\"suicides_no\",\"suicides_no\",null]]]},\"id\":\"8133\",\"type\":\"Range1d\"},{\"attributes\":{\"factors\":[\"female\",\"male\"],\"tags\":[[[\"sex\",\"sex\",null]]]},\"id\":\"8132\",\"type\":\"FactorRange\"},{\"attributes\":{\"fill_alpha\":{\"value\":0.7},\"fill_color\":{\"value\":\"#fc4f30\"},\"hatch_alpha\":{\"value\":0.7},\"hatch_color\":{\"value\":\"#fc4f30\"},\"line_alpha\":{\"value\":0.7},\"line_color\":{\"value\":\"#fc4f30\"},\"size\":{\"value\":8.94427190999916},\"x\":{\"field\":\"sex\"},\"y\":{\"field\":\"suicides_no\"}},\"id\":\"8198\",\"type\":\"Scatter\"},{\"attributes\":{},\"id\":\"8149\",\"type\":\"CategoricalTicker\"},{\"attributes\":{\"children\":[{\"id\":\"8128\"},{\"id\":\"8130\"}],\"margin\":[0,0,0,0],\"name\":\"Row35290\"},\"id\":\"8127\",\"type\":\"Row\"},{\"attributes\":{\"angle\":{\"value\":0.0},\"fill_alpha\":{\"value\":0.7},\"fill_color\":{\"value\":\"#6d904f\"},\"hatch_alpha\":{\"value\":0.7},\"hatch_color\":{\"value\":\"#6d904f\"},\"hatch_scale\":{\"value\":12.0},\"hatch_weight\":{\"value\":1.0},\"line_alpha\":{\"value\":0.7},\"line_cap\":{\"value\":\"butt\"},\"line_color\":{\"value\":\"#6d904f\"},\"line_dash\":{\"value\":[]},\"line_dash_offset\":{\"value\":0},\"line_join\":{\"value\":\"bevel\"},\"line_width\":{\"value\":1},\"marker\":{\"value\":\"circle\"},\"size\":{\"value\":8.94427190999916},\"x\":{\"field\":\"sex\"},\"y\":{\"field\":\"suicides_no\"}},\"id\":\"8266\",\"type\":\"Scatter\"},{\"attributes\":{\"callback\":null,\"renderers\":[{\"id\":\"8180\"},{\"id\":\"8201\"},{\"id\":\"8223\"},{\"id\":\"8247\"},{\"id\":\"8273\"}],\"tags\":[\"hv_created\"],\"tooltips\":[[\"country\",\"@{country}\"],[\"sex\",\"@{sex}\"],[\"suicides_no\",\"@{suicides_no}\"]]},\"id\":\"8134\",\"type\":\"HoverTool\"},{\"attributes\":{},\"id\":\"8290\",\"type\":\"UnionRenderers\"},{\"attributes\":{\"children\":[{\"id\":\"8127\"},{\"id\":\"8131\"}],\"margin\":[0,0,0,0],\"name\":\"Column35291\"},\"id\":\"8126\",\"type\":\"Column\"},{\"attributes\":{},\"id\":\"8173\",\"type\":\"AllLabels\"},{\"attributes\":{\"coordinates\":null,\"data_source\":{\"id\":\"8195\"},\"glyph\":{\"id\":\"8198\"},\"group\":null,\"hover_glyph\":null,\"muted_glyph\":{\"id\":\"8200\"},\"nonselection_glyph\":{\"id\":\"8199\"},\"selection_glyph\":{\"id\":\"8216\"},\"view\":{\"id\":\"8202\"}},\"id\":\"8201\",\"type\":\"GlyphRenderer\"},{\"attributes\":{},\"id\":\"8144\",\"type\":\"CategoricalScale\"},{\"attributes\":{\"fill_alpha\":{\"value\":0.7},\"fill_color\":{\"value\":\"#fc4f30\"},\"hatch_alpha\":{\"value\":0.1},\"hatch_color\":{\"value\":\"#fc4f30\"},\"line_alpha\":{\"value\":0.7},\"line_color\":{\"value\":\"#fc4f30\"},\"size\":{\"value\":8.94427190999916},\"x\":{\"field\":\"sex\"},\"y\":{\"field\":\"suicides_no\"}},\"id\":\"8199\",\"type\":\"Scatter\"},{\"attributes\":{\"end\":2017,\"margin\":[5,10,5,10],\"start\":1987,\"step\":3,\"title\":\"Year slider\",\"value\":2011},\"id\":\"8129\",\"type\":\"Slider\"},{\"attributes\":{},\"id\":\"8170\",\"type\":\"AllLabels\"},{\"attributes\":{\"data\":{\"country\":[\"Qatar\",\"Qatar\"],\"sex\":[\"female\",\"male\"],\"suicides_no\":{\"__ndarray__\":\"q6qqqqqq6j8AAAAAAAAeQA==\",\"dtype\":\"float64\",\"order\":\"little\",\"shape\":[2]}},\"selected\":{\"id\":\"8196\"},\"selection_policy\":{\"id\":\"8212\"}},\"id\":\"8195\",\"type\":\"ColumnDataSource\"},{\"attributes\":{\"below\":[{\"id\":\"8148\"}],\"center\":[{\"id\":\"8150\"},{\"id\":\"8154\"}],\"height\":500,\"left\":[{\"id\":\"8151\"}],\"margin\":[5,5,5,5],\"min_border_bottom\":10,\"min_border_left\":10,\"min_border_right\":10,\"min_border_top\":10,\"renderers\":[{\"id\":\"8180\"},{\"id\":\"8201\"},{\"id\":\"8223\"},{\"id\":\"8247\"},{\"id\":\"8273\"}],\"right\":[{\"id\":\"8192\"}],\"sizing_mode\":\"fixed\",\"title\":{\"id\":\"8140\"},\"toolbar\":{\"id\":\"8161\"},\"width\":500,\"x_range\":{\"id\":\"8132\"},\"x_scale\":{\"id\":\"8144\"},\"y_range\":{\"id\":\"8133\"},\"y_scale\":{\"id\":\"8146\"}},\"id\":\"8139\",\"subtype\":\"Figure\",\"type\":\"Plot\"},{\"attributes\":{},\"id\":\"8175\",\"type\":\"Selection\"},{\"attributes\":{\"coordinates\":null,\"group\":null,\"text_color\":\"black\",\"text_font_size\":\"12pt\"},\"id\":\"8140\",\"type\":\"Title\"},{\"attributes\":{\"source\":{\"id\":\"8195\"}},\"id\":\"8202\",\"type\":\"CDSView\"},{\"attributes\":{},\"id\":\"8196\",\"type\":\"Selection\"},{\"attributes\":{\"data\":{\"country\":[\"United States\",\"United States\"],\"sex\":[\"female\",\"male\"],\"suicides_no\":{\"__ndarray__\":\"q6qqqqoqlkAAAAAAAC60QA==\",\"dtype\":\"float64\",\"order\":\"little\",\"shape\":[2]}},\"selected\":{\"id\":\"8268\"},\"selection_policy\":{\"id\":\"8290\"}},\"id\":\"8267\",\"type\":\"ColumnDataSource\"},{\"attributes\":{\"fill_alpha\":{\"value\":0.2},\"fill_color\":{\"value\":\"#8b8b8b\"},\"hatch_alpha\":{\"value\":0.2},\"hatch_color\":{\"value\":\"#8b8b8b\"},\"line_alpha\":{\"value\":0.2},\"line_color\":{\"value\":\"#8b8b8b\"},\"size\":{\"value\":8.94427190999916},\"x\":{\"field\":\"sex\"},\"y\":{\"field\":\"suicides_no\"}},\"id\":\"8272\",\"type\":\"Scatter\"},{\"attributes\":{},\"id\":\"8156\",\"type\":\"PanTool\"},{\"attributes\":{\"angle\":{\"value\":0.0},\"fill_alpha\":{\"value\":0.7},\"fill_color\":{\"value\":\"#e5ae38\"},\"hatch_alpha\":{\"value\":0.7},\"hatch_color\":{\"value\":\"#e5ae38\"},\"hatch_scale\":{\"value\":12.0},\"hatch_weight\":{\"value\":1.0},\"line_alpha\":{\"value\":0.7},\"line_cap\":{\"value\":\"butt\"},\"line_color\":{\"value\":\"#e5ae38\"},\"line_dash\":{\"value\":[]},\"line_dash_offset\":{\"value\":0},\"line_join\":{\"value\":\"bevel\"},\"line_width\":{\"value\":1},\"marker\":{\"value\":\"circle\"},\"size\":{\"value\":8.94427190999916},\"x\":{\"field\":\"sex\"},\"y\":{\"field\":\"suicides_no\"}},\"id\":\"8240\",\"type\":\"Scatter\"},{\"attributes\":{\"label\":{\"value\":\"United States\"},\"renderers\":[{\"id\":\"8273\"}]},\"id\":\"8293\",\"type\":\"LegendItem\"},{\"attributes\":{\"axis_label\":\"sex\",\"coordinates\":null,\"formatter\":{\"id\":\"8169\"},\"group\":null,\"major_label_policy\":{\"id\":\"8170\"},\"ticker\":{\"id\":\"8149\"}},\"id\":\"8148\",\"type\":\"CategoricalAxis\"},{\"attributes\":{\"axis\":{\"id\":\"8151\"},\"coordinates\":null,\"dimension\":1,\"grid_line_color\":null,\"group\":null,\"ticker\":null},\"id\":\"8154\",\"type\":\"Grid\"},{\"attributes\":{\"children\":[{\"id\":\"8126\"}],\"margin\":[0,0,0,0],\"name\":\"Row35292\"},\"id\":\"8125\",\"type\":\"Row\"},{\"attributes\":{},\"id\":\"8242\",\"type\":\"Selection\"},{\"attributes\":{},\"id\":\"8146\",\"type\":\"LinearScale\"},{\"attributes\":{},\"id\":\"8155\",\"type\":\"SaveTool\"},{\"attributes\":{},\"id\":\"8152\",\"type\":\"BasicTicker\"},{\"attributes\":{\"coordinates\":null,\"data_source\":{\"id\":\"8241\"},\"glyph\":{\"id\":\"8244\"},\"group\":null,\"hover_glyph\":null,\"muted_glyph\":{\"id\":\"8246\"},\"nonselection_glyph\":{\"id\":\"8245\"},\"selection_glyph\":{\"id\":\"8266\"},\"view\":{\"id\":\"8248\"}},\"id\":\"8247\",\"type\":\"GlyphRenderer\"},{\"attributes\":{},\"id\":\"8189\",\"type\":\"UnionRenderers\"},{\"attributes\":{\"margin\":[5,5,5,5],\"name\":\"HSpacer35289\",\"sizing_mode\":\"stretch_width\"},\"id\":\"8130\",\"type\":\"Spacer\"},{\"attributes\":{\"fill_alpha\":{\"value\":0.2},\"fill_color\":{\"value\":\"#6d904f\"},\"hatch_alpha\":{\"value\":0.2},\"hatch_color\":{\"value\":\"#6d904f\"},\"line_alpha\":{\"value\":0.2},\"line_color\":{\"value\":\"#6d904f\"},\"size\":{\"value\":8.94427190999916},\"x\":{\"field\":\"sex\"},\"y\":{\"field\":\"suicides_no\"}},\"id\":\"8246\",\"type\":\"Scatter\"},{\"attributes\":{\"axis\":{\"id\":\"8148\"},\"coordinates\":null,\"grid_line_color\":null,\"group\":null,\"ticker\":null},\"id\":\"8150\",\"type\":\"Grid\"},{\"attributes\":{\"fill_alpha\":{\"value\":0.7},\"fill_color\":{\"value\":\"#6d904f\"},\"hatch_alpha\":{\"value\":0.1},\"hatch_color\":{\"value\":\"#6d904f\"},\"line_alpha\":{\"value\":0.7},\"line_color\":{\"value\":\"#6d904f\"},\"size\":{\"value\":8.94427190999916},\"x\":{\"field\":\"sex\"},\"y\":{\"field\":\"suicides_no\"}},\"id\":\"8245\",\"type\":\"Scatter\"},{\"attributes\":{},\"id\":\"8157\",\"type\":\"WheelZoomTool\"},{\"attributes\":{\"axis_label\":\"suicides_no\",\"coordinates\":null,\"formatter\":{\"id\":\"8172\"},\"group\":null,\"major_label_policy\":{\"id\":\"8173\"},\"ticker\":{\"id\":\"8152\"}},\"id\":\"8151\",\"type\":\"LinearAxis\"},{\"attributes\":{\"fill_alpha\":{\"value\":0.7},\"fill_color\":{\"value\":\"#8b8b8b\"},\"hatch_alpha\":{\"value\":0.1},\"hatch_color\":{\"value\":\"#8b8b8b\"},\"line_alpha\":{\"value\":0.7},\"line_color\":{\"value\":\"#8b8b8b\"},\"size\":{\"value\":8.94427190999916},\"x\":{\"field\":\"sex\"},\"y\":{\"field\":\"suicides_no\"}},\"id\":\"8271\",\"type\":\"Scatter\"},{\"attributes\":{\"client_comm_id\":\"f409e79af60d40e29e9f8173866e0e55\",\"comm_id\":\"0c70ea25ef49449397b0d949f66ac356\",\"plot_id\":\"8125\"},\"id\":\"8511\",\"type\":\"panel.models.comm_manager.CommManager\"},{\"attributes\":{\"overlay\":{\"id\":\"8160\"}},\"id\":\"8158\",\"type\":\"BoxZoomTool\"},{\"attributes\":{},\"id\":\"8159\",\"type\":\"ResetTool\"},{\"attributes\":{\"fill_alpha\":{\"value\":0.7},\"fill_color\":{\"value\":\"#30a2da\"},\"hatch_alpha\":{\"value\":0.1},\"hatch_color\":{\"value\":\"#30a2da\"},\"line_alpha\":{\"value\":0.7},\"line_color\":{\"value\":\"#30a2da\"},\"size\":{\"value\":8.94427190999916},\"x\":{\"field\":\"sex\"},\"y\":{\"field\":\"suicides_no\"}},\"id\":\"8178\",\"type\":\"Scatter\"},{\"attributes\":{\"fill_alpha\":{\"value\":0.7},\"fill_color\":{\"value\":\"#6d904f\"},\"hatch_alpha\":{\"value\":0.7},\"hatch_color\":{\"value\":\"#6d904f\"},\"line_alpha\":{\"value\":0.7},\"line_color\":{\"value\":\"#6d904f\"},\"size\":{\"value\":8.94427190999916},\"x\":{\"field\":\"sex\"},\"y\":{\"field\":\"suicides_no\"}},\"id\":\"8244\",\"type\":\"Scatter\"},{\"attributes\":{\"source\":{\"id\":\"8267\"}},\"id\":\"8274\",\"type\":\"CDSView\"},{\"attributes\":{\"coordinates\":null,\"data_source\":{\"id\":\"8267\"},\"glyph\":{\"id\":\"8270\"},\"group\":null,\"hover_glyph\":null,\"muted_glyph\":{\"id\":\"8272\"},\"nonselection_glyph\":{\"id\":\"8271\"},\"selection_glyph\":{\"id\":\"8294\"},\"view\":{\"id\":\"8274\"}},\"id\":\"8273\",\"type\":\"GlyphRenderer\"},{\"attributes\":{\"angle\":{\"value\":0.0},\"fill_alpha\":{\"value\":0.7},\"fill_color\":{\"value\":\"#fc4f30\"},\"hatch_alpha\":{\"value\":0.7},\"hatch_color\":{\"value\":\"#fc4f30\"},\"hatch_scale\":{\"value\":12.0},\"hatch_weight\":{\"value\":1.0},\"line_alpha\":{\"value\":0.7},\"line_cap\":{\"value\":\"butt\"},\"line_color\":{\"value\":\"#fc4f30\"},\"line_dash\":{\"value\":[]},\"line_dash_offset\":{\"value\":0},\"line_join\":{\"value\":\"bevel\"},\"line_width\":{\"value\":1},\"marker\":{\"value\":\"circle\"},\"size\":{\"value\":8.94427190999916},\"x\":{\"field\":\"sex\"},\"y\":{\"field\":\"suicides_no\"}},\"id\":\"8216\",\"type\":\"Scatter\"},{\"attributes\":{\"fill_alpha\":{\"value\":0.2},\"fill_color\":{\"value\":\"#30a2da\"},\"hatch_alpha\":{\"value\":0.2},\"hatch_color\":{\"value\":\"#30a2da\"},\"line_alpha\":{\"value\":0.2},\"line_color\":{\"value\":\"#30a2da\"},\"size\":{\"value\":8.94427190999916},\"x\":{\"field\":\"sex\"},\"y\":{\"field\":\"suicides_no\"}},\"id\":\"8179\",\"type\":\"Scatter\"},{\"attributes\":{\"fill_alpha\":{\"value\":0.7},\"fill_color\":{\"value\":\"#30a2da\"},\"hatch_alpha\":{\"value\":0.7},\"hatch_color\":{\"value\":\"#30a2da\"},\"line_alpha\":{\"value\":0.7},\"line_color\":{\"value\":\"#30a2da\"},\"size\":{\"value\":8.94427190999916},\"x\":{\"field\":\"sex\"},\"y\":{\"field\":\"suicides_no\"}},\"id\":\"8177\",\"type\":\"Scatter\"}],\"root_ids\":[\"8125\",\"8511\"]},\"title\":\"Bokeh Application\",\"version\":\"2.4.2\"}};\n",
       "    var render_items = [{\"docid\":\"6a85df25-5ba2-4c5b-8705-f4ab5c73c783\",\"root_ids\":[\"8125\"],\"roots\":{\"8125\":\"c07759c1-bce4-4eaa-9c8e-4a65a4e72562\"}}];\n",
       "    root.Bokeh.embed.embed_items_notebook(docs_json, render_items);\n",
       "  }\n",
       "  if (root.Bokeh !== undefined && root.Bokeh.Panel !== undefined && ( root['Tabulator'] !== undefined)) {\n",
       "    embed_document(root);\n",
       "  } else {\n",
       "    var attempts = 0;\n",
       "    var timer = setInterval(function(root) {\n",
       "      if (root.Bokeh !== undefined && root.Bokeh.Panel !== undefined && (root['Tabulator'] !== undefined)) {\n",
       "        clearInterval(timer);\n",
       "        embed_document(root);\n",
       "      } else if (document.readyState == \"complete\") {\n",
       "        attempts++;\n",
       "        if (attempts > 200) {\n",
       "          clearInterval(timer);\n",
       "          console.log(\"Bokeh: ERROR: Unable to run BokehJS code because BokehJS library is missing\");\n",
       "        }\n",
       "      }\n",
       "    }, 25, root)\n",
       "  }\n",
       "})(window);</script>"
      ],
      "text/plain": [
       "<hvplot.interactive.Interactive at 0x1509597fc70>"
      ]
     },
     "execution_count": 55,
     "metadata": {
      "application/vnd.holoviews_exec.v0+json": {
       "id": "8125"
      }
     },
     "output_type": "execute_result"
    }
   ],
   "source": [
    "# Creating the scatterplot\n",
    "suicide_vs_sex_scatterplot= suicide_vs_sex_scatterplot_pipeline.hvplot(x='sex',\n",
    "                                                                       y='suicides_no',\n",
    "                                                                       by='country',\n",
    "                                                                       size=80, kind='scatter',\n",
    "                                                                       alpha=0.7,\n",
    "                                                                       legend=True,\n",
    "                                                                       height=500,\n",
    "                                                                       width=500)\n",
    "suicide_vs_sex_scatterplot"
   ]
  },
  {
   "cell_type": "markdown",
   "id": "9e5b3d05-3cd5-40bd-8992-8069dc3385a9",
   "metadata": {},
   "source": [
    "# Suicide Rate VS Age Plots"
   ]
  },
  {
   "cell_type": "code",
   "execution_count": 56,
   "id": "026c907c-7f20-4431-abed-2707a06bf64b",
   "metadata": {},
   "outputs": [],
   "source": [
    "# Creatine a linechart to determine if age is a factor for suicides inthese countries\n",
    "# We create a pipeline\n",
    "suicide_vs_age_linechart_pipeline=(\n",
    "    idf[\n",
    "        (idf.year==year_slider)&\n",
    "        (idf.country.isin(countries))\n",
    "    ]\n",
    "    .groupby(['country', 'age'])['suicides_no'].sum()\n",
    "    .to_frame()\n",
    "    .reset_index()\n",
    "    .sort_values(by=['age'], inplace=False, ascending=False)\n",
    "    .reset_index(drop=True)\n",
    ")"
   ]
  },
  {
   "cell_type": "code",
   "execution_count": 57,
   "id": "08f1d65f-2779-4312-ab78-260db734406d",
   "metadata": {
    "tags": []
   },
   "outputs": [
    {
     "data": {},
     "metadata": {},
     "output_type": "display_data"
    },
    {
     "data": {
      "application/vnd.holoviews_exec.v0+json": "",
      "text/html": [
       "<div id='8602'>\n",
       "\n",
       "\n",
       "\n",
       "\n",
       "\n",
       "  <div class=\"bk-root\" id=\"6d3c2b07-4a5c-477b-835a-a972702bc2d7\" data-root-id=\"8602\"></div>\n",
       "</div>\n",
       "<script type=\"application/javascript\">(function(root) {\n",
       "  function embed_document(root) {\n",
       "    var docs_json = {\"5c512372-4f71-400d-a901-f191eeb8b4ab\":{\"defs\":[{\"extends\":null,\"module\":null,\"name\":\"ReactiveHTML1\",\"overrides\":[],\"properties\":[]},{\"extends\":null,\"module\":null,\"name\":\"FlexBox1\",\"overrides\":[],\"properties\":[{\"default\":\"flex-start\",\"kind\":null,\"name\":\"align_content\"},{\"default\":\"flex-start\",\"kind\":null,\"name\":\"align_items\"},{\"default\":\"row\",\"kind\":null,\"name\":\"flex_direction\"},{\"default\":\"wrap\",\"kind\":null,\"name\":\"flex_wrap\"},{\"default\":\"flex-start\",\"kind\":null,\"name\":\"justify_content\"}]},{\"extends\":null,\"module\":null,\"name\":\"GridStack1\",\"overrides\":[],\"properties\":[{\"default\":\"warn\",\"kind\":null,\"name\":\"mode\"},{\"default\":null,\"kind\":null,\"name\":\"ncols\"},{\"default\":null,\"kind\":null,\"name\":\"nrows\"},{\"default\":true,\"kind\":null,\"name\":\"allow_resize\"},{\"default\":true,\"kind\":null,\"name\":\"allow_drag\"},{\"default\":[],\"kind\":null,\"name\":\"state\"}]},{\"extends\":null,\"module\":null,\"name\":\"click1\",\"overrides\":[],\"properties\":[{\"default\":\"\",\"kind\":null,\"name\":\"terminal_output\"},{\"default\":\"\",\"kind\":null,\"name\":\"debug_name\"},{\"default\":0,\"kind\":null,\"name\":\"clears\"}]},{\"extends\":null,\"module\":null,\"name\":\"TemplateActions1\",\"overrides\":[],\"properties\":[{\"default\":0,\"kind\":null,\"name\":\"open_modal\"},{\"default\":0,\"kind\":null,\"name\":\"close_modal\"}]},{\"extends\":null,\"module\":null,\"name\":\"MaterialTemplateActions1\",\"overrides\":[],\"properties\":[{\"default\":0,\"kind\":null,\"name\":\"open_modal\"},{\"default\":0,\"kind\":null,\"name\":\"close_modal\"}]}],\"roots\":{\"references\":[{\"attributes\":{\"children\":[{\"id\":\"8606\"}],\"margin\":[0,0,0,0],\"name\":\"Column36334\"},\"id\":\"8605\",\"type\":\"Column\"},{\"attributes\":{\"margin\":[5,5,5,5],\"name\":\"HSpacer36367\",\"sizing_mode\":\"stretch_width\"},\"id\":\"8607\",\"type\":\"Spacer\"},{\"attributes\":{\"children\":[{\"id\":\"8604\"},{\"id\":\"8608\"}],\"margin\":[0,0,0,0],\"name\":\"Column36369\"},\"id\":\"8603\",\"type\":\"Column\"},{\"attributes\":{\"end\":2017,\"margin\":[5,10,5,10],\"start\":1987,\"step\":3,\"title\":\"Year slider\",\"value\":2011},\"id\":\"8606\",\"type\":\"Slider\"},{\"attributes\":{\"margin\":[5,5,5,5],\"name\":\"DataFrame36365\",\"text\":\"&lt;table border=&quot;0&quot; class=&quot;dataframe panel-df&quot;&gt;\\n  &lt;thead&gt;\\n    &lt;tr style=&quot;text-align: right;&quot;&gt;\\n      &lt;th&gt;&lt;/th&gt;\\n      &lt;th&gt;country&lt;/th&gt;\\n      &lt;th&gt;age&lt;/th&gt;\\n      &lt;th&gt;suicides_no&lt;/th&gt;\\n    &lt;/tr&gt;\\n  &lt;/thead&gt;\\n  &lt;tbody&gt;\\n    &lt;tr&gt;\\n      &lt;th&gt;0&lt;/th&gt;\\n      &lt;td&gt;United States&lt;/td&gt;\\n      &lt;td&gt;75+ years&lt;/td&gt;\\n      &lt;td&gt;3142&lt;/td&gt;\\n    &lt;/tr&gt;\\n    &lt;tr&gt;\\n      &lt;th&gt;1&lt;/th&gt;\\n      &lt;td&gt;Canada&lt;/td&gt;\\n      &lt;td&gt;75+ years&lt;/td&gt;\\n      &lt;td&gt;239&lt;/td&gt;\\n    &lt;/tr&gt;\\n    &lt;tr&gt;\\n      &lt;th&gt;2&lt;/th&gt;\\n      &lt;td&gt;United Kingdom&lt;/td&gt;\\n      &lt;td&gt;75+ years&lt;/td&gt;\\n      &lt;td&gt;277&lt;/td&gt;\\n    &lt;/tr&gt;\\n    &lt;tr&gt;\\n      &lt;th&gt;3&lt;/th&gt;\\n      &lt;td&gt;Russian Federation&lt;/td&gt;\\n      &lt;td&gt;75+ years&lt;/td&gt;\\n      &lt;td&gt;2588&lt;/td&gt;\\n    &lt;/tr&gt;\\n    &lt;tr&gt;\\n      &lt;th&gt;4&lt;/th&gt;\\n      &lt;td&gt;Qatar&lt;/td&gt;\\n      &lt;td&gt;75+ years&lt;/td&gt;\\n      &lt;td&gt;0&lt;/td&gt;\\n    &lt;/tr&gt;\\n    &lt;tr&gt;\\n      &lt;th&gt;5&lt;/th&gt;\\n      &lt;td&gt;Russian Federation&lt;/td&gt;\\n      &lt;td&gt;55-74 years&lt;/td&gt;\\n      &lt;td&gt;6192&lt;/td&gt;\\n    &lt;/tr&gt;\\n    &lt;tr&gt;\\n      &lt;th&gt;6&lt;/th&gt;\\n      &lt;td&gt;United States&lt;/td&gt;\\n      &lt;td&gt;55-74 years&lt;/td&gt;\\n      &lt;td&gt;9700&lt;/td&gt;\\n    &lt;/tr&gt;\\n    &lt;tr&gt;\\n      &lt;th&gt;7&lt;/th&gt;\\n      &lt;td&gt;Canada&lt;/td&gt;\\n      &lt;td&gt;55-74 years&lt;/td&gt;\\n      &lt;td&gt;898&lt;/td&gt;\\n    &lt;/tr&gt;\\n    &lt;tr&gt;\\n      &lt;th&gt;8&lt;/th&gt;\\n      &lt;td&gt;United Kingdom&lt;/td&gt;\\n      &lt;td&gt;55-74 years&lt;/td&gt;\\n      &lt;td&gt;943&lt;/td&gt;\\n    &lt;/tr&gt;\\n    &lt;tr&gt;\\n      &lt;th&gt;9&lt;/th&gt;\\n      &lt;td&gt;Qatar&lt;/td&gt;\\n      &lt;td&gt;55-74 years&lt;/td&gt;\\n      &lt;td&gt;2&lt;/td&gt;\\n    &lt;/tr&gt;\\n    &lt;tr&gt;\\n      &lt;th&gt;10&lt;/th&gt;\\n      &lt;td&gt;United States&lt;/td&gt;\\n      &lt;td&gt;5-14 years&lt;/td&gt;\\n      &lt;td&gt;287&lt;/td&gt;\\n    &lt;/tr&gt;\\n    &lt;tr&gt;\\n      &lt;th&gt;11&lt;/th&gt;\\n      &lt;td&gt;United Kingdom&lt;/td&gt;\\n      &lt;td&gt;5-14 years&lt;/td&gt;\\n      &lt;td&gt;12&lt;/td&gt;\\n    &lt;/tr&gt;\\n    &lt;tr&gt;\\n      &lt;th&gt;12&lt;/th&gt;\\n      &lt;td&gt;Russian Federation&lt;/td&gt;\\n      &lt;td&gt;5-14 years&lt;/td&gt;\\n      &lt;td&gt;169&lt;/td&gt;\\n    &lt;/tr&gt;\\n    &lt;tr&gt;\\n      &lt;th&gt;13&lt;/th&gt;\\n      &lt;td&gt;Canada&lt;/td&gt;\\n      &lt;td&gt;5-14 years&lt;/td&gt;\\n      &lt;td&gt;31&lt;/td&gt;\\n    &lt;/tr&gt;\\n    &lt;tr&gt;\\n      &lt;th&gt;14&lt;/th&gt;\\n      &lt;td&gt;Qatar&lt;/td&gt;\\n      &lt;td&gt;5-14 years&lt;/td&gt;\\n      &lt;td&gt;0&lt;/td&gt;\\n    &lt;/tr&gt;\\n    &lt;tr&gt;\\n      &lt;th&gt;15&lt;/th&gt;\\n      &lt;td&gt;Qatar&lt;/td&gt;\\n      &lt;td&gt;35-54 years&lt;/td&gt;\\n      &lt;td&gt;21&lt;/td&gt;\\n    &lt;/tr&gt;\\n    &lt;tr&gt;\\n      &lt;th&gt;16&lt;/th&gt;\\n      &lt;td&gt;Canada&lt;/td&gt;\\n      &lt;td&gt;35-54 years&lt;/td&gt;\\n      &lt;td&gt;1517&lt;/td&gt;\\n    &lt;/tr&gt;\\n    &lt;tr&gt;\\n      &lt;th&gt;17&lt;/th&gt;\\n      &lt;td&gt;United States&lt;/td&gt;\\n      &lt;td&gt;35-54 years&lt;/td&gt;\\n      &lt;td&gt;15457&lt;/td&gt;\\n    &lt;/tr&gt;\\n    &lt;tr&gt;\\n      &lt;th&gt;18&lt;/th&gt;\\n      &lt;td&gt;United Kingdom&lt;/td&gt;\\n      &lt;td&gt;35-54 years&lt;/td&gt;\\n      &lt;td&gt;2028&lt;/td&gt;\\n    &lt;/tr&gt;\\n    &lt;tr&gt;\\n      &lt;th&gt;19&lt;/th&gt;\\n      &lt;td&gt;Russian Federation&lt;/td&gt;\\n      &lt;td&gt;35-54 years&lt;/td&gt;\\n      &lt;td&gt;10926&lt;/td&gt;\\n    &lt;/tr&gt;\\n    &lt;tr&gt;\\n      &lt;th&gt;20&lt;/th&gt;\\n      &lt;td&gt;Qatar&lt;/td&gt;\\n      &lt;td&gt;25-34 years&lt;/td&gt;\\n      &lt;td&gt;16&lt;/td&gt;\\n    &lt;/tr&gt;\\n    &lt;tr&gt;\\n      &lt;th&gt;21&lt;/th&gt;\\n      &lt;td&gt;United States&lt;/td&gt;\\n      &lt;td&gt;25-34 years&lt;/td&gt;\\n      &lt;td&gt;6100&lt;/td&gt;\\n    &lt;/tr&gt;\\n    &lt;tr&gt;\\n      &lt;th&gt;22&lt;/th&gt;\\n      &lt;td&gt;Russian Federation&lt;/td&gt;\\n      &lt;td&gt;25-34 years&lt;/td&gt;\\n      &lt;td&gt;6854&lt;/td&gt;\\n    &lt;/tr&gt;\\n    &lt;tr&gt;\\n      &lt;th&gt;23&lt;/th&gt;\\n      &lt;td&gt;United Kingdom&lt;/td&gt;\\n      &lt;td&gt;25-34 years&lt;/td&gt;\\n      &lt;td&gt;687&lt;/td&gt;\\n    &lt;/tr&gt;\\n    &lt;tr&gt;\\n      &lt;th&gt;24&lt;/th&gt;\\n      &lt;td&gt;Canada&lt;/td&gt;\\n      &lt;td&gt;25-34 years&lt;/td&gt;\\n      &lt;td&gt;544&lt;/td&gt;\\n    &lt;/tr&gt;\\n    &lt;tr&gt;\\n      &lt;th&gt;25&lt;/th&gt;\\n      &lt;td&gt;Qatar&lt;/td&gt;\\n      &lt;td&gt;15-24 years&lt;/td&gt;\\n      &lt;td&gt;11&lt;/td&gt;\\n    &lt;/tr&gt;\\n    &lt;tr&gt;\\n      &lt;th&gt;26&lt;/th&gt;\\n      &lt;td&gt;United States&lt;/td&gt;\\n      &lt;td&gt;15-24 years&lt;/td&gt;\\n      &lt;td&gt;4822&lt;/td&gt;\\n    &lt;/tr&gt;\\n    &lt;tr&gt;\\n      &lt;th&gt;27&lt;/th&gt;\\n      &lt;td&gt;United Kingdom&lt;/td&gt;\\n      &lt;td&gt;15-24 years&lt;/td&gt;\\n      &lt;td&gt;446&lt;/td&gt;\\n    &lt;/tr&gt;\\n    &lt;tr&gt;\\n      &lt;th&gt;28&lt;/th&gt;\\n      &lt;td&gt;Russian Federation&lt;/td&gt;\\n      &lt;td&gt;15-24 years&lt;/td&gt;\\n      &lt;td&gt;4309&lt;/td&gt;\\n    &lt;/tr&gt;\\n    &lt;tr&gt;\\n      &lt;th&gt;29&lt;/th&gt;\\n      &lt;td&gt;Canada&lt;/td&gt;\\n      &lt;td&gt;15-24 years&lt;/td&gt;\\n      &lt;td&gt;499&lt;/td&gt;\\n    &lt;/tr&gt;\\n  &lt;/tbody&gt;\\n&lt;/table&gt;\"},\"id\":\"8609\",\"type\":\"panel.models.markup.HTML\"},{\"attributes\":{\"children\":[{\"id\":\"8605\"},{\"id\":\"8607\"}],\"margin\":[0,0,0,0],\"name\":\"Row36368\"},\"id\":\"8604\",\"type\":\"Row\"},{\"attributes\":{\"client_comm_id\":\"33bcf8608e8d48329b4a2206d1837a9c\",\"comm_id\":\"05c12b78bde14d6f81fc50466a87bd9a\",\"plot_id\":\"8602\"},\"id\":\"8610\",\"type\":\"panel.models.comm_manager.CommManager\"},{\"attributes\":{\"children\":[{\"id\":\"8603\"}],\"margin\":[0,0,0,0],\"name\":\"Row36370\"},\"id\":\"8602\",\"type\":\"Row\"},{\"attributes\":{\"children\":[{\"id\":\"8609\"}],\"margin\":[0,0,0,0],\"name\":\"Row36339\"},\"id\":\"8608\",\"type\":\"Row\"}],\"root_ids\":[\"8602\",\"8610\"]},\"title\":\"Bokeh Application\",\"version\":\"2.4.2\"}};\n",
       "    var render_items = [{\"docid\":\"5c512372-4f71-400d-a901-f191eeb8b4ab\",\"root_ids\":[\"8602\"],\"roots\":{\"8602\":\"6d3c2b07-4a5c-477b-835a-a972702bc2d7\"}}];\n",
       "    root.Bokeh.embed.embed_items_notebook(docs_json, render_items);\n",
       "  }\n",
       "  if (root.Bokeh !== undefined && root.Bokeh.Panel !== undefined && ( root['Tabulator'] !== undefined)) {\n",
       "    embed_document(root);\n",
       "  } else {\n",
       "    var attempts = 0;\n",
       "    var timer = setInterval(function(root) {\n",
       "      if (root.Bokeh !== undefined && root.Bokeh.Panel !== undefined && (root['Tabulator'] !== undefined)) {\n",
       "        clearInterval(timer);\n",
       "        embed_document(root);\n",
       "      } else if (document.readyState == \"complete\") {\n",
       "        attempts++;\n",
       "        if (attempts > 200) {\n",
       "          clearInterval(timer);\n",
       "          console.log(\"Bokeh: ERROR: Unable to run BokehJS code because BokehJS library is missing\");\n",
       "        }\n",
       "      }\n",
       "    }, 25, root)\n",
       "  }\n",
       "})(window);</script>"
      ],
      "text/plain": [
       "<hvplot.interactive.Interactive at 0x15095a159d0>"
      ]
     },
     "execution_count": 57,
     "metadata": {
      "application/vnd.holoviews_exec.v0+json": {
       "id": "8602"
      }
     },
     "output_type": "execute_result"
    }
   ],
   "source": [
    "#Viewing the pipeline\n",
    "suicide_vs_age_linechart_pipeline"
   ]
  },
  {
   "cell_type": "code",
   "execution_count": 108,
   "id": "bf8146df-c006-43fc-9c54-9d32dd3b31ab",
   "metadata": {
    "tags": []
   },
   "outputs": [
    {
     "data": {},
     "metadata": {},
     "output_type": "display_data"
    },
    {
     "data": {},
     "metadata": {},
     "output_type": "display_data"
    },
    {
     "data": {
      "application/vnd.holoviews_exec.v0+json": "",
      "text/html": [
       "<div id='9584'>\n",
       "\n",
       "\n",
       "\n",
       "\n",
       "\n",
       "  <div class=\"bk-root\" id=\"11f4f0c3-2f48-4303-a178-461e21f4e920\" data-root-id=\"9584\"></div>\n",
       "</div>\n",
       "<script type=\"application/javascript\">(function(root) {\n",
       "  function embed_document(root) {\n",
       "    var docs_json = {\"1f90742e-f520-4339-ae20-390f13564e72\":{\"defs\":[{\"extends\":null,\"module\":null,\"name\":\"ReactiveHTML1\",\"overrides\":[],\"properties\":[]},{\"extends\":null,\"module\":null,\"name\":\"FlexBox1\",\"overrides\":[],\"properties\":[{\"default\":\"flex-start\",\"kind\":null,\"name\":\"align_content\"},{\"default\":\"flex-start\",\"kind\":null,\"name\":\"align_items\"},{\"default\":\"row\",\"kind\":null,\"name\":\"flex_direction\"},{\"default\":\"wrap\",\"kind\":null,\"name\":\"flex_wrap\"},{\"default\":\"flex-start\",\"kind\":null,\"name\":\"justify_content\"}]},{\"extends\":null,\"module\":null,\"name\":\"GridStack1\",\"overrides\":[],\"properties\":[{\"default\":\"warn\",\"kind\":null,\"name\":\"mode\"},{\"default\":null,\"kind\":null,\"name\":\"ncols\"},{\"default\":null,\"kind\":null,\"name\":\"nrows\"},{\"default\":true,\"kind\":null,\"name\":\"allow_resize\"},{\"default\":true,\"kind\":null,\"name\":\"allow_drag\"},{\"default\":[],\"kind\":null,\"name\":\"state\"}]},{\"extends\":null,\"module\":null,\"name\":\"click1\",\"overrides\":[],\"properties\":[{\"default\":\"\",\"kind\":null,\"name\":\"terminal_output\"},{\"default\":\"\",\"kind\":null,\"name\":\"debug_name\"},{\"default\":0,\"kind\":null,\"name\":\"clears\"}]},{\"extends\":null,\"module\":null,\"name\":\"TemplateActions1\",\"overrides\":[],\"properties\":[{\"default\":0,\"kind\":null,\"name\":\"open_modal\"},{\"default\":0,\"kind\":null,\"name\":\"close_modal\"}]},{\"extends\":null,\"module\":null,\"name\":\"MaterialTemplateActions1\",\"overrides\":[],\"properties\":[{\"default\":0,\"kind\":null,\"name\":\"open_modal\"},{\"default\":0,\"kind\":null,\"name\":\"close_modal\"}]}],\"roots\":{\"references\":[{\"attributes\":{\"label\":{\"value\":\"United Kingdom\"},\"renderers\":[{\"id\":\"9706\"}]},\"id\":\"9724\",\"type\":\"LegendItem\"},{\"attributes\":{},\"id\":\"9648\",\"type\":\"UnionRenderers\"},{\"attributes\":{},\"id\":\"9631\",\"type\":\"BasicTickFormatter\"},{\"attributes\":{\"end\":2017,\"margin\":[5,10,5,10],\"start\":1987,\"step\":3,\"title\":\"Year slider\",\"value\":2011},\"id\":\"9588\",\"type\":\"Slider\"},{\"attributes\":{},\"id\":\"9677\",\"type\":\"Selection\"},{\"attributes\":{},\"id\":\"9628\",\"type\":\"CategoricalTickFormatter\"},{\"attributes\":{\"children\":[{\"id\":\"9598\"}],\"margin\":[0,0,0,0],\"name\":\"Row40542\"},\"id\":\"9590\",\"type\":\"Row\"},{\"attributes\":{\"line_alpha\":0.7,\"line_color\":\"#fc4f30\",\"line_width\":2,\"x\":{\"field\":\"age\"},\"y\":{\"field\":\"suicides_no\"}},\"id\":\"9675\",\"type\":\"Line\"},{\"attributes\":{\"data\":{\"age\":[\"75+ years\",\"55-74 years\",\"5-14 years\",\"35-54 years\",\"25-34 years\",\"15-24 years\"],\"country\":[\"United States\",\"United States\",\"United States\",\"United States\",\"United States\",\"United States\"],\"suicides_no\":[3142,9700,287,15457,6100,4822]},\"selected\":{\"id\":\"9727\"},\"selection_policy\":{\"id\":\"9749\"}},\"id\":\"9726\",\"type\":\"ColumnDataSource\"},{\"attributes\":{},\"id\":\"9629\",\"type\":\"AllLabels\"},{\"attributes\":{\"end\":17002.7,\"reset_end\":17002.7,\"reset_start\":-1545.7,\"start\":-1545.7,\"tags\":[[[\"suicides_no\",\"suicides_no\",null]]]},\"id\":\"9592\",\"type\":\"Range1d\"},{\"attributes\":{\"children\":[{\"id\":\"9588\"}],\"margin\":[0,0,0,0],\"name\":\"Column40537\"},\"id\":\"9587\",\"type\":\"Column\"},{\"attributes\":{\"data\":{\"age\":[\"75+ years\",\"55-74 years\",\"5-14 years\",\"35-54 years\",\"25-34 years\",\"15-24 years\"],\"country\":[\"United Kingdom\",\"United Kingdom\",\"United Kingdom\",\"United Kingdom\",\"United Kingdom\",\"United Kingdom\"],\"suicides_no\":[277,943,12,2028,687,446]},\"selected\":{\"id\":\"9701\"},\"selection_policy\":{\"id\":\"9721\"}},\"id\":\"9700\",\"type\":\"ColumnDataSource\"},{\"attributes\":{\"data\":{\"age\":[\"75+ years\",\"55-74 years\",\"5-14 years\",\"35-54 years\",\"25-34 years\",\"15-24 years\"],\"country\":[\"Qatar\",\"Qatar\",\"Qatar\",\"Qatar\",\"Qatar\",\"Qatar\"],\"suicides_no\":[0,2,0,21,16,11]},\"selected\":{\"id\":\"9655\"},\"selection_policy\":{\"id\":\"9671\"}},\"id\":\"9654\",\"type\":\"ColumnDataSource\"},{\"attributes\":{},\"id\":\"9695\",\"type\":\"UnionRenderers\"},{\"attributes\":{\"children\":[{\"id\":\"9587\"},{\"id\":\"9589\"}],\"margin\":[0,0,0,0],\"name\":\"Row40738\"},\"id\":\"9586\",\"type\":\"Row\"},{\"attributes\":{\"below\":[{\"id\":\"9607\"}],\"center\":[{\"id\":\"9609\"},{\"id\":\"9613\"}],\"height\":500,\"left\":[{\"id\":\"9610\"}],\"margin\":[5,5,5,5],\"min_border_bottom\":10,\"min_border_left\":10,\"min_border_right\":10,\"min_border_top\":10,\"renderers\":[{\"id\":\"9639\"},{\"id\":\"9660\"},{\"id\":\"9682\"},{\"id\":\"9706\"},{\"id\":\"9732\"}],\"right\":[{\"id\":\"9651\"}],\"sizing_mode\":\"fixed\",\"title\":{\"id\":\"9599\"},\"toolbar\":{\"id\":\"9620\"},\"width\":700,\"x_range\":{\"id\":\"9591\"},\"x_scale\":{\"id\":\"9603\"},\"y_range\":{\"id\":\"9592\"},\"y_scale\":{\"id\":\"9605\"}},\"id\":\"9598\",\"subtype\":\"Figure\",\"type\":\"Plot\"},{\"attributes\":{},\"id\":\"9632\",\"type\":\"AllLabels\"},{\"attributes\":{\"line_alpha\":0.7,\"line_color\":\"#6d904f\",\"line_width\":2,\"x\":{\"field\":\"age\"},\"y\":{\"field\":\"suicides_no\"}},\"id\":\"9725\",\"type\":\"Line\"},{\"attributes\":{\"coordinates\":null,\"data_source\":{\"id\":\"9676\"},\"glyph\":{\"id\":\"9679\"},\"group\":null,\"hover_glyph\":null,\"muted_glyph\":{\"id\":\"9681\"},\"nonselection_glyph\":{\"id\":\"9680\"},\"selection_glyph\":{\"id\":\"9699\"},\"view\":{\"id\":\"9683\"}},\"id\":\"9682\",\"type\":\"GlyphRenderer\"},{\"attributes\":{\"label\":{\"value\":\"Russian Federation\"},\"renderers\":[{\"id\":\"9682\"}]},\"id\":\"9698\",\"type\":\"LegendItem\"},{\"attributes\":{},\"id\":\"9634\",\"type\":\"Selection\"},{\"attributes\":{\"margin\":[5,5,5,5],\"name\":\"HSpacer40737\",\"sizing_mode\":\"stretch_width\"},\"id\":\"9589\",\"type\":\"Spacer\"},{\"attributes\":{\"line_alpha\":0.2,\"line_color\":\"#e5ae38\",\"line_width\":2,\"x\":{\"field\":\"age\"},\"y\":{\"field\":\"suicides_no\"}},\"id\":\"9681\",\"type\":\"Line\"},{\"attributes\":{\"factors\":[\"75+ years\",\"55-74 years\",\"5-14 years\",\"35-54 years\",\"25-34 years\",\"15-24 years\"],\"tags\":[[[\"age\",\"age\",null]]]},\"id\":\"9591\",\"type\":\"FactorRange\"},{\"attributes\":{\"click_policy\":\"mute\",\"coordinates\":null,\"group\":null,\"items\":[{\"id\":\"9652\"},{\"id\":\"9674\"},{\"id\":\"9698\"},{\"id\":\"9724\"},{\"id\":\"9752\"}],\"location\":[0,0],\"title\":\"country\"},\"id\":\"9651\",\"type\":\"Legend\"},{\"attributes\":{},\"id\":\"9749\",\"type\":\"UnionRenderers\"},{\"attributes\":{\"coordinates\":null,\"data_source\":{\"id\":\"9726\"},\"glyph\":{\"id\":\"9729\"},\"group\":null,\"hover_glyph\":null,\"muted_glyph\":{\"id\":\"9731\"},\"nonselection_glyph\":{\"id\":\"9730\"},\"selection_glyph\":{\"id\":\"9753\"},\"view\":{\"id\":\"9733\"}},\"id\":\"9732\",\"type\":\"GlyphRenderer\"},{\"attributes\":{\"line_alpha\":0.7,\"line_color\":\"#e5ae38\",\"line_width\":2,\"x\":{\"field\":\"age\"},\"y\":{\"field\":\"suicides_no\"}},\"id\":\"9680\",\"type\":\"Line\"},{\"attributes\":{\"source\":{\"id\":\"9676\"}},\"id\":\"9683\",\"type\":\"CDSView\"},{\"attributes\":{\"callback\":null,\"renderers\":[{\"id\":\"9639\"},{\"id\":\"9660\"},{\"id\":\"9682\"},{\"id\":\"9706\"},{\"id\":\"9732\"}],\"tags\":[\"hv_created\"],\"tooltips\":[[\"country\",\"@{country}\"],[\"age\",\"@{age}\"],[\"suicides_no\",\"@{suicides_no}\"]]},\"id\":\"9593\",\"type\":\"HoverTool\"},{\"attributes\":{\"data\":{\"age\":[\"75+ years\",\"55-74 years\",\"5-14 years\",\"35-54 years\",\"25-34 years\",\"15-24 years\"],\"country\":[\"Canada\",\"Canada\",\"Canada\",\"Canada\",\"Canada\",\"Canada\"],\"suicides_no\":[239,898,31,1517,544,499]},\"selected\":{\"id\":\"9634\"},\"selection_policy\":{\"id\":\"9648\"}},\"id\":\"9633\",\"type\":\"ColumnDataSource\"},{\"attributes\":{},\"id\":\"9727\",\"type\":\"Selection\"},{\"attributes\":{\"label\":{\"value\":\"United States\"},\"renderers\":[{\"id\":\"9732\"}]},\"id\":\"9752\",\"type\":\"LegendItem\"},{\"attributes\":{\"line_alpha\":0.2,\"line_color\":\"#30a2da\",\"line_width\":2,\"x\":{\"field\":\"age\"},\"y\":{\"field\":\"suicides_no\"}},\"id\":\"9638\",\"type\":\"Line\"},{\"attributes\":{\"line_alpha\":0.2,\"line_color\":\"#8b8b8b\",\"line_width\":2,\"x\":{\"field\":\"age\"},\"y\":{\"field\":\"suicides_no\"}},\"id\":\"9731\",\"type\":\"Line\"},{\"attributes\":{\"label\":{\"value\":\"Canada\"},\"renderers\":[{\"id\":\"9639\"}]},\"id\":\"9652\",\"type\":\"LegendItem\"},{\"attributes\":{},\"id\":\"9655\",\"type\":\"Selection\"},{\"attributes\":{\"line_alpha\":0.7,\"line_color\":\"#e5ae38\",\"line_width\":2,\"x\":{\"field\":\"age\"},\"y\":{\"field\":\"suicides_no\"}},\"id\":\"9679\",\"type\":\"Line\"},{\"attributes\":{\"coordinates\":null,\"data_source\":{\"id\":\"9633\"},\"glyph\":{\"id\":\"9636\"},\"group\":null,\"hover_glyph\":null,\"muted_glyph\":{\"id\":\"9638\"},\"nonselection_glyph\":{\"id\":\"9637\"},\"selection_glyph\":{\"id\":\"9653\"},\"view\":{\"id\":\"9640\"}},\"id\":\"9639\",\"type\":\"GlyphRenderer\"},{\"attributes\":{\"line_alpha\":0.7,\"line_color\":\"#30a2da\",\"line_width\":2,\"x\":{\"field\":\"age\"},\"y\":{\"field\":\"suicides_no\"}},\"id\":\"9653\",\"type\":\"Line\"},{\"attributes\":{},\"id\":\"9603\",\"type\":\"CategoricalScale\"},{\"attributes\":{\"line_alpha\":0.7,\"line_color\":\"#8b8b8b\",\"line_width\":2,\"x\":{\"field\":\"age\"},\"y\":{\"field\":\"suicides_no\"}},\"id\":\"9730\",\"type\":\"Line\"},{\"attributes\":{\"source\":{\"id\":\"9726\"}},\"id\":\"9733\",\"type\":\"CDSView\"},{\"attributes\":{\"data\":{\"age\":[\"75+ years\",\"55-74 years\",\"5-14 years\",\"35-54 years\",\"25-34 years\",\"15-24 years\"],\"country\":[\"Russian Federation\",\"Russian Federation\",\"Russian Federation\",\"Russian Federation\",\"Russian Federation\",\"Russian Federation\"],\"suicides_no\":[2588,6192,169,10926,6854,4309]},\"selected\":{\"id\":\"9677\"},\"selection_policy\":{\"id\":\"9695\"}},\"id\":\"9676\",\"type\":\"ColumnDataSource\"},{\"attributes\":{\"line_alpha\":0.7,\"line_color\":\"#8b8b8b\",\"line_width\":2,\"x\":{\"field\":\"age\"},\"y\":{\"field\":\"suicides_no\"}},\"id\":\"9729\",\"type\":\"Line\"},{\"attributes\":{\"coordinates\":null,\"group\":null,\"text_color\":\"black\",\"text_font_size\":\"12pt\"},\"id\":\"9599\",\"type\":\"Title\"},{\"attributes\":{\"coordinates\":null,\"data_source\":{\"id\":\"9654\"},\"glyph\":{\"id\":\"9657\"},\"group\":null,\"hover_glyph\":null,\"muted_glyph\":{\"id\":\"9659\"},\"nonselection_glyph\":{\"id\":\"9658\"},\"selection_glyph\":{\"id\":\"9675\"},\"view\":{\"id\":\"9661\"}},\"id\":\"9660\",\"type\":\"GlyphRenderer\"},{\"attributes\":{\"label\":{\"value\":\"Qatar\"},\"renderers\":[{\"id\":\"9660\"}]},\"id\":\"9674\",\"type\":\"LegendItem\"},{\"attributes\":{},\"id\":\"9615\",\"type\":\"PanTool\"},{\"attributes\":{\"line_alpha\":0.2,\"line_color\":\"#fc4f30\",\"line_width\":2,\"x\":{\"field\":\"age\"},\"y\":{\"field\":\"suicides_no\"}},\"id\":\"9659\",\"type\":\"Line\"},{\"attributes\":{},\"id\":\"9608\",\"type\":\"CategoricalTicker\"},{\"attributes\":{\"axis_label\":\"age\",\"coordinates\":null,\"formatter\":{\"id\":\"9628\"},\"group\":null,\"major_label_policy\":{\"id\":\"9629\"},\"ticker\":{\"id\":\"9608\"}},\"id\":\"9607\",\"type\":\"CategoricalAxis\"},{\"attributes\":{\"axis\":{\"id\":\"9610\"},\"coordinates\":null,\"dimension\":1,\"grid_line_color\":null,\"group\":null,\"ticker\":null},\"id\":\"9613\",\"type\":\"Grid\"},{\"attributes\":{\"line_alpha\":0.7,\"line_color\":\"#fc4f30\",\"line_width\":2,\"x\":{\"field\":\"age\"},\"y\":{\"field\":\"suicides_no\"}},\"id\":\"9658\",\"type\":\"Line\"},{\"attributes\":{\"source\":{\"id\":\"9654\"}},\"id\":\"9661\",\"type\":\"CDSView\"},{\"attributes\":{},\"id\":\"9605\",\"type\":\"LinearScale\"},{\"attributes\":{\"line_alpha\":0.7,\"line_color\":\"#e5ae38\",\"line_width\":2,\"x\":{\"field\":\"age\"},\"y\":{\"field\":\"suicides_no\"}},\"id\":\"9699\",\"type\":\"Line\"},{\"attributes\":{},\"id\":\"9614\",\"type\":\"SaveTool\"},{\"attributes\":{},\"id\":\"9671\",\"type\":\"UnionRenderers\"},{\"attributes\":{\"children\":[{\"id\":\"9585\"}],\"margin\":[0,0,0,0],\"name\":\"Row40740\"},\"id\":\"9584\",\"type\":\"Row\"},{\"attributes\":{},\"id\":\"9611\",\"type\":\"BasicTicker\"},{\"attributes\":{\"line_alpha\":0.7,\"line_color\":\"#30a2da\",\"line_width\":2,\"x\":{\"field\":\"age\"},\"y\":{\"field\":\"suicides_no\"}},\"id\":\"9636\",\"type\":\"Line\"},{\"attributes\":{\"axis\":{\"id\":\"9607\"},\"coordinates\":null,\"grid_line_color\":null,\"group\":null,\"ticker\":null},\"id\":\"9609\",\"type\":\"Grid\"},{\"attributes\":{\"coordinates\":null,\"data_source\":{\"id\":\"9700\"},\"glyph\":{\"id\":\"9703\"},\"group\":null,\"hover_glyph\":null,\"muted_glyph\":{\"id\":\"9705\"},\"nonselection_glyph\":{\"id\":\"9704\"},\"selection_glyph\":{\"id\":\"9725\"},\"view\":{\"id\":\"9707\"}},\"id\":\"9706\",\"type\":\"GlyphRenderer\"},{\"attributes\":{},\"id\":\"9616\",\"type\":\"WheelZoomTool\"},{\"attributes\":{\"axis_label\":\"suicides_no\",\"coordinates\":null,\"formatter\":{\"id\":\"9631\"},\"group\":null,\"major_label_policy\":{\"id\":\"9632\"},\"ticker\":{\"id\":\"9611\"}},\"id\":\"9610\",\"type\":\"LinearAxis\"},{\"attributes\":{\"line_alpha\":0.2,\"line_color\":\"#6d904f\",\"line_width\":2,\"x\":{\"field\":\"age\"},\"y\":{\"field\":\"suicides_no\"}},\"id\":\"9705\",\"type\":\"Line\"},{\"attributes\":{\"client_comm_id\":\"81aa3f1fbd014a97b5a7a98569b6c1ec\",\"comm_id\":\"1d72e160de3d450c8e4b22f417ba27fa\",\"plot_id\":\"9584\"},\"id\":\"9970\",\"type\":\"panel.models.comm_manager.CommManager\"},{\"attributes\":{\"line_alpha\":0.7,\"line_color\":\"#fc4f30\",\"line_width\":2,\"x\":{\"field\":\"age\"},\"y\":{\"field\":\"suicides_no\"}},\"id\":\"9657\",\"type\":\"Line\"},{\"attributes\":{\"overlay\":{\"id\":\"9619\"}},\"id\":\"9617\",\"type\":\"BoxZoomTool\"},{\"attributes\":{\"source\":{\"id\":\"9633\"}},\"id\":\"9640\",\"type\":\"CDSView\"},{\"attributes\":{},\"id\":\"9618\",\"type\":\"ResetTool\"},{\"attributes\":{\"line_alpha\":0.7,\"line_color\":\"#30a2da\",\"line_width\":2,\"x\":{\"field\":\"age\"},\"y\":{\"field\":\"suicides_no\"}},\"id\":\"9637\",\"type\":\"Line\"},{\"attributes\":{\"line_alpha\":0.7,\"line_color\":\"#6d904f\",\"line_width\":2,\"x\":{\"field\":\"age\"},\"y\":{\"field\":\"suicides_no\"}},\"id\":\"9704\",\"type\":\"Line\"},{\"attributes\":{\"bottom_units\":\"screen\",\"coordinates\":null,\"fill_alpha\":0.5,\"fill_color\":\"lightgrey\",\"group\":null,\"left_units\":\"screen\",\"level\":\"overlay\",\"line_alpha\":1.0,\"line_color\":\"black\",\"line_dash\":[4,4],\"line_width\":2,\"right_units\":\"screen\",\"syncable\":false,\"top_units\":\"screen\"},\"id\":\"9619\",\"type\":\"BoxAnnotation\"},{\"attributes\":{\"source\":{\"id\":\"9700\"}},\"id\":\"9707\",\"type\":\"CDSView\"},{\"attributes\":{\"line_alpha\":0.7,\"line_color\":\"#8b8b8b\",\"line_width\":2,\"x\":{\"field\":\"age\"},\"y\":{\"field\":\"suicides_no\"}},\"id\":\"9753\",\"type\":\"Line\"},{\"attributes\":{\"children\":[{\"id\":\"9586\"},{\"id\":\"9590\"}],\"margin\":[0,0,0,0],\"name\":\"Column40739\"},\"id\":\"9585\",\"type\":\"Column\"},{\"attributes\":{\"tools\":[{\"id\":\"9593\"},{\"id\":\"9614\"},{\"id\":\"9615\"},{\"id\":\"9616\"},{\"id\":\"9617\"},{\"id\":\"9618\"}]},\"id\":\"9620\",\"type\":\"Toolbar\"},{\"attributes\":{},\"id\":\"9701\",\"type\":\"Selection\"},{\"attributes\":{\"line_alpha\":0.7,\"line_color\":\"#6d904f\",\"line_width\":2,\"x\":{\"field\":\"age\"},\"y\":{\"field\":\"suicides_no\"}},\"id\":\"9703\",\"type\":\"Line\"},{\"attributes\":{},\"id\":\"9721\",\"type\":\"UnionRenderers\"}],\"root_ids\":[\"9584\",\"9970\"]},\"title\":\"Bokeh Application\",\"version\":\"2.4.2\"}};\n",
       "    var render_items = [{\"docid\":\"1f90742e-f520-4339-ae20-390f13564e72\",\"root_ids\":[\"9584\"],\"roots\":{\"9584\":\"11f4f0c3-2f48-4303-a178-461e21f4e920\"}}];\n",
       "    root.Bokeh.embed.embed_items_notebook(docs_json, render_items);\n",
       "  }\n",
       "  if (root.Bokeh !== undefined && root.Bokeh.Panel !== undefined && ( root['Tabulator'] !== undefined)) {\n",
       "    embed_document(root);\n",
       "  } else {\n",
       "    var attempts = 0;\n",
       "    var timer = setInterval(function(root) {\n",
       "      if (root.Bokeh !== undefined && root.Bokeh.Panel !== undefined && (root['Tabulator'] !== undefined)) {\n",
       "        clearInterval(timer);\n",
       "        embed_document(root);\n",
       "      } else if (document.readyState == \"complete\") {\n",
       "        attempts++;\n",
       "        if (attempts > 200) {\n",
       "          clearInterval(timer);\n",
       "          console.log(\"Bokeh: ERROR: Unable to run BokehJS code because BokehJS library is missing\");\n",
       "        }\n",
       "      }\n",
       "    }, 25, root)\n",
       "  }\n",
       "})(window);</script>"
      ],
      "text/plain": [
       "<hvplot.interactive.Interactive at 0x1509e1bdd60>"
      ]
     },
     "execution_count": 108,
     "metadata": {
      "application/vnd.holoviews_exec.v0+json": {
       "id": "9584"
      }
     },
     "output_type": "execute_result"
    }
   ],
   "source": [
    "# Creating the linechart\n",
    "suicide_vs_age_linechart= suicide_vs_age_linechart_pipeline.hvplot(x='age',\n",
    "                                                                       y='suicides_no',\n",
    "                                                                       by='country',\n",
    "                                                                       size=80, kind='line',\n",
    "                                                                       alpha=0.7,\n",
    "                                                                       legend=True,\n",
    "                                                                       height=500,\n",
    "                                                                       width=700)\n",
    "suicide_vs_age_linechart"
   ]
  },
  {
   "cell_type": "markdown",
   "id": "dd474605-75fb-4a67-a189-6436855e5840",
   "metadata": {},
   "source": [
    "# Correlated Variable to Suicide Rates\n",
    "+ Build  a scatterplot with Suicide vs GDP\n",
    "+ Show the correlation coefficient for filtered countries"
   ]
  },
  {
   "cell_type": "code",
   "execution_count": 90,
   "id": "1772b2ab-60f8-4545-9e23-30f15cb905df",
   "metadata": {},
   "outputs": [
    {
     "data": {
      "image/png": "[encoded data removed]",
      "text/plain": [
       "<Figure size 648x432 with 1 Axes>"
      ]
     },
     "metadata": {},
     "output_type": "display_data"
    }
   ],
   "source": [
    "#lets see the gdp_per_capita overtime in our filtered countries on a linechart using matplotlib\n",
    "plt.figure(figsize = (9,6))\n",
    "df_gdp = df.groupby([\"country\",\"year\"]).gdp_per_capita.mean()\n",
    "for country in countries:\n",
    "    plt.plot(df_gdp[country].index,df_gdp[country].values, label=country, marker=\"o\")\n",
    "plt.xlabel(\"year\")\n",
    "plt.ylabel(\"gdp_per_capita\")\n",
    "plt.legend()\n",
    "plt.show()"
   ]
  },
  {
   "cell_type": "code",
   "execution_count": 109,
   "id": "81080a46-09e8-47c2-bd75-14d379fea6ec",
   "metadata": {},
   "outputs": [],
   "source": [
    "# Using Panels to build this scatterplo\n",
    "suicide_vs_gdp_scatterplot_pipeline = (\n",
    "    idf[\n",
    "        (idf.year == year_slider) &\n",
    "        (idf.country.isin(countries))\n",
    "    ]\n",
    "    .groupby(['country', 'year', 'gdp_per_capita'])['suicides/100k pop'].sum()\n",
    "    .to_frame()\n",
    "    .reset_index()\n",
    "    .sort_values(by='year')  \n",
    "    .reset_index(drop=True)\n",
    ")"
   ]
  },
  {
   "cell_type": "code",
   "execution_count": 102,
   "id": "6ae0a637-0077-4e3a-a6e9-3eaaed3b4289",
   "metadata": {},
   "outputs": [
    {
     "data": {},
     "metadata": {},
     "output_type": "display_data"
    },
    {
     "data": {
      "application/vnd.holoviews_exec.v0+json": "",
      "text/html": [
       "<div id='9097'>\n",
       "\n",
       "\n",
       "\n",
       "\n",
       "\n",
       "  <div class=\"bk-root\" id=\"c9f4b1fa-602e-4220-9f33-14e656be2db9\" data-root-id=\"9097\"></div>\n",
       "</div>\n",
       "<script type=\"application/javascript\">(function(root) {\n",
       "  function embed_document(root) {\n",
       "    var docs_json = {\"51f51824-d575-4fd5-8962-20166569cdfa\":{\"defs\":[{\"extends\":null,\"module\":null,\"name\":\"ReactiveHTML1\",\"overrides\":[],\"properties\":[]},{\"extends\":null,\"module\":null,\"name\":\"FlexBox1\",\"overrides\":[],\"properties\":[{\"default\":\"flex-start\",\"kind\":null,\"name\":\"align_content\"},{\"default\":\"flex-start\",\"kind\":null,\"name\":\"align_items\"},{\"default\":\"row\",\"kind\":null,\"name\":\"flex_direction\"},{\"default\":\"wrap\",\"kind\":null,\"name\":\"flex_wrap\"},{\"default\":\"flex-start\",\"kind\":null,\"name\":\"justify_content\"}]},{\"extends\":null,\"module\":null,\"name\":\"GridStack1\",\"overrides\":[],\"properties\":[{\"default\":\"warn\",\"kind\":null,\"name\":\"mode\"},{\"default\":null,\"kind\":null,\"name\":\"ncols\"},{\"default\":null,\"kind\":null,\"name\":\"nrows\"},{\"default\":true,\"kind\":null,\"name\":\"allow_resize\"},{\"default\":true,\"kind\":null,\"name\":\"allow_drag\"},{\"default\":[],\"kind\":null,\"name\":\"state\"}]},{\"extends\":null,\"module\":null,\"name\":\"click1\",\"overrides\":[],\"properties\":[{\"default\":\"\",\"kind\":null,\"name\":\"terminal_output\"},{\"default\":\"\",\"kind\":null,\"name\":\"debug_name\"},{\"default\":0,\"kind\":null,\"name\":\"clears\"}]},{\"extends\":null,\"module\":null,\"name\":\"TemplateActions1\",\"overrides\":[],\"properties\":[{\"default\":0,\"kind\":null,\"name\":\"open_modal\"},{\"default\":0,\"kind\":null,\"name\":\"close_modal\"}]},{\"extends\":null,\"module\":null,\"name\":\"MaterialTemplateActions1\",\"overrides\":[],\"properties\":[{\"default\":0,\"kind\":null,\"name\":\"open_modal\"},{\"default\":0,\"kind\":null,\"name\":\"close_modal\"}]}],\"roots\":{\"references\":[{\"attributes\":{\"children\":[{\"id\":\"9099\"},{\"id\":\"9103\"}],\"margin\":[0,0,0,0],\"name\":\"Column39201\"},\"id\":\"9098\",\"type\":\"Column\"},{\"attributes\":{\"end\":2017,\"margin\":[5,10,5,10],\"start\":1987,\"step\":3,\"title\":\"Year slider\",\"value\":2011},\"id\":\"9101\",\"type\":\"Slider\"},{\"attributes\":{\"children\":[{\"id\":\"9101\"}],\"margin\":[0,0,0,0],\"name\":\"Column39166\"},\"id\":\"9100\",\"type\":\"Column\"},{\"attributes\":{\"margin\":[5,5,5,5],\"name\":\"DataFrame39197\",\"text\":\"&lt;table border=&quot;0&quot; class=&quot;dataframe panel-df&quot;&gt;\\n  &lt;thead&gt;\\n    &lt;tr style=&quot;text-align: right;&quot;&gt;\\n      &lt;th&gt;&lt;/th&gt;\\n      &lt;th&gt;country&lt;/th&gt;\\n      &lt;th&gt;year&lt;/th&gt;\\n      &lt;th&gt;gdp_per_capita&lt;/th&gt;\\n      &lt;th&gt;suicides/100k pop&lt;/th&gt;\\n    &lt;/tr&gt;\\n  &lt;/thead&gt;\\n  &lt;tbody&gt;\\n    &lt;tr&gt;\\n      &lt;th&gt;0&lt;/th&gt;\\n      &lt;td&gt;Canada&lt;/td&gt;\\n      &lt;td&gt;2011&lt;/td&gt;\\n      &lt;td&gt;54841&lt;/td&gt;\\n      &lt;td&gt;125.02&lt;/td&gt;\\n    &lt;/tr&gt;\\n    &lt;tr&gt;\\n      &lt;th&gt;1&lt;/th&gt;\\n      &lt;td&gt;Qatar&lt;/td&gt;\\n      &lt;td&gt;2011&lt;/td&gt;\\n      &lt;td&gt;90490&lt;/td&gt;\\n      &lt;td&gt;18.85&lt;/td&gt;\\n    &lt;/tr&gt;\\n    &lt;tr&gt;\\n      &lt;th&gt;2&lt;/th&gt;\\n      &lt;td&gt;Russian Federation&lt;/td&gt;\\n      &lt;td&gt;2011&lt;/td&gt;\\n      &lt;td&gt;15226&lt;/td&gt;\\n      &lt;td&gt;299.68&lt;/td&gt;\\n    &lt;/tr&gt;\\n    &lt;tr&gt;\\n      &lt;th&gt;3&lt;/th&gt;\\n      &lt;td&gt;United Kingdom&lt;/td&gt;\\n      &lt;td&gt;2011&lt;/td&gt;\\n      &lt;td&gt;44491&lt;/td&gt;\\n      &lt;td&gt;78.29&lt;/td&gt;\\n    &lt;/tr&gt;\\n    &lt;tr&gt;\\n      &lt;th&gt;4&lt;/th&gt;\\n      &lt;td&gt;United States&lt;/td&gt;\\n      &lt;td&gt;2011&lt;/td&gt;\\n      &lt;td&gt;53452&lt;/td&gt;\\n      &lt;td&gt;162.36&lt;/td&gt;\\n    &lt;/tr&gt;\\n  &lt;/tbody&gt;\\n&lt;/table&gt;\"},\"id\":\"9104\",\"type\":\"panel.models.markup.HTML\"},{\"attributes\":{\"margin\":[5,5,5,5],\"name\":\"HSpacer39199\",\"sizing_mode\":\"stretch_width\"},\"id\":\"9102\",\"type\":\"Spacer\"},{\"attributes\":{\"client_comm_id\":\"780b3ed6e7db46d6ba1c13d430d44a47\",\"comm_id\":\"6c85089972f544ff9bb5f10101188865\",\"plot_id\":\"9097\"},\"id\":\"9105\",\"type\":\"panel.models.comm_manager.CommManager\"},{\"attributes\":{\"children\":[{\"id\":\"9104\"}],\"margin\":[0,0,0,0],\"name\":\"Row39171\"},\"id\":\"9103\",\"type\":\"Row\"},{\"attributes\":{\"children\":[{\"id\":\"9098\"}],\"margin\":[0,0,0,0],\"name\":\"Row39202\"},\"id\":\"9097\",\"type\":\"Row\"},{\"attributes\":{\"children\":[{\"id\":\"9100\"},{\"id\":\"9102\"}],\"margin\":[0,0,0,0],\"name\":\"Row39200\"},\"id\":\"9099\",\"type\":\"Row\"}],\"root_ids\":[\"9097\",\"9105\"]},\"title\":\"Bokeh Application\",\"version\":\"2.4.2\"}};\n",
       "    var render_items = [{\"docid\":\"51f51824-d575-4fd5-8962-20166569cdfa\",\"root_ids\":[\"9097\"],\"roots\":{\"9097\":\"c9f4b1fa-602e-4220-9f33-14e656be2db9\"}}];\n",
       "    root.Bokeh.embed.embed_items_notebook(docs_json, render_items);\n",
       "  }\n",
       "  if (root.Bokeh !== undefined && root.Bokeh.Panel !== undefined && ( root['Tabulator'] !== undefined)) {\n",
       "    embed_document(root);\n",
       "  } else {\n",
       "    var attempts = 0;\n",
       "    var timer = setInterval(function(root) {\n",
       "      if (root.Bokeh !== undefined && root.Bokeh.Panel !== undefined && (root['Tabulator'] !== undefined)) {\n",
       "        clearInterval(timer);\n",
       "        embed_document(root);\n",
       "      } else if (document.readyState == \"complete\") {\n",
       "        attempts++;\n",
       "        if (attempts > 200) {\n",
       "          clearInterval(timer);\n",
       "          console.log(\"Bokeh: ERROR: Unable to run BokehJS code because BokehJS library is missing\");\n",
       "        }\n",
       "      }\n",
       "    }, 25, root)\n",
       "  }\n",
       "})(window);</script>"
      ],
      "text/plain": [
       "<hvplot.interactive.Interactive at 0x1509c92e670>"
      ]
     },
     "execution_count": 102,
     "metadata": {
      "application/vnd.holoviews_exec.v0+json": {
       "id": "9097"
      }
     },
     "output_type": "execute_result"
    }
   ],
   "source": [
    "suicide_vs_gdp_scatterplot_pipeline"
   ]
  },
  {
   "cell_type": "code",
   "execution_count": 103,
   "id": "156601b2-4bd9-4433-ba1c-2f5574d406f1",
   "metadata": {},
   "outputs": [
    {
     "data": {},
     "metadata": {},
     "output_type": "display_data"
    },
    {
     "data": {},
     "metadata": {},
     "output_type": "display_data"
    },
    {
     "data": {
      "application/vnd.holoviews_exec.v0+json": "",
      "text/html": [
       "<div id='9106'>\n",
       "\n",
       "\n",
       "\n",
       "\n",
       "\n",
       "  <div class=\"bk-root\" id=\"765c0518-87d9-42db-8023-6660877466e5\" data-root-id=\"9106\"></div>\n",
       "</div>\n",
       "<script type=\"application/javascript\">(function(root) {\n",
       "  function embed_document(root) {\n",
       "    var docs_json = {\"ec9365b6-9db3-45fa-8434-c0450370df44\":{\"defs\":[{\"extends\":null,\"module\":null,\"name\":\"ReactiveHTML1\",\"overrides\":[],\"properties\":[]},{\"extends\":null,\"module\":null,\"name\":\"FlexBox1\",\"overrides\":[],\"properties\":[{\"default\":\"flex-start\",\"kind\":null,\"name\":\"align_content\"},{\"default\":\"flex-start\",\"kind\":null,\"name\":\"align_items\"},{\"default\":\"row\",\"kind\":null,\"name\":\"flex_direction\"},{\"default\":\"wrap\",\"kind\":null,\"name\":\"flex_wrap\"},{\"default\":\"flex-start\",\"kind\":null,\"name\":\"justify_content\"}]},{\"extends\":null,\"module\":null,\"name\":\"GridStack1\",\"overrides\":[],\"properties\":[{\"default\":\"warn\",\"kind\":null,\"name\":\"mode\"},{\"default\":null,\"kind\":null,\"name\":\"ncols\"},{\"default\":null,\"kind\":null,\"name\":\"nrows\"},{\"default\":true,\"kind\":null,\"name\":\"allow_resize\"},{\"default\":true,\"kind\":null,\"name\":\"allow_drag\"},{\"default\":[],\"kind\":null,\"name\":\"state\"}]},{\"extends\":null,\"module\":null,\"name\":\"click1\",\"overrides\":[],\"properties\":[{\"default\":\"\",\"kind\":null,\"name\":\"terminal_output\"},{\"default\":\"\",\"kind\":null,\"name\":\"debug_name\"},{\"default\":0,\"kind\":null,\"name\":\"clears\"}]},{\"extends\":null,\"module\":null,\"name\":\"TemplateActions1\",\"overrides\":[],\"properties\":[{\"default\":0,\"kind\":null,\"name\":\"open_modal\"},{\"default\":0,\"kind\":null,\"name\":\"close_modal\"}]},{\"extends\":null,\"module\":null,\"name\":\"MaterialTemplateActions1\",\"overrides\":[],\"properties\":[{\"default\":0,\"kind\":null,\"name\":\"open_modal\"},{\"default\":0,\"kind\":null,\"name\":\"close_modal\"}]}],\"roots\":{\"references\":[{\"attributes\":{},\"id\":\"9272\",\"type\":\"UnionRenderers\"},{\"attributes\":{\"children\":[{\"id\":\"9120\"}],\"margin\":[0,0,0,0],\"name\":\"Row39400\"},\"id\":\"9112\",\"type\":\"Row\"},{\"attributes\":{\"fill_alpha\":{\"value\":0.7},\"fill_color\":{\"value\":\"#8b8b8b\"},\"hatch_alpha\":{\"value\":0.7},\"hatch_color\":{\"value\":\"#8b8b8b\"},\"line_alpha\":{\"value\":0.7},\"line_color\":{\"value\":\"#8b8b8b\"},\"size\":{\"value\":8.94427190999916},\"x\":{\"field\":\"gdp_per_capita\"},\"y\":{\"field\":\"suicides/100k pop\"}},\"id\":\"9252\",\"type\":\"Scatter\"},{\"attributes\":{\"end\":2017,\"margin\":[5,10,5,10],\"start\":1987,\"step\":3,\"title\":\"Year slider\",\"value\":2011},\"id\":\"9110\",\"type\":\"Slider\"},{\"attributes\":{},\"id\":\"9152\",\"type\":\"AllLabels\"},{\"attributes\":{\"label\":{\"value\":\"United States\"},\"renderers\":[{\"id\":\"9255\"}]},\"id\":\"9275\",\"type\":\"LegendItem\"},{\"attributes\":{\"bottom_units\":\"screen\",\"coordinates\":null,\"fill_alpha\":0.5,\"fill_color\":\"lightgrey\",\"group\":null,\"left_units\":\"screen\",\"level\":\"overlay\",\"line_alpha\":1.0,\"line_color\":\"black\",\"line_dash\":[4,4],\"line_width\":2,\"right_units\":\"screen\",\"syncable\":false,\"top_units\":\"screen\"},\"id\":\"9142\",\"type\":\"BoxAnnotation\"},{\"attributes\":{\"margin\":[5,5,5,5],\"name\":\"HSpacer39596\",\"sizing_mode\":\"stretch_width\"},\"id\":\"9111\",\"type\":\"Spacer\"},{\"attributes\":{},\"id\":\"9250\",\"type\":\"Selection\"},{\"attributes\":{\"angle\":{\"value\":0.0},\"fill_alpha\":{\"value\":0.7},\"fill_color\":{\"value\":\"#e5ae38\"},\"hatch_alpha\":{\"value\":0.7},\"hatch_color\":{\"value\":\"#e5ae38\"},\"hatch_scale\":{\"value\":12.0},\"hatch_weight\":{\"value\":1.0},\"line_alpha\":{\"value\":0.7},\"line_cap\":{\"value\":\"butt\"},\"line_color\":{\"value\":\"#e5ae38\"},\"line_dash\":{\"value\":[]},\"line_dash_offset\":{\"value\":0},\"line_join\":{\"value\":\"bevel\"},\"line_width\":{\"value\":1},\"marker\":{\"value\":\"circle\"},\"size\":{\"value\":8.94427190999916},\"x\":{\"field\":\"gdp_per_capita\"},\"y\":{\"field\":\"suicides/100k pop\"}},\"id\":\"9222\",\"type\":\"Scatter\"},{\"attributes\":{\"fill_alpha\":{\"value\":0.7},\"fill_color\":{\"value\":\"#8b8b8b\"},\"hatch_alpha\":{\"value\":0.1},\"hatch_color\":{\"value\":\"#8b8b8b\"},\"line_alpha\":{\"value\":0.7},\"line_color\":{\"value\":\"#8b8b8b\"},\"size\":{\"value\":8.94427190999916},\"x\":{\"field\":\"gdp_per_capita\"},\"y\":{\"field\":\"suicides/100k pop\"}},\"id\":\"9253\",\"type\":\"Scatter\"},{\"attributes\":{\"tools\":[{\"id\":\"9115\"},{\"id\":\"9137\"},{\"id\":\"9138\"},{\"id\":\"9139\"},{\"id\":\"9140\"},{\"id\":\"9141\"}]},\"id\":\"9143\",\"type\":\"Toolbar\"},{\"attributes\":{\"coordinates\":null,\"data_source\":{\"id\":\"9249\"},\"glyph\":{\"id\":\"9252\"},\"group\":null,\"hover_glyph\":null,\"muted_glyph\":{\"id\":\"9254\"},\"nonselection_glyph\":{\"id\":\"9253\"},\"selection_glyph\":{\"id\":\"9276\"},\"view\":{\"id\":\"9256\"}},\"id\":\"9255\",\"type\":\"GlyphRenderer\"},{\"attributes\":{},\"id\":\"9224\",\"type\":\"Selection\"},{\"attributes\":{\"coordinates\":null,\"data_source\":{\"id\":\"9156\"},\"glyph\":{\"id\":\"9159\"},\"group\":null,\"hover_glyph\":null,\"muted_glyph\":{\"id\":\"9161\"},\"nonselection_glyph\":{\"id\":\"9160\"},\"selection_glyph\":{\"id\":\"9176\"},\"view\":{\"id\":\"9163\"}},\"id\":\"9162\",\"type\":\"GlyphRenderer\"},{\"attributes\":{\"source\":{\"id\":\"9249\"}},\"id\":\"9256\",\"type\":\"CDSView\"},{\"attributes\":{\"children\":[{\"id\":\"9110\"}],\"margin\":[0,0,0,0],\"name\":\"Column39395\"},\"id\":\"9109\",\"type\":\"Column\"},{\"attributes\":{},\"id\":\"9154\",\"type\":\"BasicTickFormatter\"},{\"attributes\":{\"source\":{\"id\":\"9223\"}},\"id\":\"9230\",\"type\":\"CDSView\"},{\"attributes\":{},\"id\":\"9151\",\"type\":\"BasicTickFormatter\"},{\"attributes\":{\"fill_alpha\":{\"value\":0.7},\"fill_color\":{\"value\":\"#6d904f\"},\"hatch_alpha\":{\"value\":0.1},\"hatch_color\":{\"value\":\"#6d904f\"},\"line_alpha\":{\"value\":0.7},\"line_color\":{\"value\":\"#6d904f\"},\"size\":{\"value\":8.94427190999916},\"x\":{\"field\":\"gdp_per_capita\"},\"y\":{\"field\":\"suicides/100k pop\"}},\"id\":\"9227\",\"type\":\"Scatter\"},{\"attributes\":{\"fill_alpha\":{\"value\":0.2},\"fill_color\":{\"value\":\"#8b8b8b\"},\"hatch_alpha\":{\"value\":0.2},\"hatch_color\":{\"value\":\"#8b8b8b\"},\"line_alpha\":{\"value\":0.2},\"line_color\":{\"value\":\"#8b8b8b\"},\"size\":{\"value\":8.94427190999916},\"x\":{\"field\":\"gdp_per_capita\"},\"y\":{\"field\":\"suicides/100k pop\"}},\"id\":\"9254\",\"type\":\"Scatter\"},{\"attributes\":{\"children\":[{\"id\":\"9108\"},{\"id\":\"9112\"}],\"margin\":[0,0,0,0],\"name\":\"Column39598\"},\"id\":\"9107\",\"type\":\"Column\"},{\"attributes\":{},\"id\":\"9244\",\"type\":\"UnionRenderers\"},{\"attributes\":{},\"id\":\"9157\",\"type\":\"Selection\"},{\"attributes\":{\"end\":327.76300000000003,\"reset_end\":327.76300000000003,\"reset_start\":-9.232999999999997,\"start\":-9.232999999999997,\"tags\":[[[\"suicides/100k pop\",\"suicides/100k pop\",null]]]},\"id\":\"9114\",\"type\":\"Range1d\"},{\"attributes\":{\"angle\":{\"value\":0.0},\"fill_alpha\":{\"value\":0.7},\"fill_color\":{\"value\":\"#fc4f30\"},\"hatch_alpha\":{\"value\":0.7},\"hatch_color\":{\"value\":\"#fc4f30\"},\"hatch_scale\":{\"value\":12.0},\"hatch_weight\":{\"value\":1.0},\"line_alpha\":{\"value\":0.7},\"line_cap\":{\"value\":\"butt\"},\"line_color\":{\"value\":\"#fc4f30\"},\"line_dash\":{\"value\":[]},\"line_dash_offset\":{\"value\":0},\"line_join\":{\"value\":\"bevel\"},\"line_width\":{\"value\":1},\"marker\":{\"value\":\"circle\"},\"size\":{\"value\":8.94427190999916},\"x\":{\"field\":\"gdp_per_capita\"},\"y\":{\"field\":\"suicides/100k pop\"}},\"id\":\"9198\",\"type\":\"Scatter\"},{\"attributes\":{\"coordinates\":null,\"data_source\":{\"id\":\"9223\"},\"glyph\":{\"id\":\"9226\"},\"group\":null,\"hover_glyph\":null,\"muted_glyph\":{\"id\":\"9228\"},\"nonselection_glyph\":{\"id\":\"9227\"},\"selection_glyph\":{\"id\":\"9248\"},\"view\":{\"id\":\"9230\"}},\"id\":\"9229\",\"type\":\"GlyphRenderer\"},{\"attributes\":{},\"id\":\"9125\",\"type\":\"LinearScale\"},{\"attributes\":{\"fill_alpha\":{\"value\":0.2},\"fill_color\":{\"value\":\"#30a2da\"},\"hatch_alpha\":{\"value\":0.2},\"hatch_color\":{\"value\":\"#30a2da\"},\"line_alpha\":{\"value\":0.2},\"line_color\":{\"value\":\"#30a2da\"},\"size\":{\"value\":8.94427190999916},\"x\":{\"field\":\"gdp_per_capita\"},\"y\":{\"field\":\"suicides/100k pop\"}},\"id\":\"9161\",\"type\":\"Scatter\"},{\"attributes\":{\"source\":{\"id\":\"9156\"}},\"id\":\"9163\",\"type\":\"CDSView\"},{\"attributes\":{},\"id\":\"9200\",\"type\":\"Selection\"},{\"attributes\":{\"label\":{\"value\":\"United Kingdom\"},\"renderers\":[{\"id\":\"9229\"}]},\"id\":\"9247\",\"type\":\"LegendItem\"},{\"attributes\":{\"fill_alpha\":{\"value\":0.7},\"fill_color\":{\"value\":\"#30a2da\"},\"hatch_alpha\":{\"value\":0.7},\"hatch_color\":{\"value\":\"#30a2da\"},\"line_alpha\":{\"value\":0.7},\"line_color\":{\"value\":\"#30a2da\"},\"size\":{\"value\":8.94427190999916},\"x\":{\"field\":\"gdp_per_capita\"},\"y\":{\"field\":\"suicides/100k pop\"}},\"id\":\"9159\",\"type\":\"Scatter\"},{\"attributes\":{\"source\":{\"id\":\"9199\"}},\"id\":\"9206\",\"type\":\"CDSView\"},{\"attributes\":{},\"id\":\"9194\",\"type\":\"UnionRenderers\"},{\"attributes\":{},\"id\":\"9155\",\"type\":\"AllLabels\"},{\"attributes\":{\"data\":{\"country\":[\"United States\"],\"gdp_per_capita\":[53452],\"suicides/100k pop\":{\"__ndarray__\":\"7FG4HoVLZEA=\",\"dtype\":\"float64\",\"order\":\"little\",\"shape\":[1]},\"suicides_over_100k_pop\":{\"__ndarray__\":\"7FG4HoVLZEA=\",\"dtype\":\"float64\",\"order\":\"little\",\"shape\":[1]}},\"selected\":{\"id\":\"9250\"},\"selection_policy\":{\"id\":\"9272\"}},\"id\":\"9249\",\"type\":\"ColumnDataSource\"},{\"attributes\":{\"fill_alpha\":{\"value\":0.7},\"fill_color\":{\"value\":\"#e5ae38\"},\"hatch_alpha\":{\"value\":0.1},\"hatch_color\":{\"value\":\"#e5ae38\"},\"line_alpha\":{\"value\":0.7},\"line_color\":{\"value\":\"#e5ae38\"},\"size\":{\"value\":8.94427190999916},\"x\":{\"field\":\"gdp_per_capita\"},\"y\":{\"field\":\"suicides/100k pop\"}},\"id\":\"9203\",\"type\":\"Scatter\"},{\"attributes\":{\"end\":98016.4,\"reset_end\":98016.4,\"reset_start\":7699.599999999999,\"start\":7699.599999999999,\"tags\":[[[\"gdp_per_capita\",\"gdp_per_capita\",null]]]},\"id\":\"9113\",\"type\":\"Range1d\"},{\"attributes\":{\"fill_alpha\":{\"value\":0.7},\"fill_color\":{\"value\":\"#6d904f\"},\"hatch_alpha\":{\"value\":0.7},\"hatch_color\":{\"value\":\"#6d904f\"},\"line_alpha\":{\"value\":0.7},\"line_color\":{\"value\":\"#6d904f\"},\"size\":{\"value\":8.94427190999916},\"x\":{\"field\":\"gdp_per_capita\"},\"y\":{\"field\":\"suicides/100k pop\"}},\"id\":\"9226\",\"type\":\"Scatter\"},{\"attributes\":{\"label\":{\"value\":\"Canada\"},\"renderers\":[{\"id\":\"9162\"}]},\"id\":\"9175\",\"type\":\"LegendItem\"},{\"attributes\":{\"fill_alpha\":{\"value\":0.2},\"fill_color\":{\"value\":\"#6d904f\"},\"hatch_alpha\":{\"value\":0.2},\"hatch_color\":{\"value\":\"#6d904f\"},\"line_alpha\":{\"value\":0.2},\"line_color\":{\"value\":\"#6d904f\"},\"size\":{\"value\":8.94427190999916},\"x\":{\"field\":\"gdp_per_capita\"},\"y\":{\"field\":\"suicides/100k pop\"}},\"id\":\"9228\",\"type\":\"Scatter\"},{\"attributes\":{\"callback\":null,\"renderers\":[{\"id\":\"9162\"},{\"id\":\"9183\"},{\"id\":\"9205\"},{\"id\":\"9229\"},{\"id\":\"9255\"}],\"tags\":[\"hv_created\"],\"tooltips\":[[\"country\",\"@{country}\"],[\"gdp_per_capita\",\"@{gdp_per_capita}\"],[\"suicides/100k pop\",\"@{suicides_over_100k_pop}\"]]},\"id\":\"9115\",\"type\":\"HoverTool\"},{\"attributes\":{},\"id\":\"9130\",\"type\":\"BasicTicker\"},{\"attributes\":{},\"id\":\"9218\",\"type\":\"UnionRenderers\"},{\"attributes\":{\"angle\":{\"value\":0.0},\"fill_alpha\":{\"value\":0.7},\"fill_color\":{\"value\":\"#30a2da\"},\"hatch_alpha\":{\"value\":0.7},\"hatch_color\":{\"value\":\"#30a2da\"},\"hatch_scale\":{\"value\":12.0},\"hatch_weight\":{\"value\":1.0},\"line_alpha\":{\"value\":0.7},\"line_cap\":{\"value\":\"butt\"},\"line_color\":{\"value\":\"#30a2da\"},\"line_dash\":{\"value\":[]},\"line_dash_offset\":{\"value\":0},\"line_join\":{\"value\":\"bevel\"},\"line_width\":{\"value\":1},\"marker\":{\"value\":\"circle\"},\"size\":{\"value\":8.94427190999916},\"x\":{\"field\":\"gdp_per_capita\"},\"y\":{\"field\":\"suicides/100k pop\"}},\"id\":\"9176\",\"type\":\"Scatter\"},{\"attributes\":{\"coordinates\":null,\"data_source\":{\"id\":\"9199\"},\"glyph\":{\"id\":\"9202\"},\"group\":null,\"hover_glyph\":null,\"muted_glyph\":{\"id\":\"9204\"},\"nonselection_glyph\":{\"id\":\"9203\"},\"selection_glyph\":{\"id\":\"9222\"},\"view\":{\"id\":\"9206\"}},\"id\":\"9205\",\"type\":\"GlyphRenderer\"},{\"attributes\":{\"below\":[{\"id\":\"9129\"}],\"center\":[{\"id\":\"9132\"},{\"id\":\"9136\"}],\"height\":500,\"left\":[{\"id\":\"9133\"}],\"margin\":[5,5,5,5],\"min_border_bottom\":10,\"min_border_left\":10,\"min_border_right\":10,\"min_border_top\":10,\"renderers\":[{\"id\":\"9162\"},{\"id\":\"9183\"},{\"id\":\"9205\"},{\"id\":\"9229\"},{\"id\":\"9255\"}],\"right\":[{\"id\":\"9174\"}],\"sizing_mode\":\"fixed\",\"title\":{\"id\":\"9121\"},\"toolbar\":{\"id\":\"9143\"},\"width\":500,\"x_range\":{\"id\":\"9113\"},\"x_scale\":{\"id\":\"9125\"},\"y_range\":{\"id\":\"9114\"},\"y_scale\":{\"id\":\"9127\"}},\"id\":\"9120\",\"subtype\":\"Figure\",\"type\":\"Plot\"},{\"attributes\":{\"coordinates\":null,\"group\":null,\"text_color\":\"black\",\"text_font_size\":\"12pt\"},\"id\":\"9121\",\"type\":\"Title\"},{\"attributes\":{\"data\":{\"country\":[\"Russian Federation\"],\"gdp_per_capita\":[15226],\"suicides/100k pop\":{\"__ndarray__\":\"exSuR+G6ckA=\",\"dtype\":\"float64\",\"order\":\"little\",\"shape\":[1]},\"suicides_over_100k_pop\":{\"__ndarray__\":\"exSuR+G6ckA=\",\"dtype\":\"float64\",\"order\":\"little\",\"shape\":[1]}},\"selected\":{\"id\":\"9200\"},\"selection_policy\":{\"id\":\"9218\"}},\"id\":\"9199\",\"type\":\"ColumnDataSource\"},{\"attributes\":{},\"id\":\"9171\",\"type\":\"UnionRenderers\"},{\"attributes\":{},\"id\":\"9138\",\"type\":\"PanTool\"},{\"attributes\":{\"label\":{\"value\":\"Russian Federation\"},\"renderers\":[{\"id\":\"9205\"}]},\"id\":\"9221\",\"type\":\"LegendItem\"},{\"attributes\":{\"angle\":{\"value\":0.0},\"fill_alpha\":{\"value\":0.7},\"fill_color\":{\"value\":\"#8b8b8b\"},\"hatch_alpha\":{\"value\":0.7},\"hatch_color\":{\"value\":\"#8b8b8b\"},\"hatch_scale\":{\"value\":12.0},\"hatch_weight\":{\"value\":1.0},\"line_alpha\":{\"value\":0.7},\"line_cap\":{\"value\":\"butt\"},\"line_color\":{\"value\":\"#8b8b8b\"},\"line_dash\":{\"value\":[]},\"line_dash_offset\":{\"value\":0},\"line_join\":{\"value\":\"bevel\"},\"line_width\":{\"value\":1},\"marker\":{\"value\":\"circle\"},\"size\":{\"value\":8.94427190999916},\"x\":{\"field\":\"gdp_per_capita\"},\"y\":{\"field\":\"suicides/100k pop\"}},\"id\":\"9276\",\"type\":\"Scatter\"},{\"attributes\":{\"source\":{\"id\":\"9177\"}},\"id\":\"9184\",\"type\":\"CDSView\"},{\"attributes\":{\"data\":{\"country\":[\"United Kingdom\"],\"gdp_per_capita\":[44491],\"suicides/100k pop\":{\"__ndarray__\":\"w/UoXI+SU0A=\",\"dtype\":\"float64\",\"order\":\"little\",\"shape\":[1]},\"suicides_over_100k_pop\":{\"__ndarray__\":\"w/UoXI+SU0A=\",\"dtype\":\"float64\",\"order\":\"little\",\"shape\":[1]}},\"selected\":{\"id\":\"9224\"},\"selection_policy\":{\"id\":\"9244\"}},\"id\":\"9223\",\"type\":\"ColumnDataSource\"},{\"attributes\":{\"fill_alpha\":{\"value\":0.7},\"fill_color\":{\"value\":\"#e5ae38\"},\"hatch_alpha\":{\"value\":0.7},\"hatch_color\":{\"value\":\"#e5ae38\"},\"line_alpha\":{\"value\":0.7},\"line_color\":{\"value\":\"#e5ae38\"},\"size\":{\"value\":8.94427190999916},\"x\":{\"field\":\"gdp_per_capita\"},\"y\":{\"field\":\"suicides/100k pop\"}},\"id\":\"9202\",\"type\":\"Scatter\"},{\"attributes\":{\"axis_label\":\"gdp_per_capita\",\"coordinates\":null,\"formatter\":{\"id\":\"9151\"},\"group\":null,\"major_label_policy\":{\"id\":\"9152\"},\"ticker\":{\"id\":\"9130\"}},\"id\":\"9129\",\"type\":\"LinearAxis\"},{\"attributes\":{\"fill_alpha\":{\"value\":0.7},\"fill_color\":{\"value\":\"#fc4f30\"},\"hatch_alpha\":{\"value\":0.1},\"hatch_color\":{\"value\":\"#fc4f30\"},\"line_alpha\":{\"value\":0.7},\"line_color\":{\"value\":\"#fc4f30\"},\"size\":{\"value\":8.94427190999916},\"x\":{\"field\":\"gdp_per_capita\"},\"y\":{\"field\":\"suicides/100k pop\"}},\"id\":\"9181\",\"type\":\"Scatter\"},{\"attributes\":{\"children\":[{\"id\":\"9107\"}],\"margin\":[0,0,0,0],\"name\":\"Row39599\"},\"id\":\"9106\",\"type\":\"Row\"},{\"attributes\":{\"axis\":{\"id\":\"9133\"},\"coordinates\":null,\"dimension\":1,\"grid_line_color\":null,\"group\":null,\"ticker\":null},\"id\":\"9136\",\"type\":\"Grid\"},{\"attributes\":{\"data\":{\"country\":[\"Canada\"],\"gdp_per_capita\":[54841],\"suicides/100k pop\":{\"__ndarray__\":\"4XoUrkdBX0A=\",\"dtype\":\"float64\",\"order\":\"little\",\"shape\":[1]},\"suicides_over_100k_pop\":{\"__ndarray__\":\"4XoUrkdBX0A=\",\"dtype\":\"float64\",\"order\":\"little\",\"shape\":[1]}},\"selected\":{\"id\":\"9157\"},\"selection_policy\":{\"id\":\"9171\"}},\"id\":\"9156\",\"type\":\"ColumnDataSource\"},{\"attributes\":{},\"id\":\"9127\",\"type\":\"LinearScale\"},{\"attributes\":{\"fill_alpha\":{\"value\":0.2},\"fill_color\":{\"value\":\"#e5ae38\"},\"hatch_alpha\":{\"value\":0.2},\"hatch_color\":{\"value\":\"#e5ae38\"},\"line_alpha\":{\"value\":0.2},\"line_color\":{\"value\":\"#e5ae38\"},\"size\":{\"value\":8.94427190999916},\"x\":{\"field\":\"gdp_per_capita\"},\"y\":{\"field\":\"suicides/100k pop\"}},\"id\":\"9204\",\"type\":\"Scatter\"},{\"attributes\":{},\"id\":\"9137\",\"type\":\"SaveTool\"},{\"attributes\":{},\"id\":\"9134\",\"type\":\"BasicTicker\"},{\"attributes\":{\"axis\":{\"id\":\"9129\"},\"coordinates\":null,\"grid_line_color\":null,\"group\":null,\"ticker\":null},\"id\":\"9132\",\"type\":\"Grid\"},{\"attributes\":{\"client_comm_id\":\"a3456ef7a880476a875a792350fe7d3e\",\"comm_id\":\"b6ed92dfa3fe4e7da91240bb954ebb60\",\"plot_id\":\"9106\"},\"id\":\"9493\",\"type\":\"panel.models.comm_manager.CommManager\"},{\"attributes\":{},\"id\":\"9139\",\"type\":\"WheelZoomTool\"},{\"attributes\":{\"children\":[{\"id\":\"9109\"},{\"id\":\"9111\"}],\"margin\":[0,0,0,0],\"name\":\"Row39597\"},\"id\":\"9108\",\"type\":\"Row\"},{\"attributes\":{\"axis_label\":\"suicides/100k pop\",\"coordinates\":null,\"formatter\":{\"id\":\"9154\"},\"group\":null,\"major_label_policy\":{\"id\":\"9155\"},\"ticker\":{\"id\":\"9134\"}},\"id\":\"9133\",\"type\":\"LinearAxis\"},{\"attributes\":{},\"id\":\"9178\",\"type\":\"Selection\"},{\"attributes\":{\"click_policy\":\"mute\",\"coordinates\":null,\"group\":null,\"items\":[{\"id\":\"9175\"},{\"id\":\"9197\"},{\"id\":\"9221\"},{\"id\":\"9247\"},{\"id\":\"9275\"}],\"location\":[0,0],\"title\":\"country\"},\"id\":\"9174\",\"type\":\"Legend\"},{\"attributes\":{\"overlay\":{\"id\":\"9142\"}},\"id\":\"9140\",\"type\":\"BoxZoomTool\"},{\"attributes\":{},\"id\":\"9141\",\"type\":\"ResetTool\"},{\"attributes\":{\"data\":{\"country\":[\"Qatar\"],\"gdp_per_capita\":[90490],\"suicides/100k pop\":{\"__ndarray__\":\"mpmZmZnZMkA=\",\"dtype\":\"float64\",\"order\":\"little\",\"shape\":[1]},\"suicides_over_100k_pop\":{\"__ndarray__\":\"mpmZmZnZMkA=\",\"dtype\":\"float64\",\"order\":\"little\",\"shape\":[1]}},\"selected\":{\"id\":\"9178\"},\"selection_policy\":{\"id\":\"9194\"}},\"id\":\"9177\",\"type\":\"ColumnDataSource\"},{\"attributes\":{\"label\":{\"value\":\"Qatar\"},\"renderers\":[{\"id\":\"9183\"}]},\"id\":\"9197\",\"type\":\"LegendItem\"},{\"attributes\":{\"coordinates\":null,\"data_source\":{\"id\":\"9177\"},\"glyph\":{\"id\":\"9180\"},\"group\":null,\"hover_glyph\":null,\"muted_glyph\":{\"id\":\"9182\"},\"nonselection_glyph\":{\"id\":\"9181\"},\"selection_glyph\":{\"id\":\"9198\"},\"view\":{\"id\":\"9184\"}},\"id\":\"9183\",\"type\":\"GlyphRenderer\"},{\"attributes\":{\"fill_alpha\":{\"value\":0.7},\"fill_color\":{\"value\":\"#30a2da\"},\"hatch_alpha\":{\"value\":0.1},\"hatch_color\":{\"value\":\"#30a2da\"},\"line_alpha\":{\"value\":0.7},\"line_color\":{\"value\":\"#30a2da\"},\"size\":{\"value\":8.94427190999916},\"x\":{\"field\":\"gdp_per_capita\"},\"y\":{\"field\":\"suicides/100k pop\"}},\"id\":\"9160\",\"type\":\"Scatter\"},{\"attributes\":{\"angle\":{\"value\":0.0},\"fill_alpha\":{\"value\":0.7},\"fill_color\":{\"value\":\"#6d904f\"},\"hatch_alpha\":{\"value\":0.7},\"hatch_color\":{\"value\":\"#6d904f\"},\"hatch_scale\":{\"value\":12.0},\"hatch_weight\":{\"value\":1.0},\"line_alpha\":{\"value\":0.7},\"line_cap\":{\"value\":\"butt\"},\"line_color\":{\"value\":\"#6d904f\"},\"line_dash\":{\"value\":[]},\"line_dash_offset\":{\"value\":0},\"line_join\":{\"value\":\"bevel\"},\"line_width\":{\"value\":1},\"marker\":{\"value\":\"circle\"},\"size\":{\"value\":8.94427190999916},\"x\":{\"field\":\"gdp_per_capita\"},\"y\":{\"field\":\"suicides/100k pop\"}},\"id\":\"9248\",\"type\":\"Scatter\"},{\"attributes\":{\"fill_alpha\":{\"value\":0.7},\"fill_color\":{\"value\":\"#fc4f30\"},\"hatch_alpha\":{\"value\":0.7},\"hatch_color\":{\"value\":\"#fc4f30\"},\"line_alpha\":{\"value\":0.7},\"line_color\":{\"value\":\"#fc4f30\"},\"size\":{\"value\":8.94427190999916},\"x\":{\"field\":\"gdp_per_capita\"},\"y\":{\"field\":\"suicides/100k pop\"}},\"id\":\"9180\",\"type\":\"Scatter\"},{\"attributes\":{\"fill_alpha\":{\"value\":0.2},\"fill_color\":{\"value\":\"#fc4f30\"},\"hatch_alpha\":{\"value\":0.2},\"hatch_color\":{\"value\":\"#fc4f30\"},\"line_alpha\":{\"value\":0.2},\"line_color\":{\"value\":\"#fc4f30\"},\"size\":{\"value\":8.94427190999916},\"x\":{\"field\":\"gdp_per_capita\"},\"y\":{\"field\":\"suicides/100k pop\"}},\"id\":\"9182\",\"type\":\"Scatter\"}],\"root_ids\":[\"9106\",\"9493\"]},\"title\":\"Bokeh Application\",\"version\":\"2.4.2\"}};\n",
       "    var render_items = [{\"docid\":\"ec9365b6-9db3-45fa-8434-c0450370df44\",\"root_ids\":[\"9106\"],\"roots\":{\"9106\":\"765c0518-87d9-42db-8023-6660877466e5\"}}];\n",
       "    root.Bokeh.embed.embed_items_notebook(docs_json, render_items);\n",
       "  }\n",
       "  if (root.Bokeh !== undefined && root.Bokeh.Panel !== undefined && ( root['Tabulator'] !== undefined)) {\n",
       "    embed_document(root);\n",
       "  } else {\n",
       "    var attempts = 0;\n",
       "    var timer = setInterval(function(root) {\n",
       "      if (root.Bokeh !== undefined && root.Bokeh.Panel !== undefined && (root['Tabulator'] !== undefined)) {\n",
       "        clearInterval(timer);\n",
       "        embed_document(root);\n",
       "      } else if (document.readyState == \"complete\") {\n",
       "        attempts++;\n",
       "        if (attempts > 200) {\n",
       "          clearInterval(timer);\n",
       "          console.log(\"Bokeh: ERROR: Unable to run BokehJS code because BokehJS library is missing\");\n",
       "        }\n",
       "      }\n",
       "    }, 25, root)\n",
       "  }\n",
       "})(window);</script>"
      ],
      "text/plain": [
       "<hvplot.interactive.Interactive at 0x1509e087af0>"
      ]
     },
     "execution_count": 103,
     "metadata": {
      "application/vnd.holoviews_exec.v0+json": {
       "id": "9106"
      }
     },
     "output_type": "execute_result"
    }
   ],
   "source": [
    "suicide_vs_gdp_scatterplot = suicide_vs_gdp_scatterplot_pipeline.hvplot(x='gdp_per_capita', \n",
    "                                                                y='suicides/100k pop', \n",
    "                                                                by='country', \n",
    "                                                                size=80, kind=\"scatter\", \n",
    "                                                                alpha=0.7,\n",
    "                                                                legend=True, \n",
    "                                                                height=500, \n",
    "                                                                width=500)\n",
    "suicide_vs_gdp_scatterplot"
   ]
  },
  {
   "cell_type": "code",
   "execution_count": null,
   "id": "3cf9fa04-d28b-472c-8cf4-6493e6fbfd15",
   "metadata": {},
   "outputs": [],
   "source": []
  },
  {
   "cell_type": "code",
   "execution_count": 107,
   "id": "d018aad9-c76e-4bfe-915a-5bb171486d02",
   "metadata": {},
   "outputs": [
    {
     "data": {
      "image/png": "[encoded data removed]",
      "text/plain": [
       "<Figure size 432x288 with 1 Axes>"
      ]
     },
     "metadata": {},
     "output_type": "display_data"
    }
   ],
   "source": [
    "corr_eff = {}\n",
    "for country in countries:\n",
    "    slope, intercept, r_value, p_value, std_err = stats.linregress(df_gdp[country].values,df_gdp[country].index)\n",
    "    corr_eff[country] = float(r_value)\n",
    "    \n",
    "sn.barplot(x=list(corr_eff.keys()), y=list(corr_eff.values()), palette = \"YlOrRd\")\n",
    "plt.xticks(rotation = 90)\n",
    "plt.xlabel(\"Country\")\n",
    "plt.ylabel(\"correlation coeff.\")\n",
    "plt.title(\"GDP vs suicides\")\n",
    "plt.show()"
   ]
  },
  {
   "cell_type": "code",
   "execution_count": null,
   "id": "fed50eb7-2ef1-49ef-8902-30ad0d1cd034",
   "metadata": {},
   "outputs": [],
   "source": []
  }
 ],
 "metadata": {
  "kernelspec": {
   "display_name": "Python 3 (ipykernel)",
   "language": "python",
   "name": "python3"
  },
  "language_info": {
   "codemirror_mode": {
    "name": "ipython",
    "version": 3
   },
   "file_extension": ".py",
   "mimetype": "text/x-python",
   "name": "python",
   "nbconvert_exporter": "python",
   "pygments_lexer": "ipython3",
   "version": "3.9.12"
  }
 },
 "nbformat": 4,
 "nbformat_minor": 5
}
